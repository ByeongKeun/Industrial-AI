{
  "nbformat": 4,
  "nbformat_minor": 0,
  "metadata": {
    "colab": {
      "name": "Untitled1.ipynb",
      "provenance": [],
      "authorship_tag": "ABX9TyN5gg6IK05TRdWrQ1UfAhbW",
      "include_colab_link": true
    },
    "kernelspec": {
      "name": "python3",
      "display_name": "Python 3"
    }
  },
  "cells": [
    {
      "cell_type": "markdown",
      "metadata": {
        "id": "view-in-github",
        "colab_type": "text"
      },
      "source": [
        "<a href=\"https://colab.research.google.com/github/ByeongKeun/Industrial-AI/blob/master/%EC%82%B0%EC%97%85%EC%9D%B8%EA%B3%B5%EC%A7%80%EB%8A%A5%EA%B0%9C%EB%A1%A0/%EC%8B%A4%EC%8A%B5/%EB%93%B1%EC%82%B0%EC%8B%9C%EA%B0%84%EA%B3%84%EC%82%B0.ipynb\" target=\"_parent\"><img src=\"https://colab.research.google.com/assets/colab-badge.svg\" alt=\"Open In Colab\"/></a>"
      ]
    },
    {
      "cell_type": "code",
      "metadata": {
        "colab": {
          "base_uri": "https://localhost:8080/"
        },
        "id": "aHUv49ZuyW2U",
        "outputId": "f80ee4d3-17c3-4a59-bd80-e09efdfa4266"
      },
      "source": [
        "from math import *\r\n",
        "time1 = 10/20\r\n",
        "hill = sqrt(3**2+4**2)\r\n",
        "time2 = hill/10\r\n",
        "time3 = hill/30\r\n",
        "time4 = 8/20\r\n",
        "total = time1+time2+time3+time4\r\n",
        "print(total)"
      ],
      "execution_count": 5,
      "outputs": [
        {
          "output_type": "stream",
          "text": [
            "1.5666666666666669\n"
          ],
          "name": "stdout"
        }
      ]
    }
  ]
}