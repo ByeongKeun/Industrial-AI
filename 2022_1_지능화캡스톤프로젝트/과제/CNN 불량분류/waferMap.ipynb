{
  "cells": [
    {
      "cell_type": "markdown",
      "metadata": {
        "id": "view-in-github",
        "colab_type": "text"
      },
      "source": [
        "<a href=\"https://colab.research.google.com/github/ByeongKeun/Industrial-AI/blob/master/2022_1_%EC%A7%80%EB%8A%A5%ED%99%94%EC%BA%A1%EC%8A%A4%ED%86%A4%ED%94%84%EB%A1%9C%EC%A0%9D%ED%8A%B8/%EA%B3%BC%EC%A0%9C/CNN%20%EB%B6%88%EB%9F%89%EB%B6%84%EB%A5%98/waferMap.ipynb\" target=\"_parent\"><img src=\"https://colab.research.google.com/assets/colab-badge.svg\" alt=\"Open In Colab\"/></a>"
      ]
    },
    {
      "cell_type": "code",
      "execution_count": null,
      "metadata": {
        "id": "fxPdhbDtxSO-"
      },
      "outputs": [],
      "source": [
        "#library import - tensorflow/keras/sklearn/matplotlib\n",
        "import os\n",
        "from os.path import join\n",
        "\n",
        "import numpy as np\n",
        "import pandas as pd\n",
        "\n",
        "import tensorflow as tf\n",
        "import keras\n",
        "from keras import layers, Input, models\n",
        "from tensorflow.keras.utils import to_categorical\n",
        "from keras.wrappers.scikit_learn import KerasClassifier \n",
        "\n",
        "from sklearn.model_selection import KFold \n",
        "from sklearn.model_selection import cross_val_score\n",
        "\n",
        "from sklearn.model_selection import train_test_split\n",
        "\n",
        "import matplotlib.pyplot as plt"
      ]
    },
    {
      "cell_type": "code",
      "execution_count": null,
      "metadata": {
        "id": "29xUo1YcxSPB",
        "outputId": "b7d238db-493d-40ba-941c-39be006b7ad7"
      },
      "outputs": [
        {
          "name": "stdout",
          "output_type": "stream",
          "text": [
            "['archive.zip', 'LSWMD.pkl', 'LSWMD.pkl.zip', 'WaferMap']\n"
          ]
        }
      ],
      "source": [
        "#dataset 구성\n",
        "datapath = join('data', 'wafer')\n",
        "url = \"E:/WaferMap\"\n",
        "#print(os.listdir(url))  #dir list\n",
        "\n",
        "#경고 메시지 끄기(ignore), 켜기(default)\n",
        "import warnings\n",
        "warnings.filterwarnings(\"ignore\")\n",
        "\n",
        "#read pickle 파일\n",
        "#https://www.kaggle.com/code/kcs93023/keras-wafer-classification-cnn2d-with-augmentation/data\n",
        "df=pd.read_pickle(url+\"/LSWMD.pkl\")\n"
      ]
    },
    {
      "cell_type": "markdown",
      "metadata": {
        "id": "rQOYMUFFxSPD"
      },
      "source": [
        "> pickle 파일구성 (이미 학습할 수 있도록, 분류가 된 파일)\n",
        " - waferMap file 개수: 811,457 rows(2차원 행렬 data, 행*열=waferMapDim에 있음)\n",
        " - 6개 컬럼(wafer map, die size, lot name, index, T/T type, failType) \n",
        "  --> failuretype: 불량 유형 (none, edge-ring...)\n",
        "\n",
        "\n",
        "> 데이터 구성\n",
        "\n",
        "```\n",
        "# none_label: 638,507 - 78.7%\n",
        "# label: 172,950 - 21.3%   \n",
        "   - ng: 25,519 \t14.8%(3.1%) --> 불량 항목 별로도 데이터 불균형\n",
        "   - ok: 147,431 \t85.2%(18.2%)\n",
        "```"
      ]
    },
    {
      "cell_type": "code",
      "execution_count": null,
      "metadata": {
        "id": "VhiUEtgkxSPE",
        "outputId": "99ac0e5f-e79c-4c03-e9fd-5ab3b9bdf459"
      },
      "outputs": [
        {
          "name": "stdout",
          "output_type": "stream",
          "text": [
            "<class 'pandas.core.frame.DataFrame'>\n",
            "RangeIndex: 811457 entries, 0 to 811456\n",
            "Data columns (total 6 columns):\n",
            " #   Column          Non-Null Count   Dtype  \n",
            "---  ------          --------------   -----  \n",
            " 0   waferMap        811457 non-null  object \n",
            " 1   dieSize         811457 non-null  float64\n",
            " 2   lotName         811457 non-null  object \n",
            " 3   trianTestLabel  811457 non-null  object \n",
            " 4   failureType     811457 non-null  object \n",
            " 5   waferMapDim     811457 non-null  object \n",
            "dtypes: float64(1), object(5)\n",
            "memory usage: 37.1+ MB\n"
          ]
        }
      ],
      "source": [
        "#data file 정보\n",
        "df.info()"
      ]
    },
    {
      "cell_type": "code",
      "execution_count": null,
      "metadata": {
        "id": "_bd2sZ7cxSPF",
        "outputId": "d546c6e0-6d48-458e-cfe6-e84dfc405821"
      },
      "outputs": [
        {
          "data": {
            "text/html": [
              "<div>\n",
              "<style scoped>\n",
              "    .dataframe tbody tr th:only-of-type {\n",
              "        vertical-align: middle;\n",
              "    }\n",
              "\n",
              "    .dataframe tbody tr th {\n",
              "        vertical-align: top;\n",
              "    }\n",
              "\n",
              "    .dataframe thead th {\n",
              "        text-align: right;\n",
              "    }\n",
              "</style>\n",
              "<table border=\"1\" class=\"dataframe\">\n",
              "  <thead>\n",
              "    <tr style=\"text-align: right;\">\n",
              "      <th></th>\n",
              "      <th>waferMap</th>\n",
              "      <th>dieSize</th>\n",
              "      <th>lotName</th>\n",
              "      <th>trianTestLabel</th>\n",
              "      <th>failureType</th>\n",
              "      <th>waferMapDim</th>\n",
              "    </tr>\n",
              "  </thead>\n",
              "  <tbody>\n",
              "    <tr>\n",
              "      <th>0</th>\n",
              "      <td>[[0, 0, 0, 0, 0, 0, 0, 0, 0, 0, 0, 0, 0, 0, 0,...</td>\n",
              "      <td>1683.0</td>\n",
              "      <td>lot1</td>\n",
              "      <td>[[Training]]</td>\n",
              "      <td>[[none]]</td>\n",
              "      <td>(45, 48)</td>\n",
              "    </tr>\n",
              "    <tr>\n",
              "      <th>1</th>\n",
              "      <td>[[0, 0, 0, 0, 0, 0, 0, 0, 0, 0, 0, 0, 0, 0, 0,...</td>\n",
              "      <td>1683.0</td>\n",
              "      <td>lot1</td>\n",
              "      <td>[[Training]]</td>\n",
              "      <td>[[none]]</td>\n",
              "      <td>(45, 48)</td>\n",
              "    </tr>\n",
              "    <tr>\n",
              "      <th>2</th>\n",
              "      <td>[[0, 0, 0, 0, 0, 0, 0, 0, 0, 0, 0, 0, 0, 0, 0,...</td>\n",
              "      <td>1683.0</td>\n",
              "      <td>lot1</td>\n",
              "      <td>[[Training]]</td>\n",
              "      <td>[[none]]</td>\n",
              "      <td>(45, 48)</td>\n",
              "    </tr>\n",
              "    <tr>\n",
              "      <th>3</th>\n",
              "      <td>[[0, 0, 0, 0, 0, 0, 0, 0, 0, 0, 0, 0, 0, 0, 0,...</td>\n",
              "      <td>1683.0</td>\n",
              "      <td>lot1</td>\n",
              "      <td>[[Training]]</td>\n",
              "      <td>[[none]]</td>\n",
              "      <td>(45, 48)</td>\n",
              "    </tr>\n",
              "    <tr>\n",
              "      <th>4</th>\n",
              "      <td>[[0, 0, 0, 0, 0, 0, 0, 0, 0, 0, 0, 0, 0, 0, 0,...</td>\n",
              "      <td>1683.0</td>\n",
              "      <td>lot1</td>\n",
              "      <td>[[Training]]</td>\n",
              "      <td>[[none]]</td>\n",
              "      <td>(45, 48)</td>\n",
              "    </tr>\n",
              "  </tbody>\n",
              "</table>\n",
              "</div>"
            ],
            "text/plain": [
              "                                            waferMap  dieSize lotName  \\\n",
              "0  [[0, 0, 0, 0, 0, 0, 0, 0, 0, 0, 0, 0, 0, 0, 0,...   1683.0    lot1   \n",
              "1  [[0, 0, 0, 0, 0, 0, 0, 0, 0, 0, 0, 0, 0, 0, 0,...   1683.0    lot1   \n",
              "2  [[0, 0, 0, 0, 0, 0, 0, 0, 0, 0, 0, 0, 0, 0, 0,...   1683.0    lot1   \n",
              "3  [[0, 0, 0, 0, 0, 0, 0, 0, 0, 0, 0, 0, 0, 0, 0,...   1683.0    lot1   \n",
              "4  [[0, 0, 0, 0, 0, 0, 0, 0, 0, 0, 0, 0, 0, 0, 0,...   1683.0    lot1   \n",
              "\n",
              "  trianTestLabel failureType waferMapDim  \n",
              "0   [[Training]]    [[none]]    (45, 48)  \n",
              "1   [[Training]]    [[none]]    (45, 48)  \n",
              "2   [[Training]]    [[none]]    (45, 48)  \n",
              "3   [[Training]]    [[none]]    (45, 48)  \n",
              "4   [[Training]]    [[none]]    (45, 48)  "
            ]
          },
          "execution_count": 66,
          "metadata": {},
          "output_type": "execute_result"
        }
      ],
      "source": [
        "#해더 내용\n",
        "df.head()"
      ]
    },
    {
      "cell_type": "code",
      "execution_count": null,
      "metadata": {
        "id": "QuZOSIuLxSPF",
        "outputId": "3851e340-b559-4b11-d88d-a72dabc6b711"
      },
      "outputs": [
        {
          "data": {
            "text/html": [
              "<div>\n",
              "<style scoped>\n",
              "    .dataframe tbody tr th:only-of-type {\n",
              "        vertical-align: middle;\n",
              "    }\n",
              "\n",
              "    .dataframe tbody tr th {\n",
              "        vertical-align: top;\n",
              "    }\n",
              "\n",
              "    .dataframe thead th {\n",
              "        text-align: right;\n",
              "    }\n",
              "</style>\n",
              "<table border=\"1\" class=\"dataframe\">\n",
              "  <thead>\n",
              "    <tr style=\"text-align: right;\">\n",
              "      <th></th>\n",
              "      <th>waferMap</th>\n",
              "      <th>dieSize</th>\n",
              "      <th>lotName</th>\n",
              "      <th>trianTestLabel</th>\n",
              "      <th>failureType</th>\n",
              "      <th>waferMapDim</th>\n",
              "    </tr>\n",
              "  </thead>\n",
              "  <tbody>\n",
              "    <tr>\n",
              "      <th>811452</th>\n",
              "      <td>[[0, 0, 0, 0, 0, 0, 0, 0, 0, 0, 0, 1, 2, 1, 1,...</td>\n",
              "      <td>600.0</td>\n",
              "      <td>lot47542</td>\n",
              "      <td>[[Test]]</td>\n",
              "      <td>[[Edge-Ring]]</td>\n",
              "      <td>(26, 30)</td>\n",
              "    </tr>\n",
              "    <tr>\n",
              "      <th>811453</th>\n",
              "      <td>[[0, 0, 0, 0, 0, 0, 0, 0, 0, 0, 0, 2, 2, 1, 1,...</td>\n",
              "      <td>600.0</td>\n",
              "      <td>lot47542</td>\n",
              "      <td>[[Test]]</td>\n",
              "      <td>[[Edge-Loc]]</td>\n",
              "      <td>(26, 30)</td>\n",
              "    </tr>\n",
              "    <tr>\n",
              "      <th>811454</th>\n",
              "      <td>[[0, 0, 0, 0, 0, 0, 0, 0, 0, 0, 0, 1, 2, 1, 1,...</td>\n",
              "      <td>600.0</td>\n",
              "      <td>lot47542</td>\n",
              "      <td>[[Test]]</td>\n",
              "      <td>[[Edge-Ring]]</td>\n",
              "      <td>(26, 30)</td>\n",
              "    </tr>\n",
              "    <tr>\n",
              "      <th>811455</th>\n",
              "      <td>[[0, 0, 0, 0, 0, 0, 0, 0, 0, 0, 0, 1, 1, 1, 1,...</td>\n",
              "      <td>600.0</td>\n",
              "      <td>lot47543</td>\n",
              "      <td>[]</td>\n",
              "      <td>[]</td>\n",
              "      <td>(26, 30)</td>\n",
              "    </tr>\n",
              "    <tr>\n",
              "      <th>811456</th>\n",
              "      <td>[[0, 0, 0, 0, 0, 0, 0, 0, 0, 0, 0, 1, 2, 1, 1,...</td>\n",
              "      <td>600.0</td>\n",
              "      <td>lot47543</td>\n",
              "      <td>[]</td>\n",
              "      <td>[]</td>\n",
              "      <td>(26, 30)</td>\n",
              "    </tr>\n",
              "  </tbody>\n",
              "</table>\n",
              "</div>"
            ],
            "text/plain": [
              "                                                 waferMap  dieSize   lotName  \\\n",
              "811452  [[0, 0, 0, 0, 0, 0, 0, 0, 0, 0, 0, 1, 2, 1, 1,...    600.0  lot47542   \n",
              "811453  [[0, 0, 0, 0, 0, 0, 0, 0, 0, 0, 0, 2, 2, 1, 1,...    600.0  lot47542   \n",
              "811454  [[0, 0, 0, 0, 0, 0, 0, 0, 0, 0, 0, 1, 2, 1, 1,...    600.0  lot47542   \n",
              "811455  [[0, 0, 0, 0, 0, 0, 0, 0, 0, 0, 0, 1, 1, 1, 1,...    600.0  lot47543   \n",
              "811456  [[0, 0, 0, 0, 0, 0, 0, 0, 0, 0, 0, 1, 2, 1, 1,...    600.0  lot47543   \n",
              "\n",
              "       trianTestLabel    failureType waferMapDim  \n",
              "811452       [[Test]]  [[Edge-Ring]]    (26, 30)  \n",
              "811453       [[Test]]   [[Edge-Loc]]    (26, 30)  \n",
              "811454       [[Test]]  [[Edge-Ring]]    (26, 30)  \n",
              "811455             []             []    (26, 30)  \n",
              "811456             []             []    (26, 30)  "
            ]
          },
          "execution_count": 65,
          "metadata": {},
          "output_type": "execute_result"
        }
      ],
      "source": [
        "#tail 내용\n",
        "df.tail()"
      ]
    },
    {
      "cell_type": "code",
      "execution_count": null,
      "metadata": {
        "id": "uH4zWe1lxSPG"
      },
      "outputs": [],
      "source": [
        "#csv 파일로도 한번 받아 봄(583mb)\n",
        "df.to_csv(path_or_buf = 'wafermap.csv', \\\n",
        "           sep=str(','), header=True, index=True, mode='w', encoding='CP949')"
      ]
    },
    {
      "cell_type": "code",
      "execution_count": null,
      "metadata": {
        "id": "F3ltJruPxSPG",
        "outputId": "735bd70d-f2c9-459e-85b1-2c1f38995af2"
      },
      "outputs": [
        {
          "data": {
            "image/png": "[encoded data removed]",
            "text/plain": [
              "<Figure size 432x288 with 1 Axes>"
            ]
          },
          "metadata": {
            "needs_background": "light"
          },
          "output_type": "display_data"
        }
      ],
      "source": [
        "# 1lot = 25장 wafer인데(1lot / wafer index = 1~25)\n",
        "# lot의 wafer index 별로 보면, 없는 데이터도 존재 함\n",
        "import matplotlib.pyplot as plt\n",
        "\n",
        "uni_Index=np.unique(df.waferIndex, return_counts=True)\n",
        "plt.bar(uni_Index[0],uni_Index[1], color='gold', align='center', alpha=0.5)\n",
        "plt.title(\"wafer Index distribution\")\n",
        "plt.xlabel(\"index #\")\n",
        "plt.ylabel(\"frequency\")\n",
        "plt.xlim(0,26)\n",
        "plt.ylim(30000,34000)\n",
        "plt.show()"
      ]
    },
    {
      "cell_type": "code",
      "execution_count": null,
      "metadata": {
        "id": "YYIUVOm7xSPH",
        "outputId": "61f27147-d118-418d-efe4-326405ea3f8e"
      },
      "outputs": [
        {
          "data": {
            "image/png": "[encoded data removed]",
            "text/plain": [
              "<Figure size 1440x324 with 2 Axes>"
            ]
          },
          "metadata": {
            "needs_background": "light"
          },
          "output_type": "display_data"
        }
      ],
      "source": [
        "#데이터 분포 라벨링율 = 21.3%\n",
        "#데이터 분포 ok : ng = 85.2:14.8\n",
        "#데이터 분포 ng(detection) 내 의 code별 분포\n",
        "df['failureNum']=df.failureType #컬럼 추가\n",
        "df['trainTestNum']=df.trianTestLabel    #컬럼 추가\n",
        "mapping_type={'Center':0,'Donut':1,'Edge-Loc':2,'Edge-Ring':3,'Loc':4,'Random':5,'Scratch':6,'Near-full':7,'none':8}    #불량코드 라벨링\n",
        "mapping_traintest={'Training':0,'Test':1}   #train:0, test:1 로 라벨링\n",
        "df=df.replace({'failureNum':mapping_type, 'trainTestNum':mapping_traintest})    #replace\n",
        "\n",
        "#failureType의 label이 존재\n",
        "df_withlabel = df[(df['failureNum']>=0) & (df['failureNum']<=8)]\n",
        "df_withlabel = df_withlabel.reset_index()\n",
        "#failureType의 label이 존재 && 불량z코드 존재 (0~7번 코드)\n",
        "df_withpattern = df[(df['failureNum']>=0) & (df['failureNum']<=7)]\n",
        "df_withpattern = df_withpattern.reset_index()\n",
        "#failureType의 label이 존재 && OK품(8번 코드, none)\n",
        "df_nonpattern = df[(df['failureNum']==8)]\n",
        "df_withlabel.shape[0], df_withpattern.shape[0], df_nonpattern.shape[0]\n",
        "\n",
        "#graph - pie\n",
        "from matplotlib import gridspec\n",
        "fig = plt.figure(figsize=(20, 4.5)) \n",
        "gs = gridspec.GridSpec(1, 2, width_ratios=[1, 2.5]) \n",
        "ax1 = plt.subplot(gs[0])\n",
        "ax2 = plt.subplot(gs[1])\n",
        "\n",
        "tol_wafers = df.shape[0]\n",
        "no_wafers=[tol_wafers-df_withlabel.shape[0], df_withpattern.shape[0], df_nonpattern.shape[0]]\n",
        "\n",
        "colors = ['silver', 'orange', 'gold']\n",
        "explode = (0.1, 0, 0)  # pie에서 sclicing해서 차트에서 벗어나게\n",
        "labels = ['no-label','label&NG','label&OK']\n",
        "ax1.pie(no_wafers, explode=explode, labels=labels, colors=colors, autopct='%1.1f%%', shadow=True, startangle=140)\n",
        "\n",
        "#graph - bar\n",
        "uni_pattern=np.unique(df_withpattern.failureNum, return_counts=True)\n",
        "labels2 = ['','Center','Donut','Edge-Loc','Edge-Ring','Loc','Random','Scratch','Near-full']\n",
        "ax2.bar(uni_pattern[0],uni_pattern[1]/df_withpattern.shape[0], color='gold', align='center', alpha=0.9)\n",
        "ax2.set_title(\"failure type frequency\")\n",
        "ax2.set_ylabel(\"% of pattern wafers\")\n",
        "ax2.set_xticklabels(labels2)\n",
        "\n",
        "plt.show()\n",
        "#"
      ]
    },
    {
      "cell_type": "code",
      "execution_count": null,
      "metadata": {
        "id": "TaXnXTLyxSPI",
        "outputId": "1cd5ff65-f860-473e-abb9-926e78fecf39"
      },
      "outputs": [
        {
          "data": {
            "text/html": [
              "<div>\n",
              "<style scoped>\n",
              "    .dataframe tbody tr th:only-of-type {\n",
              "        vertical-align: middle;\n",
              "    }\n",
              "\n",
              "    .dataframe tbody tr th {\n",
              "        vertical-align: top;\n",
              "    }\n",
              "\n",
              "    .dataframe thead th {\n",
              "        text-align: right;\n",
              "    }\n",
              "</style>\n",
              "<table border=\"1\" class=\"dataframe\">\n",
              "  <thead>\n",
              "    <tr style=\"text-align: right;\">\n",
              "      <th></th>\n",
              "      <th>waferMap</th>\n",
              "      <th>dieSize</th>\n",
              "      <th>lotName</th>\n",
              "      <th>trianTestLabel</th>\n",
              "      <th>failureType</th>\n",
              "      <th>waferMapDim</th>\n",
              "      <th>failureNum</th>\n",
              "      <th>trainTestNum</th>\n",
              "    </tr>\n",
              "  </thead>\n",
              "  <tbody>\n",
              "    <tr>\n",
              "      <th>0</th>\n",
              "      <td>[[0, 0, 0, 0, 0, 0, 0, 0, 0, 0, 0, 0, 0, 0, 0,...</td>\n",
              "      <td>1683.0</td>\n",
              "      <td>lot1</td>\n",
              "      <td>[[Training]]</td>\n",
              "      <td>[[none]]</td>\n",
              "      <td>(45, 48)</td>\n",
              "      <td>8</td>\n",
              "      <td>0</td>\n",
              "    </tr>\n",
              "    <tr>\n",
              "      <th>1</th>\n",
              "      <td>[[0, 0, 0, 0, 0, 0, 0, 0, 0, 0, 0, 0, 0, 0, 0,...</td>\n",
              "      <td>1683.0</td>\n",
              "      <td>lot1</td>\n",
              "      <td>[[Training]]</td>\n",
              "      <td>[[none]]</td>\n",
              "      <td>(45, 48)</td>\n",
              "      <td>8</td>\n",
              "      <td>0</td>\n",
              "    </tr>\n",
              "    <tr>\n",
              "      <th>2</th>\n",
              "      <td>[[0, 0, 0, 0, 0, 0, 0, 0, 0, 0, 0, 0, 0, 0, 0,...</td>\n",
              "      <td>1683.0</td>\n",
              "      <td>lot1</td>\n",
              "      <td>[[Training]]</td>\n",
              "      <td>[[none]]</td>\n",
              "      <td>(45, 48)</td>\n",
              "      <td>8</td>\n",
              "      <td>0</td>\n",
              "    </tr>\n",
              "    <tr>\n",
              "      <th>3</th>\n",
              "      <td>[[0, 0, 0, 0, 0, 0, 0, 0, 0, 0, 0, 0, 0, 0, 0,...</td>\n",
              "      <td>1683.0</td>\n",
              "      <td>lot1</td>\n",
              "      <td>[[Training]]</td>\n",
              "      <td>[[none]]</td>\n",
              "      <td>(45, 48)</td>\n",
              "      <td>8</td>\n",
              "      <td>0</td>\n",
              "    </tr>\n",
              "    <tr>\n",
              "      <th>4</th>\n",
              "      <td>[[0, 0, 0, 0, 0, 0, 0, 0, 0, 0, 0, 0, 0, 0, 0,...</td>\n",
              "      <td>1683.0</td>\n",
              "      <td>lot1</td>\n",
              "      <td>[[Training]]</td>\n",
              "      <td>[[none]]</td>\n",
              "      <td>(45, 48)</td>\n",
              "      <td>8</td>\n",
              "      <td>0</td>\n",
              "    </tr>\n",
              "  </tbody>\n",
              "</table>\n",
              "</div>"
            ],
            "text/plain": [
              "                                            waferMap  dieSize lotName  \\\n",
              "0  [[0, 0, 0, 0, 0, 0, 0, 0, 0, 0, 0, 0, 0, 0, 0,...   1683.0    lot1   \n",
              "1  [[0, 0, 0, 0, 0, 0, 0, 0, 0, 0, 0, 0, 0, 0, 0,...   1683.0    lot1   \n",
              "2  [[0, 0, 0, 0, 0, 0, 0, 0, 0, 0, 0, 0, 0, 0, 0,...   1683.0    lot1   \n",
              "3  [[0, 0, 0, 0, 0, 0, 0, 0, 0, 0, 0, 0, 0, 0, 0,...   1683.0    lot1   \n",
              "4  [[0, 0, 0, 0, 0, 0, 0, 0, 0, 0, 0, 0, 0, 0, 0,...   1683.0    lot1   \n",
              "\n",
              "  trianTestLabel failureType waferMapDim failureNum trainTestNum  \n",
              "0   [[Training]]    [[none]]    (45, 48)          8            0  \n",
              "1   [[Training]]    [[none]]    (45, 48)          8            0  \n",
              "2   [[Training]]    [[none]]    (45, 48)          8            0  \n",
              "3   [[Training]]    [[none]]    (45, 48)          8            0  \n",
              "4   [[Training]]    [[none]]    (45, 48)          8            0  "
            ]
          },
          "execution_count": 70,
          "metadata": {},
          "output_type": "execute_result"
        }
      ],
      "source": [
        "#df head()\n",
        "df[(df['failureNum']==8)].head()"
      ]
    },
    {
      "cell_type": "code",
      "execution_count": null,
      "metadata": {
        "id": "Wf6VRgIJxSPJ",
        "outputId": "9f7f7316-b635-4d59-f72d-e329355e65e0"
      },
      "outputs": [
        {
          "name": "stdout",
          "output_type": "stream",
          "text": [
            "total:  811457\n",
            "none-label:  638507\n",
            "label:  172950\n",
            "ng:  25519\n",
            "ok:  147431\n"
          ]
        }
      ],
      "source": [
        "# 구분별 개수 찍어 봄\n",
        "print(\"total: \", tol_wafers)\n",
        "print(\"none-label: \", tol_wafers -df_withlabel.shape[0])\n",
        "print(\"label: \", df_withlabel.shape[0])\n",
        "print(\"ng: \", df_withpattern.shape[0])\n",
        "print(\"ok: \", df_nonpattern.shape[0])"
      ]
    },
    {
      "cell_type": "code",
      "execution_count": null,
      "metadata": {
        "id": "T9G22Z90xSPJ"
      },
      "outputs": [],
      "source": [
        "#wafer index 제외\n",
        "df = df.drop(['waferIndex'], axis = 1)"
      ]
    },
    {
      "cell_type": "code",
      "execution_count": null,
      "metadata": {
        "id": "gkuaAd-QxSPK",
        "outputId": "2fcaa270-de57-43a1-a611-bd45abd0509b"
      },
      "outputs": [
        {
          "data": {
            "text/html": [
              "<div>\n",
              "<style scoped>\n",
              "    .dataframe tbody tr th:only-of-type {\n",
              "        vertical-align: middle;\n",
              "    }\n",
              "\n",
              "    .dataframe tbody tr th {\n",
              "        vertical-align: top;\n",
              "    }\n",
              "\n",
              "    .dataframe thead th {\n",
              "        text-align: right;\n",
              "    }\n",
              "</style>\n",
              "<table border=\"1\" class=\"dataframe\">\n",
              "  <thead>\n",
              "    <tr style=\"text-align: right;\">\n",
              "      <th></th>\n",
              "      <th>waferMap</th>\n",
              "      <th>dieSize</th>\n",
              "      <th>lotName</th>\n",
              "      <th>trianTestLabel</th>\n",
              "      <th>failureType</th>\n",
              "      <th>waferMapDim</th>\n",
              "    </tr>\n",
              "  </thead>\n",
              "  <tbody>\n",
              "    <tr>\n",
              "      <th>158981</th>\n",
              "      <td>[[0, 0, 0, 0, 0, 0, 0, 0, 0, 0, 0, 2, 1, 2, 1,...</td>\n",
              "      <td>515.0</td>\n",
              "      <td>lot10237</td>\n",
              "      <td>[[Training]]</td>\n",
              "      <td>[[Center]]</td>\n",
              "      <td>(25, 27)</td>\n",
              "    </tr>\n",
              "    <tr>\n",
              "      <th>487489</th>\n",
              "      <td>[[0, 0, 0, 0, 0, 0, 0, 0, 0, 0, 0, 0, 1, 1, 2,...</td>\n",
              "      <td>710.0</td>\n",
              "      <td>lot30167</td>\n",
              "      <td>[]</td>\n",
              "      <td>[]</td>\n",
              "      <td>(32, 29)</td>\n",
              "    </tr>\n",
              "    <tr>\n",
              "      <th>600371</th>\n",
              "      <td>[[0, 0, 0, 0, 0, 0, 0, 0, 0, 0, 0, 0, 0, 0, 0,...</td>\n",
              "      <td>1513.0</td>\n",
              "      <td>lot37728</td>\n",
              "      <td>[]</td>\n",
              "      <td>[]</td>\n",
              "      <td>(49, 39)</td>\n",
              "    </tr>\n",
              "    <tr>\n",
              "      <th>502224</th>\n",
              "      <td>[[0, 0, 0, 0, 0, 0, 0, 0, 0, 0, 0, 0, 1, 1, 1,...</td>\n",
              "      <td>710.0</td>\n",
              "      <td>lot31209</td>\n",
              "      <td>[]</td>\n",
              "      <td>[]</td>\n",
              "      <td>(32, 29)</td>\n",
              "    </tr>\n",
              "    <tr>\n",
              "      <th>341368</th>\n",
              "      <td>[[0, 0, 0, 0, 0, 0, 0, 0, 0, 0, 0, 0, 0, 0, 0,...</td>\n",
              "      <td>3642.0</td>\n",
              "      <td>lot20474</td>\n",
              "      <td>[]</td>\n",
              "      <td>[]</td>\n",
              "      <td>(64, 72)</td>\n",
              "    </tr>\n",
              "  </tbody>\n",
              "</table>\n",
              "</div>"
            ],
            "text/plain": [
              "                                                 waferMap  dieSize   lotName  \\\n",
              "158981  [[0, 0, 0, 0, 0, 0, 0, 0, 0, 0, 0, 2, 1, 2, 1,...    515.0  lot10237   \n",
              "487489  [[0, 0, 0, 0, 0, 0, 0, 0, 0, 0, 0, 0, 1, 1, 2,...    710.0  lot30167   \n",
              "600371  [[0, 0, 0, 0, 0, 0, 0, 0, 0, 0, 0, 0, 0, 0, 0,...   1513.0  lot37728   \n",
              "502224  [[0, 0, 0, 0, 0, 0, 0, 0, 0, 0, 0, 0, 1, 1, 1,...    710.0  lot31209   \n",
              "341368  [[0, 0, 0, 0, 0, 0, 0, 0, 0, 0, 0, 0, 0, 0, 0,...   3642.0  lot20474   \n",
              "\n",
              "       trianTestLabel failureType waferMapDim  \n",
              "158981   [[Training]]  [[Center]]    (25, 27)  \n",
              "487489             []          []    (32, 29)  \n",
              "600371             []          []    (49, 39)  \n",
              "502224             []          []    (32, 29)  \n",
              "341368             []          []    (64, 72)  "
            ]
          },
          "execution_count": 8,
          "metadata": {},
          "output_type": "execute_result"
        }
      ],
      "source": [
        "#각 wafer map의 해상도 size가 다름 -- 해상도 size에 대한(행렬size) 컬럼과 데이터 생성\n",
        "def find_dim(x):\n",
        "    dim0=np.size(x,axis=0)\n",
        "    dim1=np.size(x,axis=1)\n",
        "    return dim0,dim1\n",
        "df['waferMapDim']=df.waferMap.apply(find_dim)\n",
        "df.sample(5)"
      ]
    },
    {
      "cell_type": "code",
      "execution_count": null,
      "metadata": {
        "id": "sIo4hYTgxSPK"
      },
      "outputs": [],
      "source": [
        "#26*26 해상도의 wafer data 추출\n",
        "sub_df = df.loc[df['waferMapDim'] == (26, 26)]\n",
        "sub_wafer = sub_df['waferMap'].values\n",
        "\n",
        "sw = np.ones((1, 26, 26))\n",
        "label = list()\n",
        "\n",
        "for i in range(len(sub_df)):\n",
        "    # 불량코드에 null 라벨의 skip 처리\n",
        "    if len(sub_df.iloc[i,:]['failureType']) == 0:\n",
        "        continue\n",
        "    sw = np.concatenate((sw, sub_df.iloc[i,:]['waferMap'].reshape(1, 26, 26)))\n",
        "    label.append(sub_df.iloc[i,:]['failureType'][0][0])"
      ]
    },
    {
      "cell_type": "code",
      "execution_count": null,
      "metadata": {
        "id": "QcTrIi0VxSPK",
        "outputId": "9d26dd29-cf85-481a-a905-f4fcbea3fd4b"
      },
      "outputs": [
        {
          "name": "stdout",
          "output_type": "stream",
          "text": [
            "x shape : (14366, 26, 26), y shape : (14366, 1)\n"
          ]
        }
      ],
      "source": [
        "x = sw[1:]\n",
        "y = np.array(label).reshape((-1,1))\n",
        "\n",
        "# x, y shape\n",
        "print('x shape : {}, y shape : {}'.format(x.shape, y.shape))"
      ]
    },
    {
      "cell_type": "code",
      "execution_count": null,
      "metadata": {
        "id": "vMZUOGIVxSPL",
        "outputId": "ed7900c3-7703-4275-a610-7cb24b807674"
      },
      "outputs": [
        {
          "data": {
            "image/png": "[encoded data removed]",
            "text/plain": [
              "<Figure size 432x288 with 1 Axes>"
            ]
          },
          "metadata": {
            "needs_background": "light"
          },
          "output_type": "display_data"
        },
        {
          "name": "stdout",
          "output_type": "stream",
          "text": [
            "Faulty case : ['none'] \n"
          ]
        }
      ],
      "source": [
        "# plot 1st data 보여주고\n",
        "plt.imshow(x[0])\n",
        "plt.show()\n",
        "\n",
        "# check faulty case: failure type\n",
        "print('Faulty case : {} '.format(y[0]))"
      ]
    },
    {
      "cell_type": "code",
      "execution_count": null,
      "metadata": {
        "id": "jG8VPoPexSPL",
        "outputId": "15f130c8-4c31-40f9-90c5-10cbfd201771"
      },
      "outputs": [
        {
          "name": "stdout",
          "output_type": "stream",
          "text": [
            "Faulty case list : ['Center' 'Donut' 'Edge-Loc' 'Edge-Ring' 'Loc' 'Near-full' 'Random'\n",
            " 'Scratch' 'none']\n"
          ]
        }
      ],
      "source": [
        "#add channel\n",
        "x = x.reshape((-1, 26, 26, 1))\n",
        "\n",
        "faulty_case = np.unique(y)\n",
        "print('Faulty case list : {}'.format(faulty_case))"
      ]
    },
    {
      "cell_type": "code",
      "execution_count": null,
      "metadata": {
        "id": "oNG5Qm5axSPL",
        "outputId": "80bbd0d7-0cc7-4d51-947f-ace3a10e5b8b"
      },
      "outputs": [
        {
          "name": "stdout",
          "output_type": "stream",
          "text": [
            "Center : 90\n",
            "Donut : 1\n",
            "Edge-Loc : 296\n",
            "Edge-Ring : 31\n",
            "Loc : 297\n",
            "Near-full : 16\n",
            "Random : 74\n",
            "Scratch : 72\n",
            "none : 13489\n"
          ]
        }
      ],
      "source": [
        "#26*26 size map의 failure type별 데이터 개수\n",
        "for f in faulty_case :\n",
        "    print('{} : {}'.format(f, len(y[y==f])))"
      ]
    },
    {
      "cell_type": "code",
      "execution_count": null,
      "metadata": {
        "id": "T7b53MorxSPM"
      },
      "outputs": [],
      "source": [
        "# One-hot-Encoding faulty categorical variable as channel\n",
        "new_x = np.zeros((len(x), 26, 26, 3))\n",
        "\n",
        "for w in range(len(x)):\n",
        "    for i in range(26):\n",
        "        for j in range(26):\n",
        "            new_x[w, i, j, int(x[w, i, j])] = 1"
      ]
    },
    {
      "cell_type": "code",
      "execution_count": null,
      "metadata": {
        "id": "9KUZUPOqxSPM",
        "outputId": "9794c1d9-3aa1-4436-ce64-3bf6b32d477d"
      },
      "outputs": [
        {
          "data": {
            "text/plain": [
              "(14366, 26, 26, 3)"
            ]
          },
          "execution_count": 16,
          "metadata": {},
          "output_type": "execute_result"
        }
      ],
      "source": [
        "#check new x dimension\n",
        "new_x.shape"
      ]
    },
    {
      "cell_type": "code",
      "execution_count": null,
      "metadata": {
        "id": "e8daFbzbxSPM",
        "outputId": "eff15e5b-b09b-471e-91ba-1695a4587695"
      },
      "outputs": [
        {
          "name": "stdout",
          "output_type": "stream",
          "text": [
            "Model: \"model\"\n",
            "_________________________________________________________________\n",
            "Layer (type)                 Output Shape              Param #   \n",
            "=================================================================\n",
            "input_1 (InputLayer)         [(None, 26, 26, 3)]       0         \n",
            "_________________________________________________________________\n",
            "conv2d (Conv2D)              (None, 26, 26, 64)        1792      \n",
            "_________________________________________________________________\n",
            "max_pooling2d (MaxPooling2D) (None, 13, 13, 64)        0         \n",
            "_________________________________________________________________\n",
            "conv2d_transpose (Conv2DTran (None, 13, 13, 64)        36928     \n",
            "_________________________________________________________________\n",
            "up_sampling2d (UpSampling2D) (None, 26, 26, 64)        0         \n",
            "_________________________________________________________________\n",
            "conv2d_transpose_1 (Conv2DTr (None, 26, 26, 3)         1731      \n",
            "=================================================================\n",
            "Total params: 40,451\n",
            "Trainable params: 40,451\n",
            "Non-trainable params: 0\n",
            "_________________________________________________________________\n"
          ]
        }
      ],
      "source": [
        "# parameter\n",
        "epoch=15\n",
        "batch_size=1024\n",
        "\n",
        "# Encoder\n",
        "input_shape = (26, 26, 3)\n",
        "input_tensor = Input(input_shape)\n",
        "encode = layers.Conv2D(64, (3,3), padding='same', activation='relu')(input_tensor)\n",
        "\n",
        "latent_vector = layers.MaxPool2D()(encode)\n",
        "\n",
        "# Decoder\n",
        "decode_layer_1 = layers.Conv2DTranspose(64, (3,3), padding='same', activation='relu')\n",
        "decode_layer_2 = layers.UpSampling2D()\n",
        "output_tensor = layers.Conv2DTranspose(3, (3,3), padding='same', activation='sigmoid')\n",
        "\n",
        "# connect decoder layers\n",
        "decode = decode_layer_1(latent_vector)\n",
        "decode = decode_layer_2(decode)\n",
        "\n",
        "ae = models.Model(input_tensor, output_tensor(decode))\n",
        "ae.compile(optimizer = 'Adam',\n",
        "              loss = 'mse',\n",
        "             )\n",
        "\n",
        "ae.summary()"
      ]
    },
    {
      "cell_type": "code",
      "execution_count": null,
      "metadata": {
        "id": "kMU_0PWCxSPM",
        "outputId": "6b06e162-74f8-4c82-9c06-6214472d6800"
      },
      "outputs": [
        {
          "name": "stdout",
          "output_type": "stream",
          "text": [
            "Epoch 1/15\n",
            "20/20 - 14s - loss: 0.0090\n",
            "Epoch 2/15\n",
            "20/20 - 14s - loss: 0.0072\n",
            "Epoch 3/15\n",
            "20/20 - 14s - loss: 0.0067\n",
            "Epoch 4/15\n",
            "20/20 - 14s - loss: 0.0065\n",
            "Epoch 5/15\n",
            "20/20 - 13s - loss: 0.0063\n",
            "Epoch 6/15\n",
            "20/20 - 14s - loss: 0.0061\n",
            "Epoch 7/15\n",
            "20/20 - 14s - loss: 0.0060\n",
            "Epoch 8/15\n",
            "20/20 - 14s - loss: 0.0059\n",
            "Epoch 9/15\n",
            "20/20 - 14s - loss: 0.0058\n",
            "Epoch 10/15\n",
            "20/20 - 14s - loss: 0.0057\n",
            "Epoch 11/15\n",
            "20/20 - 14s - loss: 0.0056\n",
            "Epoch 12/15\n",
            "20/20 - 14s - loss: 0.0055\n",
            "Epoch 13/15\n",
            "20/20 - 13s - loss: 0.0054\n",
            "Epoch 14/15\n",
            "20/20 - 14s - loss: 0.0053\n",
            "Epoch 15/15\n",
            "20/20 - 13s - loss: 0.0052\n"
          ]
        }
      ],
      "source": [
        "# start train\n",
        "ae_history = ae.fit(new_x, new_x,\n",
        "       batch_size=batch_size,\n",
        "       epochs=epoch,\n",
        "       verbose=2)"
      ]
    },
    {
      "cell_type": "code",
      "execution_count": null,
      "metadata": {
        "id": "iks7p79vxSPN",
        "outputId": "6775529d-341c-455f-c22b-7f8dcdb1376b"
      },
      "outputs": [
        {
          "data": {
            "image/png": "[encoded data removed]",
            "text/plain": [
              "<Figure size 432x288 with 1 Axes>"
            ]
          },
          "metadata": {
            "needs_background": "light"
          },
          "output_type": "display_data"
        }
      ],
      "source": [
        "# loss chart - 데이터 불균형 그대로 .. 과적합 검증\n",
        "# loss plot\n",
        "plt.plot(ae_history.history['loss'])\n",
        "plt.title('overfit loss')\n",
        "plt.ylabel('loss')\n",
        "plt.xlabel('epoch')\n",
        "plt.legend(['new_x'], loc='upper left')\n",
        "plt.show()"
      ]
    },
    {
      "cell_type": "code",
      "execution_count": null,
      "metadata": {
        "id": "2-0yDzV2xSPN"
      },
      "outputs": [],
      "source": [
        "# Make encoder model with part of autoencoder model layers\n",
        "encoder = models.Model(input_tensor, latent_vector)\n",
        "\n",
        "# Make decoder model with part of autoencoder model layers\n",
        "decoder_input = Input((13, 13, 64))\n",
        "decode = decode_layer_1(decoder_input)\n",
        "decode = decode_layer_2(decode)\n",
        "decoder = models.Model(decoder_input, output_tensor(decode))\n",
        "\n",
        "# Encode original faulty wafer\n",
        "encoded_x = encoder.predict(new_x)\n",
        "\n",
        "# Add noise to encoded latent faulty wafers vector.\n",
        "noised_encoded_x = encoded_x + np.random.normal(loc=0, scale=0.1, size = (len(encoded_x), 13, 13, 64))"
      ]
    },
    {
      "cell_type": "code",
      "execution_count": null,
      "metadata": {
        "id": "EU83bm11xSPN",
        "outputId": "7ef71aef-5e94-4a89-bdf3-452eba6c87a8"
      },
      "outputs": [
        {
          "data": {
            "text/plain": [
              "<matplotlib.image.AxesImage at 0x19ea8c3a668>"
            ]
          },
          "execution_count": 20,
          "metadata": {},
          "output_type": "execute_result"
        },
        {
          "data": {
            "image/png": "[encoded data removed]",
            "text/plain": [
              "<Figure size 432x288 with 1 Axes>"
            ]
          },
          "metadata": {
            "needs_background": "light"
          },
          "output_type": "display_data"
        }
      ],
      "source": [
        "# check original faulty wafer data\n",
        "plt.imshow(np.argmax(new_x[3], axis=2))"
      ]
    },
    {
      "cell_type": "code",
      "execution_count": null,
      "metadata": {
        "id": "5ZSPaDt4xSPN",
        "outputId": "797a75bf-6a9d-49e1-8e24-31170053afde"
      },
      "outputs": [
        {
          "data": {
            "text/plain": [
              "<matplotlib.image.AxesImage at 0x19e828a6828>"
            ]
          },
          "execution_count": 21,
          "metadata": {},
          "output_type": "execute_result"
        },
        {
          "data": {
            "image/png": "[encoded data removed]",
            "text/plain": [
              "<Figure size 432x288 with 1 Axes>"
            ]
          },
          "metadata": {
            "needs_background": "light"
          },
          "output_type": "display_data"
        }
      ],
      "source": [
        "# check new noised faulty wafer data\n",
        "noised_gen_x = np.argmax(decoder.predict(noised_encoded_x), axis=3)\n",
        "plt.imshow(noised_gen_x[3])"
      ]
    },
    {
      "cell_type": "code",
      "execution_count": null,
      "metadata": {
        "id": "XCGcynSmxSPO",
        "outputId": "265bf94d-bd20-45f3-fb54-f5bb01551bbf"
      },
      "outputs": [
        {
          "data": {
            "text/plain": [
              "<matplotlib.image.AxesImage at 0x19e81695b70>"
            ]
          },
          "execution_count": 22,
          "metadata": {},
          "output_type": "execute_result"
        },
        {
          "data": {
            "image/png": "[encoded data removed]",
            "text/plain": [
              "<Figure size 432x288 with 1 Axes>"
            ]
          },
          "metadata": {
            "needs_background": "light"
          },
          "output_type": "display_data"
        }
      ],
      "source": [
        "# check reconstructed original faulty wafer data\n",
        "gen_x = np.argmax(ae.predict(new_x), axis=3)\n",
        "plt.imshow(gen_x[3])\n",
        "\n",
        "\n",
        "# ------------------ Data augmentation ------------------------"
      ]
    },
    {
      "cell_type": "code",
      "execution_count": null,
      "metadata": {
        "id": "3TXjCePCxSPO"
      },
      "outputs": [],
      "source": [
        "# augment function define\n",
        "def gen_data(wafer, label):\n",
        "    # Encode input wafer\n",
        "    encoded_x = encoder.predict(wafer)\n",
        "    \n",
        "    # dummy array for collecting noised wafer\n",
        "    gen_x = np.zeros((1, 26, 26, 3))\n",
        "    \n",
        "    # Make wafer until total # of wafer to 2000\n",
        "    for i in range((2000//len(wafer)) + 1):\n",
        "        noised_encoded_x = encoded_x + np.random.normal(loc=0, scale=0.1, size = (len(encoded_x), 13, 13, 64)) \n",
        "        noised_gen_x = decoder.predict(noised_encoded_x)\n",
        "        gen_x = np.concatenate((gen_x, noised_gen_x), axis=0)\n",
        "    # also make label vector with same length\n",
        "    gen_y = np.full((len(gen_x), 1), label)\n",
        "    \n",
        "    # return date without 1st dummy data.\n",
        "    return gen_x[1:], gen_y[1:]"
      ]
    },
    {
      "cell_type": "code",
      "execution_count": null,
      "metadata": {
        "id": "BsNLNGzWxSPO"
      },
      "outputs": [],
      "source": [
        "# Augmentation for all faulty case.\n",
        "for f in faulty_case : \n",
        "    # skip none case\n",
        "    if f == 'none' : \n",
        "        continue\n",
        "    \n",
        "    gen_x, gen_y = gen_data(new_x[np.where(y==f)[0]], f)\n",
        "    new_x = np.concatenate((new_x, gen_x), axis=0)\n",
        "    y = np.concatenate((y, gen_y))"
      ]
    },
    {
      "cell_type": "code",
      "execution_count": null,
      "metadata": {
        "id": "k86BeKKIxSPO",
        "outputId": "90864391-4f80-454f-dbd1-68689f222b18"
      },
      "outputs": [
        {
          "name": "stdout",
          "output_type": "stream",
          "text": [
            "After Generate new_x shape : (30707, 26, 26, 3), new_y shape : (30707, 1)\n"
          ]
        }
      ],
      "source": [
        "print('After Generate new_x shape : {}, new_y shape : {}'.format(new_x.shape, y.shape))"
      ]
    },
    {
      "cell_type": "code",
      "execution_count": null,
      "metadata": {
        "id": "jGfmG8jJxSPR",
        "outputId": "fbcf6483-4672-444b-9716-c91fab3c987f"
      },
      "outputs": [
        {
          "name": "stdout",
          "output_type": "stream",
          "text": [
            "Center : 2160\n",
            "Donut : 2002\n",
            "Edge-Loc : 2368\n",
            "Edge-Ring : 2046\n",
            "Loc : 2376\n",
            "Near-full : 2032\n",
            "Random : 2146\n",
            "Scratch : 2088\n",
            "none : 13489\n"
          ]
        }
      ],
      "source": [
        "for f in faulty_case :\n",
        "    print('{} : {}'.format(f, len(y[y==f])))"
      ]
    },
    {
      "cell_type": "code",
      "execution_count": null,
      "metadata": {
        "id": "Addrvx3jxSPR"
      },
      "outputs": [],
      "source": [
        "# choice index without replace.\n",
        "none_idx = np.where(y=='none')[0][np.random.choice(len(np.where(y=='none')[0]), size=11000, replace=False)]"
      ]
    },
    {
      "cell_type": "code",
      "execution_count": null,
      "metadata": {
        "id": "6m7l-VZfxSPR",
        "outputId": "8448e4a1-d7db-42c2-9d90-7895dacf6346"
      },
      "outputs": [
        {
          "name": "stdout",
          "output_type": "stream",
          "text": [
            "After Delete \"none\" class new_x shape : (19707, 26, 26, 3), new_y shape : (19707, 1)\n"
          ]
        }
      ],
      "source": [
        "# delete choiced index data.\n",
        "new_x = np.delete(new_x, none_idx, axis=0)\n",
        "new_y = np.delete(y, none_idx, axis=0)\n",
        "\n",
        "print('After Delete \"none\" class new_x shape : {}, new_y shape : {}'.format(new_x.shape, new_y.shape))"
      ]
    },
    {
      "cell_type": "code",
      "execution_count": null,
      "metadata": {
        "id": "PgyQHJkfxSPS",
        "outputId": "ddafc37c-cbfc-475d-ba36-c81f7cbf08a3"
      },
      "outputs": [
        {
          "name": "stdout",
          "output_type": "stream",
          "text": [
            "Center : 2160\n",
            "Donut : 2002\n",
            "Edge-Loc : 2368\n",
            "Edge-Ring : 2046\n",
            "Loc : 2376\n",
            "Near-full : 2032\n",
            "Random : 2146\n",
            "Scratch : 2088\n",
            "none : 2489\n"
          ]
        }
      ],
      "source": [
        "# faulty_case count\n",
        "for f in faulty_case :\n",
        "    print('{} : {}'.format(f, len(new_y[new_y==f])))"
      ]
    },
    {
      "cell_type": "code",
      "execution_count": null,
      "metadata": {
        "id": "Sri6ZMRKxSPS",
        "outputId": "c5990993-49aa-477a-ca4b-e458a5073f1b"
      },
      "outputs": [
        {
          "name": "stdout",
          "output_type": "stream",
          "text": [
            "Train x : (13203, 26, 26, 3), y : (13203, 9)\n",
            "Test x: (6504, 26, 26, 3), y : (6504, 9)\n"
          ]
        }
      ],
      "source": [
        "# make string label data to numerical data\n",
        "for i, l in enumerate(faulty_case):\n",
        "    new_y[new_y==l] = i\n",
        "    \n",
        "# one-hot-encoding\n",
        "new_y = to_categorical(new_y)\n",
        "\n",
        "# split data train, test\n",
        "x_train, x_test, y_train, y_test = train_test_split(new_x, new_y,\n",
        "                                                    test_size=0.33,\n",
        "                                                    random_state=2019)\n",
        "\n",
        "print('Train x : {}, y : {}'.format(x_train.shape, y_train.shape))\n",
        "print('Test x: {}, y : {}'.format(x_test.shape, y_test.shape))"
      ]
    },
    {
      "cell_type": "code",
      "execution_count": null,
      "metadata": {
        "id": "HHRT06AExSPS"
      },
      "outputs": [],
      "source": [
        "# The data is ready. As wafer data is image. simply use cnn for classification."
      ]
    },
    {
      "cell_type": "code",
      "execution_count": null,
      "metadata": {
        "id": "osVydJCUxSPS"
      },
      "outputs": [],
      "source": [
        "# The data is ready. As wafer data is image. simply use cnn for classification.\n",
        "# Make model\n",
        "# define create model function, because we will validate model with sklearn kfold cross validation.\n",
        "def create_model():\n",
        "    input_shape = (26, 26, 3)\n",
        "    input_tensor = Input(input_shape)\n",
        "\n",
        "    conv_1 = layers.Conv2D(16, (3,3), activation='relu', padding='same')(input_tensor)\n",
        "    conv_2 = layers.Conv2D(64, (3,3), activation='relu', padding='same')(conv_1)\n",
        "    conv_3 = layers.Conv2D(128, (3,3), activation='relu', padding='same')(conv_2)\n",
        "\n",
        "    flat = layers.Flatten()(conv_3)\n",
        "\n",
        "    dense_1 = layers.Dense(512, activation='relu')(flat)\n",
        "    dense_2 = layers.Dense(128, activation='relu')(dense_1)\n",
        "    output_tensor = layers.Dense(9, activation='softmax')(dense_2)\n",
        "\n",
        "    model = models.Model(input_tensor, output_tensor)\n",
        "    model.compile(optimizer='Adam',\n",
        "                 loss='categorical_crossentropy',\n",
        "                 metrics=['accuracy'])\n",
        "\n",
        "    return model"
      ]
    },
    {
      "cell_type": "code",
      "execution_count": null,
      "metadata": {
        "id": "2PICZky-xSPT",
        "outputId": "afdc8654-d99f-4ed7-9eb2-5b2c25fc1af9"
      },
      "outputs": [
        {
          "name": "stdout",
          "output_type": "stream",
          "text": [
            "Epoch 1/10\n",
            "9/9 - 19s - loss: 2.1219 - accuracy: 0.3433\n",
            "Epoch 2/10\n",
            "9/9 - 18s - loss: 1.0267 - accuracy: 0.6078\n",
            "Epoch 3/10\n",
            "9/9 - 19s - loss: 0.5506 - accuracy: 0.8333\n",
            "Epoch 4/10\n",
            "9/9 - 18s - loss: 0.3335 - accuracy: 0.8917\n",
            "Epoch 5/10\n",
            "9/9 - 18s - loss: 0.2399 - accuracy: 0.9231\n",
            "Epoch 6/10\n",
            "9/9 - 18s - loss: 0.1388 - accuracy: 0.9594\n",
            "Epoch 7/10\n",
            "9/9 - 18s - loss: 0.0803 - accuracy: 0.9798\n",
            "Epoch 8/10\n",
            "9/9 - 18s - loss: 0.0516 - accuracy: 0.9865\n",
            "Epoch 9/10\n",
            "9/9 - 18s - loss: 0.0322 - accuracy: 0.9918\n",
            "Epoch 10/10\n",
            "9/9 - 18s - loss: 0.0184 - accuracy: 0.9968\n",
            "5/5 - 3s - loss: 0.0798 - accuracy: 0.9784\n",
            "Epoch 1/10\n",
            "9/9 - 18s - loss: 2.3096 - accuracy: 0.3192\n",
            "Epoch 2/10\n",
            "9/9 - 18s - loss: 1.1035 - accuracy: 0.6005\n",
            "Epoch 3/10\n",
            "9/9 - 18s - loss: 0.6619 - accuracy: 0.7711\n",
            "Epoch 4/10\n",
            "9/9 - 18s - loss: 0.5198 - accuracy: 0.8473\n",
            "Epoch 5/10\n",
            "9/9 - 18s - loss: 0.2916 - accuracy: 0.9154\n",
            "Epoch 6/10\n",
            "9/9 - 18s - loss: 0.1789 - accuracy: 0.9430\n",
            "Epoch 7/10\n",
            "9/9 - 18s - loss: 0.1141 - accuracy: 0.9657\n",
            "Epoch 8/10\n",
            "9/9 - 18s - loss: 0.0769 - accuracy: 0.9788\n",
            "Epoch 9/10\n",
            "9/9 - 18s - loss: 0.0465 - accuracy: 0.9885\n",
            "Epoch 10/10\n",
            "9/9 - 18s - loss: 0.0289 - accuracy: 0.9942\n",
            "5/5 - 3s - loss: 0.0474 - accuracy: 0.9859\n",
            "Epoch 1/10\n",
            "9/9 - 18s - loss: 2.2344 - accuracy: 0.2946\n",
            "Epoch 2/10\n",
            "9/9 - 18s - loss: 1.1258 - accuracy: 0.5821\n",
            "Epoch 3/10\n",
            "9/9 - 18s - loss: 0.8098 - accuracy: 0.6878\n",
            "Epoch 4/10\n",
            "9/9 - 18s - loss: 0.5067 - accuracy: 0.8324\n",
            "Epoch 5/10\n",
            "9/9 - 18s - loss: 0.2762 - accuracy: 0.9199\n",
            "Epoch 6/10\n",
            "9/9 - 18s - loss: 0.1690 - accuracy: 0.9466\n",
            "Epoch 7/10\n",
            "9/9 - 18s - loss: 0.1062 - accuracy: 0.9723\n",
            "Epoch 8/10\n",
            "9/9 - 18s - loss: 0.0685 - accuracy: 0.9815\n",
            "Epoch 9/10\n",
            "9/9 - 17s - loss: 0.0418 - accuracy: 0.9899\n",
            "Epoch 10/10\n",
            "9/9 - 17s - loss: 0.0270 - accuracy: 0.9943\n",
            "5/5 - 2s - loss: 0.0691 - accuracy: 0.9796\n",
            "Simple CNN Cross validation score : 0.9813\n"
          ]
        }
      ],
      "source": [
        "# Cross validate model: Using sklearn KFold Cross validation, we validate our simple cnn.\n",
        "\n",
        "# Make keras model to sklearn classifier.\n",
        "model = KerasClassifier(build_fn=create_model, epochs=10, batch_size=1024, verbose=2) \n",
        "# 3-Fold Crossvalidation\n",
        "kfold = KFold(n_splits=3, shuffle=True, random_state=2019) \n",
        "results = cross_val_score(model, x_train, y_train, cv=kfold)\n",
        "# Check 3-fold model's mean accuracy\n",
        "print('Simple CNN Cross validation score : {:.4f}'.format(np.mean(results)))"
      ]
    },
    {
      "cell_type": "code",
      "execution_count": null,
      "metadata": {
        "id": "Rm7nCy4ZxSPT",
        "outputId": "562672c6-65a8-45cb-88ea-83f34674dffb"
      },
      "outputs": [
        {
          "data": {
            "text/plain": [
              "1024"
            ]
          },
          "execution_count": 38,
          "metadata": {},
          "output_type": "execute_result"
        }
      ],
      "source": [
        "batch_size"
      ]
    },
    {
      "cell_type": "code",
      "execution_count": null,
      "metadata": {
        "id": "Lz8KeJaYxSPT",
        "outputId": "bae8ea1c-58d8-485e-f7f9-92664c7d1321"
      },
      "outputs": [
        {
          "name": "stdout",
          "output_type": "stream",
          "text": [
            "(6504, 26, 26, 3)\n",
            "(6504, 9)\n"
          ]
        }
      ],
      "source": [
        "print(x_test.shape)\n",
        "print(y_test.shape)"
      ]
    },
    {
      "cell_type": "code",
      "execution_count": null,
      "metadata": {
        "id": "CFTKs97KxSPT",
        "outputId": "131cd836-0a1c-46f3-aafc-3f3b73eab8ec"
      },
      "outputs": [
        {
          "name": "stdout",
          "output_type": "stream",
          "text": [
            "(13203, 26, 26, 3)\n",
            "(13203, 9)\n"
          ]
        }
      ],
      "source": [
        "print(x_train.shape)\n",
        "print(y_train.shape)"
      ]
    },
    {
      "cell_type": "code",
      "execution_count": null,
      "metadata": {
        "id": "3Zzy-NGqxSPT",
        "outputId": "93d0228a-ec7a-4d42-eaee-d2960f8c65ff"
      },
      "outputs": [
        {
          "data": {
            "text/plain": [
              "dtype('float32')"
            ]
          },
          "execution_count": 54,
          "metadata": {},
          "output_type": "execute_result"
        }
      ],
      "source": [
        "y_train.dtype"
      ]
    },
    {
      "cell_type": "code",
      "execution_count": null,
      "metadata": {
        "id": "P3C98GhCxSPU",
        "outputId": "4f5b0f12-516e-455f-a040-1dd499d837e1"
      },
      "outputs": [
        {
          "name": "stdout",
          "output_type": "stream",
          "text": [
            "Epoch 1/15\n",
            "13/13 - 32s - loss: 1.7748 - accuracy: 0.4422 - val_loss: 0.9194 - val_accuracy: 0.5846\n",
            "Epoch 2/15\n",
            "13/13 - 31s - loss: 0.7695 - accuracy: 0.7288 - val_loss: 0.5789 - val_accuracy: 0.8267\n",
            "Epoch 3/15\n",
            "13/13 - 33s - loss: 0.4003 - accuracy: 0.8803 - val_loss: 0.3091 - val_accuracy: 0.8930\n",
            "Epoch 4/15\n",
            "13/13 - 32s - loss: 0.1894 - accuracy: 0.9459 - val_loss: 0.1450 - val_accuracy: 0.9550\n",
            "Epoch 5/15\n",
            "13/13 - 32s - loss: 0.0951 - accuracy: 0.9716 - val_loss: 0.0857 - val_accuracy: 0.9717\n",
            "Epoch 6/15\n",
            "13/13 - 32s - loss: 0.0509 - accuracy: 0.9874 - val_loss: 0.0516 - val_accuracy: 0.9855\n",
            "Epoch 7/15\n",
            "13/13 - 32s - loss: 0.0263 - accuracy: 0.9948 - val_loss: 0.0430 - val_accuracy: 0.9869\n",
            "Epoch 8/15\n",
            "13/13 - 32s - loss: 0.0201 - accuracy: 0.9950 - val_loss: 0.0380 - val_accuracy: 0.9879\n",
            "Epoch 9/15\n",
            "13/13 - 32s - loss: 0.0139 - accuracy: 0.9968 - val_loss: 0.0392 - val_accuracy: 0.9882\n",
            "Epoch 10/15\n",
            "13/13 - 32s - loss: 0.0102 - accuracy: 0.9975 - val_loss: 0.0324 - val_accuracy: 0.9886\n",
            "Epoch 11/15\n",
            "13/13 - 32s - loss: 0.0080 - accuracy: 0.9984 - val_loss: 0.0317 - val_accuracy: 0.9895\n",
            "Epoch 12/15\n",
            "13/13 - 32s - loss: 0.0068 - accuracy: 0.9988 - val_loss: 0.0317 - val_accuracy: 0.9888\n",
            "Epoch 13/15\n",
            "13/13 - 32s - loss: 0.0051 - accuracy: 0.9986 - val_loss: 0.0325 - val_accuracy: 0.9888\n",
            "Epoch 14/15\n",
            "13/13 - 32s - loss: 0.0052 - accuracy: 0.9988 - val_loss: 0.0386 - val_accuracy: 0.9871\n",
            "Epoch 15/15\n",
            "13/13 - 31s - loss: 0.0049 - accuracy: 0.9989 - val_loss: 0.0323 - val_accuracy: 0.9889\n"
          ]
        }
      ],
      "source": [
        "# Our model seems quite a good model.\n",
        "history = model.fit(x_train, y_train,         \n",
        "         epochs=epoch,\n",
        "         batch_size=batch_size,\n",
        "         validation_data=(x_test, y_test)\n",
        "         )"
      ]
    },
    {
      "cell_type": "code",
      "execution_count": null,
      "metadata": {
        "id": "px_CDlinxSPU",
        "outputId": "77918d73-a32c-4436-a0d3-1ea6e3c0f267"
      },
      "outputs": [
        {
          "data": {
            "image/png": "[encoded data removed]",
            "text/plain": [
              "<Figure size 432x288 with 1 Axes>"
            ]
          },
          "metadata": {
            "needs_background": "light"
          },
          "output_type": "display_data"
        }
      ],
      "source": [
        "# accuracy chart\n",
        "# accuracy plot \n",
        "plt.plot(history.history['accuracy'])\n",
        "plt.plot(history.history['val_accuracy'])\n",
        "plt.title('model accuracy')\n",
        "plt.ylabel('accuracy')\n",
        "plt.xlabel('epoch')\n",
        "plt.legend(['train', 'test'], loc='upper left')\n",
        "plt.show()"
      ]
    },
    {
      "cell_type": "code",
      "execution_count": null,
      "metadata": {
        "id": "OHjvs214xSPU",
        "outputId": "46765a95-ed9c-4f38-9753-8d8a7470652e"
      },
      "outputs": [
        {
          "data": {
            "image/png": "[encoded data removed]",
            "text/plain": [
              "<Figure size 432x288 with 1 Axes>"
            ]
          },
          "metadata": {
            "needs_background": "light"
          },
          "output_type": "display_data"
        }
      ],
      "source": [
        "# loss plot\n",
        "plt.plot(history.history['loss'])\n",
        "plt.plot(history.history['val_loss'])\n",
        "plt.title('model loss')\n",
        "plt.ylabel('loss')\n",
        "plt.xlabel('epoch')\n",
        "plt.legend(['train', 'test'], loc='upper left')\n",
        "plt.show()"
      ]
    },
    {
      "cell_type": "code",
      "execution_count": null,
      "metadata": {
        "id": "qMAAvZmExSPU"
      },
      "outputs": [],
      "source": [
        ""
      ]
    }
  ],
  "metadata": {
    "interpreter": {
      "hash": "bc5325771484cd741460cbbcf20a153b1ef45b389ce85e60a186ce6bd8aea41f"
    },
    "kernelspec": {
      "display_name": "Python 3.6.8 64-bit",
      "language": "python",
      "name": "python3"
    },
    "language_info": {
      "codemirror_mode": {
        "name": "ipython",
        "version": 3
      },
      "file_extension": ".py",
      "mimetype": "text/x-python",
      "name": "python",
      "nbconvert_exporter": "python",
      "pygments_lexer": "ipython3",
      "version": "3.6.8"
    },
    "orig_nbformat": 4,
    "colab": {
      "name": "waferMap.ipynb",
      "provenance": [],
      "include_colab_link": true
    }
  },
  "nbformat": 4,
  "nbformat_minor": 0
}