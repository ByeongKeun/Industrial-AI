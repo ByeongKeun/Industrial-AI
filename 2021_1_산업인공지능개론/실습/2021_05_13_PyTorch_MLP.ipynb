{
  "nbformat": 4,
  "nbformat_minor": 0,
  "metadata": {
    "colab": {
      "name": "2021_05_13_PyTorch_MLP.ipynb",
      "provenance": [],
      "collapsed_sections": [],
      "authorship_tag": "ABX9TyO9NnlRR6EGHiMpdRhbebWJ",
      "include_colab_link": true
    },
    "kernelspec": {
      "display_name": "Python 3",
      "name": "python3"
    },
    "language_info": {
      "name": "python"
    }
  },
  "cells": [
    {
      "cell_type": "markdown",
      "metadata": {
        "id": "view-in-github",
        "colab_type": "text"
      },
      "source": [
        "<a href=\"https://colab.research.google.com/github/ByeongKeun/Industrial-AI/blob/master/2021.1%ED%95%99%EA%B8%B0/%EC%82%B0%EC%97%85%EC%9D%B8%EA%B3%B5%EC%A7%80%EB%8A%A5%EA%B0%9C%EB%A1%A0/%EC%8B%A4%EC%8A%B5/2021_05_13_PyTorch_MLP.ipynb\" target=\"_parent\"><img src=\"https://colab.research.google.com/assets/colab-badge.svg\" alt=\"Open In Colab\"/></a>"
      ]
    },
    {
      "cell_type": "code",
      "metadata": {
        "colab": {
          "base_uri": "https://localhost:8080/",
          "height": 981
        },
        "id": "s2KvAjK9UMqH",
        "outputId": "f3182964-5522-4ffc-992b-b47754056cc0"
      },
      "source": [
        "# -*- coding: utf-8 -*-\n",
        "\n",
        "from sklearn.datasets import fetch_openml\n",
        "mnist = fetch_openml('mnist_784', version=1, cache=True)\n",
        "\n",
        "X = mnist.data/255\n",
        "y = mnist.target\n",
        "\n",
        "import matplotlib.pyplot as plt\n",
        "plt.imshow(X[0].reshape(28,28), cmap='gray')\n",
        "plt.show()\n",
        "print(\"이미지 레이블:{0}\".format(y[0]))\n",
        "\n",
        "import torch\n",
        "from torch.utils.data import TensorDataset, DataLoader\n",
        "from sklearn.model_selection import train_test_split\n",
        "\n",
        "X_train, X_test, y_train, y_test = train_test_split(X, y, test_size=1/7, random_state=0)\n",
        "X_train = torch.Tensor(X_train)\n",
        "X_test = torch.Tensor(X_test)\n",
        "y_train = torch.LongTensor(list(map(int, y_train)))\n",
        "y_test = torch.LongTensor(list(map(int, y_test)))\n",
        "\n",
        "ds_train = TensorDataset(X_train, y_train)\n",
        "ds_test = TensorDataset(X_test, y_test)\n",
        "\n",
        "loader_train = DataLoader(ds_train, batch_size=64, shuffle=True)\n",
        "loader_test = DataLoader(ds_test, batch_size=64, shuffle=False)\n",
        "\n",
        "from torch import nn\n",
        "model = nn.Sequential()\n",
        "model.add_module('fc1', nn.Linear(28*28*1, 100))   #모델 구성\n",
        "model.add_module('relu1', nn.ReLU())\n",
        "model.add_module('fc2', nn.Linear(100, 100))   #모델 구성\n",
        "model.add_module('relu2', nn.ReLU())\n",
        "model.add_module('fc3', nn.Linear(100, 100))   #모델 구성\n",
        "\n",
        "from torch import optim as optim\n",
        "loss_fn = nn.CrossEntropyLoss() #손실 함수\n",
        "optimizer = optim.Adam(model.parameters(), lr=0.01)\n",
        "\n",
        "def train(epoch):\n",
        "    model.train() #학습모드로 변환\n",
        "    \n",
        "    for data, targets in loader_train:\n",
        "        optimizer.zero_grad() #그레디언트 초기화\n",
        "        outputs = model(data)\n",
        "        loss = loss_fn(outputs, targets)\n",
        "        loss.backward()\n",
        "        optimizer.step()\n",
        "    print('에포크 {0}: 완료'.format(epoch))\n",
        "    \n",
        "def test(head):\n",
        "    model.eval() #테스트 모드로 변환\n",
        "    correct = 0\n",
        "    \n",
        "    with torch.no_grad():\n",
        "        for data, targets in loader_test:\n",
        "            outputs = model(data)\n",
        "            _, predicted = torch.max(outputs.data, 1)\n",
        "            correct += predicted.eq(targets.data.view_as(predicted)).sum()\n",
        "    \n",
        "    data_num = len(loader_test.dataset)\n",
        "    print('{} 정확도: {}/{}({:.0f}%)'.format(head, correct, data_num, 100.*correct/data_num))\n",
        "    \n",
        "test('시작')\n",
        "for epoch in range(3):\n",
        "    train(epoch)\n",
        "    test('학습중')\n",
        "test('학습 후')\n",
        "\n",
        "index = 10 #테스트 데이터 중에서 확인해볼 데이터의 인덱스\n",
        "model.eval() #모델 테스트 모드로 전환\n",
        "\n",
        "data = X_test[index]\n",
        "output = model(data) #모델 적용\n",
        "print('{}번째 학습데이터의 테스트 결과: {}'.format(index, output))\n",
        "_, predicted = torch.max(output.data, 0)\n",
        "print('{}번째 데이터의 예측 : {}'.format(index, predicted))\n",
        "\n",
        "X_test_show = (X_test[index]).numpy()\n",
        "plt.imshow(X_test_show.reshape(28,28), cmap='gray')\n",
        "print(' 실제 레이블: {}'.format(y_test[index]))"
      ],
      "execution_count": 7,
      "outputs": [
        {
          "output_type": "display_data",
          "data": {
            "image/png": "[encoded data removed]",
            "text/plain": [
              "<Figure size 432x288 with 1 Axes>"
            ]
          },
          "metadata": {
            "tags": [],
            "needs_background": "light"
          }
        },
        {
          "output_type": "stream",
          "text": [
            "이미지 레이블:5\n",
            "시작 정확도: 134/10000(1%)\n",
            "에포크 0: 완료\n",
            "학습중 정확도: 9531/10000(95%)\n",
            "에포크 1: 완료\n",
            "학습중 정확도: 9597/10000(96%)\n",
            "에포크 2: 완료\n",
            "학습중 정확도: 9608/10000(96%)\n",
            "학습 후 정확도: 9608/10000(96%)\n",
            "10번째 학습데이터의 테스트 결과: tensor([ -3.9135,  13.8202,   2.1549,  -0.9549,  -0.0763,  -0.7134,   0.9021,\n",
            "          2.9868,   3.6060,   2.1252, -16.2737, -19.9442, -17.4161, -20.9105,\n",
            "        -19.0856, -16.7513, -18.1900, -18.9481, -18.8291, -18.2582, -18.5333,\n",
            "        -18.3111, -18.4030, -19.0297, -19.0832, -19.3192, -17.0870, -18.1154,\n",
            "        -19.2884, -19.0231, -20.1388, -20.1792, -17.6618, -18.6960, -19.0472,\n",
            "        -17.8772, -20.9296, -17.3651, -18.3523, -18.9609, -18.6025, -18.5867,\n",
            "        -18.6424, -20.0290, -17.7393, -19.8668, -19.0866, -16.8398, -16.8853,\n",
            "        -18.4581, -17.4649, -18.5810, -17.8406, -19.5368, -18.7302, -20.6840,\n",
            "        -18.6492, -20.1563, -21.1285, -20.4532, -16.0589, -16.5825, -19.1095,\n",
            "        -20.3921, -16.9452, -19.6356, -20.1819, -19.8196, -20.6516, -18.9785,\n",
            "        -19.4728, -19.5042, -18.7411, -17.6480, -17.9749, -18.0397, -20.2210,\n",
            "        -18.8924, -19.3950, -18.5977, -16.0171, -17.2648, -17.1742, -18.1901,\n",
            "        -20.5136, -16.8177, -18.8955, -19.1131, -15.7097, -19.0024, -15.9624,\n",
            "        -17.8501, -16.0596, -18.4829, -17.9306, -17.8632, -19.7369, -19.1533,\n",
            "        -17.3597, -17.8043], grad_fn=<AddBackward0>)\n",
            "10번째 데이터의 예측 : 1\n",
            " 실제 레이블: 1\n"
          ],
          "name": "stdout"
        },
        {
          "output_type": "display_data",
          "data": {
            "image/png": "[encoded data removed]",
            "text/plain": [
              "<Figure size 432x288 with 1 Axes>"
            ]
          },
          "metadata": {
            "tags": [],
            "needs_background": "light"
          }
        }
      ]
    },
    {
      "cell_type": "code",
      "metadata": {
        "id": "yn1HOvdkeRgF"
      },
      "source": [
        ""
      ],
      "execution_count": null,
      "outputs": []
    }
  ]
}