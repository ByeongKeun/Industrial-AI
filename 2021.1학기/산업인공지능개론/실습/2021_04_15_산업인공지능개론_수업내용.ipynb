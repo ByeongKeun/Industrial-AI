{
  "nbformat": 4,
  "nbformat_minor": 0,
  "metadata": {
    "colab": {
      "name": "2021_04_15_산업인공지능개론_수업내용.ipynb",
      "provenance": [],
      "collapsed_sections": [],
      "authorship_tag": "ABX9TyOAYXVQIvRNIYJ6htuzMI1f",
      "include_colab_link": true
    },
    "kernelspec": {
      "name": "python3",
      "display_name": "Python 3"
    },
    "language_info": {
      "name": "python"
    }
  },
  "cells": [
    {
      "cell_type": "markdown",
      "metadata": {
        "id": "view-in-github",
        "colab_type": "text"
      },
      "source": [
        "<a href=\"https://colab.research.google.com/github/ByeongKeun/Industrial-AI/blob/master/2021.1%ED%95%99%EA%B8%B0/%EC%82%B0%EC%97%85%EC%9D%B8%EA%B3%B5%EC%A7%80%EB%8A%A5%EA%B0%9C%EB%A1%A0/%EC%8B%A4%EC%8A%B5/2021_04_15_%EC%82%B0%EC%97%85%EC%9D%B8%EA%B3%B5%EC%A7%80%EB%8A%A5%EA%B0%9C%EB%A1%A0_%EC%88%98%EC%97%85%EB%82%B4%EC%9A%A9.ipynb\" target=\"_parent\"><img src=\"https://colab.research.google.com/assets/colab-badge.svg\" alt=\"Open In Colab\"/></a>"
      ]
    },
    {
      "cell_type": "code",
      "metadata": {
        "colab": {
          "base_uri": "https://localhost:8080/"
        },
        "id": "00-3UoG3_Wqn",
        "outputId": "c224b6f0-dfea-41a7-ba8d-3e3cb08e2744"
      },
      "source": [
        "print(abs(3+4j))"
      ],
      "execution_count": null,
      "outputs": [
        {
          "output_type": "execute_result",
          "data": {
            "text/plain": [
              "5.0"
            ]
          },
          "metadata": {
            "tags": []
          },
          "execution_count": 1
        }
      ]
    },
    {
      "cell_type": "code",
      "metadata": {
        "colab": {
          "base_uri": "https://localhost:8080/",
          "height": 35
        },
        "id": "Y9P-afznAZnc",
        "outputId": "2667da5d-7295-40f8-cf7d-56394bc9cb27"
      },
      "source": [
        "chr(64)"
      ],
      "execution_count": null,
      "outputs": [
        {
          "output_type": "execute_result",
          "data": {
            "application/vnd.google.colaboratory.intrinsic+json": {
              "type": "string"
            },
            "text/plain": [
              "'@'"
            ]
          },
          "metadata": {
            "tags": []
          },
          "execution_count": 2
        }
      ]
    },
    {
      "cell_type": "code",
      "metadata": {
        "colab": {
          "base_uri": "https://localhost:8080/"
        },
        "id": "v7J5aLqmA2IB",
        "outputId": "9567a028-167a-4e1f-c09c-791b8365661f"
      },
      "source": [
        "ord('@')"
      ],
      "execution_count": null,
      "outputs": [
        {
          "output_type": "execute_result",
          "data": {
            "text/plain": [
              "64"
            ]
          },
          "metadata": {
            "tags": []
          },
          "execution_count": 3
        }
      ]
    },
    {
      "cell_type": "code",
      "metadata": {
        "colab": {
          "base_uri": "https://localhost:8080/"
        },
        "id": "drDW-jTkA3ZW",
        "outputId": "02b7b592-6d13-41e0-d972-97ec9462fc3d"
      },
      "source": [
        "10//3"
      ],
      "execution_count": null,
      "outputs": [
        {
          "output_type": "execute_result",
          "data": {
            "text/plain": [
              "3"
            ]
          },
          "metadata": {
            "tags": []
          },
          "execution_count": 4
        }
      ]
    },
    {
      "cell_type": "code",
      "metadata": {
        "colab": {
          "base_uri": "https://localhost:8080/"
        },
        "id": "OHzY-ZdTBQxy",
        "outputId": "ef7084e9-520e-4f50-a4de-5e75856b1bae"
      },
      "source": [
        "10%3"
      ],
      "execution_count": null,
      "outputs": [
        {
          "output_type": "execute_result",
          "data": {
            "text/plain": [
              "1"
            ]
          },
          "metadata": {
            "tags": []
          },
          "execution_count": 5
        }
      ]
    },
    {
      "cell_type": "code",
      "metadata": {
        "colab": {
          "base_uri": "https://localhost:8080/"
        },
        "id": "yRv_TMaqBSVx",
        "outputId": "ab3c60ac-5269-4aa4-84f8-9b0819827c12"
      },
      "source": [
        "divmod(10,3)"
      ],
      "execution_count": null,
      "outputs": [
        {
          "output_type": "execute_result",
          "data": {
            "text/plain": [
              "(3, 1)"
            ]
          },
          "metadata": {
            "tags": []
          },
          "execution_count": 6
        }
      ]
    },
    {
      "cell_type": "code",
      "metadata": {
        "colab": {
          "base_uri": "https://localhost:8080/"
        },
        "id": "4JiPcPkOCdgu",
        "outputId": "0344b47e-1e47-4bc5-b3fe-4fa53f3eec2b"
      },
      "source": [
        "sorted(['a','c','1','5','3'])"
      ],
      "execution_count": null,
      "outputs": [
        {
          "output_type": "execute_result",
          "data": {
            "text/plain": [
              "['1', '3', '5', 'a', 'c']"
            ]
          },
          "metadata": {
            "tags": []
          },
          "execution_count": 9
        }
      ]
    },
    {
      "cell_type": "code",
      "metadata": {
        "colab": {
          "base_uri": "https://localhost:8080/"
        },
        "id": "tH59Gl9-DCtA",
        "outputId": "436801af-d4ce-45e9-9ade-ffd265c5f40b"
      },
      "source": [
        "sorted(\"The health know not of their health, but only the sick\".split(), key=str.lower)"
      ],
      "execution_count": null,
      "outputs": [
        {
          "output_type": "execute_result",
          "data": {
            "text/plain": [
              "['but',\n",
              " 'health',\n",
              " 'health,',\n",
              " 'know',\n",
              " 'not',\n",
              " 'of',\n",
              " 'only',\n",
              " 'sick',\n",
              " 'The',\n",
              " 'the',\n",
              " 'their']"
            ]
          },
          "metadata": {
            "tags": []
          },
          "execution_count": 10
        }
      ]
    },
    {
      "cell_type": "code",
      "metadata": {
        "id": "2e0SeW7oD-fK"
      },
      "source": [
        "students = [('홍길동', 3.9, 20200101), ('최길동', 4.0, 20200102)]"
      ],
      "execution_count": null,
      "outputs": []
    },
    {
      "cell_type": "code",
      "metadata": {
        "colab": {
          "base_uri": "https://localhost:8080/"
        },
        "id": "YEGuFoj8EzAc",
        "outputId": "24d90110-ab6a-4a0d-ab37-0ef103e279c4"
      },
      "source": [
        "sorted(students, key=lambda student: student[1])"
      ],
      "execution_count": null,
      "outputs": [
        {
          "output_type": "execute_result",
          "data": {
            "text/plain": [
              "[('홍길동', 3.9, 20200101), ('최길동', 4.0, 20200102)]"
            ]
          },
          "metadata": {
            "tags": []
          },
          "execution_count": 15
        }
      ]
    },
    {
      "cell_type": "code",
      "metadata": {
        "colab": {
          "base_uri": "https://localhost:8080/"
        },
        "id": "p6r2IevmE6Gx",
        "outputId": "fb47d5b2-675f-443f-b61d-4af7efeb5ad7"
      },
      "source": [
        "def myGenerator():\n",
        "  yield 'first'\n",
        "  yield 'second'\n",
        "  yield 'third'\n",
        "\n",
        "mg = myGenerator()\n",
        "for y in mg:\n",
        "  print(y)"
      ],
      "execution_count": null,
      "outputs": [
        {
          "output_type": "stream",
          "text": [
            "first\n",
            "second\n",
            "third\n"
          ],
          "name": "stdout"
        }
      ]
    },
    {
      "cell_type": "code",
      "metadata": {
        "colab": {
          "base_uri": "https://localhost:8080/"
        },
        "id": "AmS1wTBSGs64",
        "outputId": "5a3be81e-4ae1-4aef-c3d7-65891cd67fad"
      },
      "source": [
        "def addNum(fixNum):\n",
        "  def add(num):\n",
        "    return fixNum + num\n",
        "  return add\n",
        "\n",
        "func = addNum(5)\n",
        "print(func(10))"
      ],
      "execution_count": null,
      "outputs": [
        {
          "output_type": "stream",
          "text": [
            "15\n"
          ],
          "name": "stdout"
        }
      ]
    },
    {
      "cell_type": "code",
      "metadata": {
        "colab": {
          "base_uri": "https://localhost:8080/"
        },
        "id": "0YX98zBiHe5U",
        "outputId": "9dd3c198-0543-40d7-f0a1-94f56cde28ff"
      },
      "source": [
        "import random\n",
        "\n",
        "random.random()*100"
      ],
      "execution_count": null,
      "outputs": [
        {
          "output_type": "execute_result",
          "data": {
            "text/plain": [
              "21.21301516281734"
            ]
          },
          "metadata": {
            "tags": []
          },
          "execution_count": 19
        }
      ]
    },
    {
      "cell_type": "code",
      "metadata": {
        "colab": {
          "base_uri": "https://localhost:8080/"
        },
        "id": "jxJOxjRXLCp8",
        "outputId": "e9b0579f-e93e-4641-daad-74dbc62c03cd"
      },
      "source": [
        "random.random()*100"
      ],
      "execution_count": null,
      "outputs": [
        {
          "output_type": "execute_result",
          "data": {
            "text/plain": [
              "1.843252454715838"
            ]
          },
          "metadata": {
            "tags": []
          },
          "execution_count": 20
        }
      ]
    },
    {
      "cell_type": "code",
      "metadata": {
        "colab": {
          "base_uri": "https://localhost:8080/"
        },
        "id": "yMarA6v8LENe",
        "outputId": "b71df73f-0906-4486-8fe4-ffb78e2d823e"
      },
      "source": [
        "random.randrange(0, 200, 3) #0~200 사이에 3의 배수 랜덤"
      ],
      "execution_count": null,
      "outputs": [
        {
          "output_type": "execute_result",
          "data": {
            "text/plain": [
              "30"
            ]
          },
          "metadata": {
            "tags": []
          },
          "execution_count": 21
        }
      ]
    },
    {
      "cell_type": "code",
      "metadata": {
        "id": "qT-Ctdm_LR4q"
      },
      "source": [
        "import os"
      ],
      "execution_count": null,
      "outputs": []
    },
    {
      "cell_type": "code",
      "metadata": {
        "colab": {
          "base_uri": "https://localhost:8080/",
          "height": 35
        },
        "id": "Me3d-CjPLg-m",
        "outputId": "9655ba8d-bc77-4358-9420-7109498502cf"
      },
      "source": [
        "os.getcwd()"
      ],
      "execution_count": null,
      "outputs": [
        {
          "output_type": "execute_result",
          "data": {
            "application/vnd.google.colaboratory.intrinsic+json": {
              "type": "string"
            },
            "text/plain": [
              "'/content'"
            ]
          },
          "metadata": {
            "tags": []
          },
          "execution_count": 23
        }
      ]
    },
    {
      "cell_type": "code",
      "metadata": {
        "id": "uzioZ3NbLjPY"
      },
      "source": [
        "import sys"
      ],
      "execution_count": null,
      "outputs": []
    },
    {
      "cell_type": "code",
      "metadata": {
        "colab": {
          "base_uri": "https://localhost:8080/",
          "height": 35
        },
        "id": "bry1vCkhLl2J",
        "outputId": "59847584-abd0-488e-9a74-ba1369237928"
      },
      "source": [
        "sys.prefix"
      ],
      "execution_count": null,
      "outputs": [
        {
          "output_type": "execute_result",
          "data": {
            "application/vnd.google.colaboratory.intrinsic+json": {
              "type": "string"
            },
            "text/plain": [
              "'/usr'"
            ]
          },
          "metadata": {
            "tags": []
          },
          "execution_count": 25
        }
      ]
    },
    {
      "cell_type": "code",
      "metadata": {
        "colab": {
          "base_uri": "https://localhost:8080/"
        },
        "id": "J8AdCz02Lm5V",
        "outputId": "e229f8a1-5a03-4eb2-c7e2-51d110739005"
      },
      "source": [
        "sys.modules"
      ],
      "execution_count": null,
      "outputs": [
        {
          "output_type": "execute_result",
          "data": {
            "text/plain": [
              "{'sys': <module 'sys' (built-in)>,\n",
              " 'builtins': <module 'builtins' (built-in)>,\n",
              " '_frozen_importlib': <module 'importlib._bootstrap' (frozen)>,\n",
              " '_imp': <module '_imp' (built-in)>,\n",
              " '_thread': <module '_thread' (built-in)>,\n",
              " '_warnings': <module '_warnings' (built-in)>,\n",
              " '_weakref': <module '_weakref' (built-in)>,\n",
              " 'zipimport': <module 'zipimport' (built-in)>,\n",
              " '_frozen_importlib_external': <module 'importlib._bootstrap_external' (frozen)>,\n",
              " '_io': <module 'io' (built-in)>,\n",
              " 'marshal': <module 'marshal' (built-in)>,\n",
              " 'posix': <module 'posix' (built-in)>,\n",
              " 'encodings': <module 'encodings' from '/usr/lib/python3.7/encodings/__init__.py'>,\n",
              " 'codecs': <module 'codecs' from '/usr/lib/python3.7/codecs.py'>,\n",
              " '_codecs': <module '_codecs' (built-in)>,\n",
              " 'encodings.aliases': <module 'encodings.aliases' from '/usr/lib/python3.7/encodings/aliases.py'>,\n",
              " 'encodings.utf_8': <module 'encodings.utf_8' from '/usr/lib/python3.7/encodings/utf_8.py'>,\n",
              " '_signal': <module '_signal' (built-in)>,\n",
              " '__main__': <module '__main__'>,\n",
              " 'encodings.latin_1': <module 'encodings.latin_1' from '/usr/lib/python3.7/encodings/latin_1.py'>,\n",
              " 'io': <module 'io' from '/usr/lib/python3.7/io.py'>,\n",
              " 'abc': <module 'abc' from '/usr/lib/python3.7/abc.py'>,\n",
              " '_abc': <module '_abc' (built-in)>,\n",
              " '_bootlocale': <module '_bootlocale' from '/usr/lib/python3.7/_bootlocale.py'>,\n",
              " '_locale': <module '_locale' (built-in)>,\n",
              " 'warnings': <module 'warnings' from '/usr/lib/python3.7/warnings.py'>,\n",
              " 're': <module 're' from '/usr/lib/python3.7/re.py'>,\n",
              " 'enum': <module 'enum' from '/usr/lib/python3.7/enum.py'>,\n",
              " 'types': <module 'types' from '/usr/lib/python3.7/types.py'>,\n",
              " '_collections': <module '_collections' (built-in)>,\n",
              " 'sre_compile': <module 'sre_compile' from '/usr/lib/python3.7/sre_compile.py'>,\n",
              " '_sre': <module '_sre' (built-in)>,\n",
              " 'sre_parse': <module 'sre_parse' from '/usr/lib/python3.7/sre_parse.py'>,\n",
              " 'sre_constants': <module 'sre_constants' from '/usr/lib/python3.7/sre_constants.py'>,\n",
              " 'functools': <module 'functools' from '/usr/lib/python3.7/functools.py'>,\n",
              " '_functools': <module '_functools' (built-in)>,\n",
              " 'collections': <module 'collections' from '/usr/lib/python3.7/collections/__init__.py'>,\n",
              " '_collections_abc': <module '_collections_abc' from '/usr/lib/python3.7/_collections_abc.py'>,\n",
              " 'operator': <module 'operator' from '/usr/lib/python3.7/operator.py'>,\n",
              " '_operator': <module '_operator' (built-in)>,\n",
              " 'keyword': <module 'keyword' from '/usr/lib/python3.7/keyword.py'>,\n",
              " 'heapq': <module 'heapq' from '/usr/lib/python3.7/heapq.py'>,\n",
              " '_heapq': <module '_heapq' (built-in)>,\n",
              " 'itertools': <module 'itertools' (built-in)>,\n",
              " 'reprlib': <module 'reprlib' from '/usr/lib/python3.7/reprlib.py'>,\n",
              " 'copyreg': <module 'copyreg' from '/usr/lib/python3.7/copyreg.py'>,\n",
              " 'site': <module 'site' from '/usr/lib/python3.7/site.py'>,\n",
              " 'os': <module 'os' from '/usr/lib/python3.7/os.py'>,\n",
              " 'stat': <module 'stat' from '/usr/lib/python3.7/stat.py'>,\n",
              " '_stat': <module '_stat' (built-in)>,\n",
              " 'posixpath': <module 'posixpath' from '/usr/lib/python3.7/posixpath.py'>,\n",
              " 'genericpath': <module 'genericpath' from '/usr/lib/python3.7/genericpath.py'>,\n",
              " 'os.path': <module 'posixpath' from '/usr/lib/python3.7/posixpath.py'>,\n",
              " '_sitebuiltins': <module '_sitebuiltins' from '/usr/lib/python3.7/_sitebuiltins.py'>,\n",
              " 'importlib': <module 'importlib' from '/usr/lib/python3.7/importlib/__init__.py'>,\n",
              " 'importlib._bootstrap': <module 'importlib._bootstrap' (frozen)>,\n",
              " 'importlib._bootstrap_external': <module 'importlib._bootstrap_external' (frozen)>,\n",
              " 'importlib.util': <module 'importlib.util' from '/usr/lib/python3.7/importlib/util.py'>,\n",
              " 'importlib.abc': <module 'importlib.abc' from '/usr/lib/python3.7/importlib/abc.py'>,\n",
              " 'importlib.machinery': <module 'importlib.machinery' from '/usr/lib/python3.7/importlib/machinery.py'>,\n",
              " 'contextlib': <module 'contextlib' from '/usr/lib/python3.7/contextlib.py'>,\n",
              " 'google': <module 'google' (namespace)>,\n",
              " 'google.cloud': <module 'google.cloud' (namespace)>,\n",
              " 'google.logging': <module 'google.logging' (namespace)>,\n",
              " 'mpl_toolkits': <module 'mpl_toolkits' (namespace)>,\n",
              " 'sphinxcontrib': <module 'sphinxcontrib' (namespace)>,\n",
              " 'sitecustomize': <module 'sitecustomize' from '/usr/lib/python3.7/sitecustomize.py'>,\n",
              " 'runpy': <module 'runpy' from '/usr/lib/python3.7/runpy.py'>,\n",
              " 'pkgutil': <module 'pkgutil' from '/usr/lib/python3.7/pkgutil.py'>,\n",
              " 'weakref': <module 'weakref' from '/usr/lib/python3.7/weakref.py'>,\n",
              " '_weakrefset': <module '_weakrefset' from '/usr/lib/python3.7/_weakrefset.py'>,\n",
              " 'ipykernel': <module 'ipykernel' from '/usr/local/lib/python3.7/dist-packages/ipykernel/__init__.py'>,\n",
              " 'ipykernel._version': <module 'ipykernel._version' from '/usr/local/lib/python3.7/dist-packages/ipykernel/_version.py'>,\n",
              " 'ipykernel.connect': <module 'ipykernel.connect' from '/usr/local/lib/python3.7/dist-packages/ipykernel/connect.py'>,\n",
              " '__future__': <module '__future__' from '/usr/lib/python3.7/__future__.py'>,\n",
              " 'json': <module 'json' from '/usr/lib/python3.7/json/__init__.py'>,\n",
              " 'json.decoder': <module 'json.decoder' from '/usr/lib/python3.7/json/decoder.py'>,\n",
              " 'json.scanner': <module 'json.scanner' from '/usr/lib/python3.7/json/scanner.py'>,\n",
              " '_json': <module '_json' from '/usr/lib/python3.7/lib-dynload/_json.cpython-37m-x86_64-linux-gnu.so'>,\n",
              " 'json.encoder': <module 'json.encoder' from '/usr/lib/python3.7/json/encoder.py'>,\n",
              " 'subprocess': <module 'subprocess' from '/usr/lib/python3.7/subprocess.py'>,\n",
              " 'time': <module 'time' (built-in)>,\n",
              " 'signal': <module 'signal' from '/usr/lib/python3.7/signal.py'>,\n",
              " 'errno': <module 'errno' (built-in)>,\n",
              " '_posixsubprocess': <module '_posixsubprocess' (built-in)>,\n",
              " 'select': <module 'select' (built-in)>,\n",
              " 'selectors': <module 'selectors' from '/usr/lib/python3.7/selectors.py'>,\n",
              " 'collections.abc': <module 'collections.abc' from '/usr/lib/python3.7/collections/abc.py'>,\n",
              " 'math': <module 'math' (built-in)>,\n",
              " 'threading': <module 'threading' from '/usr/lib/python3.7/threading.py'>,\n",
              " 'traceback': <module 'traceback' from '/usr/lib/python3.7/traceback.py'>,\n",
              " 'linecache': <module 'linecache' from '/usr/lib/python3.7/linecache.py'>,\n",
              " 'tokenize': <module 'tokenize' from '/usr/lib/python3.7/tokenize.py'>,\n",
              " 'token': <module 'token' from '/usr/lib/python3.7/token.py'>,\n",
              " 'IPython': <module 'IPython' from '/usr/local/lib/python3.7/dist-packages/IPython/__init__.py'>,\n",
              " 'IPython.core': <module 'IPython.core' from '/usr/local/lib/python3.7/dist-packages/IPython/core/__init__.py'>,\n",
              " 'IPython.core.getipython': <module 'IPython.core.getipython' from '/usr/local/lib/python3.7/dist-packages/IPython/core/getipython.py'>,\n",
              " 'IPython.core.release': <module 'IPython.core.release' from '/usr/local/lib/python3.7/dist-packages/IPython/core/release.py'>,\n",
              " 'IPython.core.application': <module 'IPython.core.application' from '/usr/local/lib/python3.7/dist-packages/IPython/core/application.py'>,\n",
              " 'atexit': <module 'atexit' (built-in)>,\n",
              " 'copy': <module 'copy' from '/usr/lib/python3.7/copy.py'>,\n",
              " 'glob': <module 'glob' from '/usr/lib/python3.7/glob.py'>,\n",
              " 'fnmatch': <module 'fnmatch' from '/usr/lib/python3.7/fnmatch.py'>,\n",
              " 'logging': <module 'logging' from '/usr/lib/python3.7/logging/__init__.py'>,\n",
              " 'string': <module 'string' from '/usr/lib/python3.7/string.py'>,\n",
              " '_string': <module '_string' (built-in)>,\n",
              " 'shutil': <module 'shutil' from '/usr/lib/python3.7/shutil.py'>,\n",
              " 'zlib': <module 'zlib' (built-in)>,\n",
              " 'bz2': <module 'bz2' from '/usr/lib/python3.7/bz2.py'>,\n",
              " '_compression': <module '_compression' from '/usr/lib/python3.7/_compression.py'>,\n",
              " '_bz2': <module '_bz2' from '/usr/lib/python3.7/lib-dynload/_bz2.cpython-37m-x86_64-linux-gnu.so'>,\n",
              " 'lzma': <module 'lzma' from '/usr/lib/python3.7/lzma.py'>,\n",
              " '_lzma': <module '_lzma' from '/usr/lib/python3.7/lib-dynload/_lzma.cpython-37m-x86_64-linux-gnu.so'>,\n",
              " 'pwd': <module 'pwd' (built-in)>,\n",
              " 'grp': <module 'grp' (built-in)>,\n",
              " 'traitlets': <module 'traitlets' from '/usr/local/lib/python3.7/dist-packages/traitlets/__init__.py'>,\n",
              " 'traitlets.traitlets': <module 'traitlets.traitlets' from '/usr/local/lib/python3.7/dist-packages/traitlets/traitlets.py'>,\n",
              " 'ast': <module 'ast' from '/usr/lib/python3.7/ast.py'>,\n",
              " '_ast': <module '_ast' (built-in)>,\n",
              " 'inspect': <module 'inspect' from '/usr/lib/python3.7/inspect.py'>,\n",
              " 'dis': <module 'dis' from '/usr/lib/python3.7/dis.py'>,\n",
              " 'opcode': <module 'opcode' from '/usr/lib/python3.7/opcode.py'>,\n",
              " '_opcode': <module '_opcode' from '/usr/lib/python3.7/lib-dynload/_opcode.cpython-37m-x86_64-linux-gnu.so'>,\n",
              " 'traitlets.utils': <module 'traitlets.utils' from '/usr/local/lib/python3.7/dist-packages/traitlets/utils/__init__.py'>,\n",
              " 'traitlets.utils.getargspec': <module 'traitlets.utils.getargspec' from '/usr/local/lib/python3.7/dist-packages/traitlets/utils/getargspec.py'>,\n",
              " 'traitlets.utils.importstring': <module 'traitlets.utils.importstring' from '/usr/local/lib/python3.7/dist-packages/traitlets/utils/importstring.py'>,\n",
              " 'traitlets.utils.sentinel': <module 'traitlets.utils.sentinel' from '/usr/local/lib/python3.7/dist-packages/traitlets/utils/sentinel.py'>,\n",
              " 'traitlets.utils.bunch': <module 'traitlets.utils.bunch' from '/usr/local/lib/python3.7/dist-packages/traitlets/utils/bunch.py'>,\n",
              " 'traitlets.utils.descriptions': <module 'traitlets.utils.descriptions' from '/usr/local/lib/python3.7/dist-packages/traitlets/utils/descriptions.py'>,\n",
              " 'traitlets.utils.decorators': <module 'traitlets.utils.decorators' from '/usr/local/lib/python3.7/dist-packages/traitlets/utils/decorators.py'>,\n",
              " 'traitlets._version': <module 'traitlets._version' from '/usr/local/lib/python3.7/dist-packages/traitlets/_version.py'>,\n",
              " 'traitlets.config': <module 'traitlets.config' from '/usr/local/lib/python3.7/dist-packages/traitlets/config/__init__.py'>,\n",
              " 'traitlets.config.application': <module 'traitlets.config.application' from '/usr/local/lib/python3.7/dist-packages/traitlets/config/application.py'>,\n",
              " 'pprint': <module 'pprint' from '/usr/lib/python3.7/pprint.py'>,\n",
              " 'traitlets.config.configurable': <module 'traitlets.config.configurable' from '/usr/local/lib/python3.7/dist-packages/traitlets/config/configurable.py'>,\n",
              " 'traitlets.config.loader': <module 'traitlets.config.loader' from '/usr/local/lib/python3.7/dist-packages/traitlets/config/loader.py'>,\n",
              " 'argparse': <module 'argparse' from '/usr/lib/python3.7/argparse.py'>,\n",
              " 'gettext': <module 'gettext' from '/usr/lib/python3.7/gettext.py'>,\n",
              " 'locale': <module 'locale' from '/usr/lib/python3.7/locale.py'>,\n",
              " 'ipython_genutils': <module 'ipython_genutils' from '/usr/local/lib/python3.7/dist-packages/ipython_genutils/__init__.py'>,\n",
              " 'ipython_genutils._version': <module 'ipython_genutils._version' from '/usr/local/lib/python3.7/dist-packages/ipython_genutils/_version.py'>,\n",
              " 'ipython_genutils.path': <module 'ipython_genutils.path' from '/usr/local/lib/python3.7/dist-packages/ipython_genutils/path.py'>,\n",
              " 'random': <module 'random' from '/usr/lib/python3.7/random.py'>,\n",
              " 'hashlib': <module 'hashlib' from '/usr/lib/python3.7/hashlib.py'>,\n",
              " '_hashlib': <module '_hashlib' from '/usr/lib/python3.7/lib-dynload/_hashlib.cpython-37m-x86_64-linux-gnu.so'>,\n",
              " '_blake2': <module '_blake2' (built-in)>,\n",
              " '_sha3': <module '_sha3' (built-in)>,\n",
              " 'bisect': <module 'bisect' from '/usr/lib/python3.7/bisect.py'>,\n",
              " '_bisect': <module '_bisect' (built-in)>,\n",
              " '_random': <module '_random' (built-in)>,\n",
              " 'ipython_genutils.py3compat': <module 'ipython_genutils.py3compat' from '/usr/local/lib/python3.7/dist-packages/ipython_genutils/py3compat.py'>,\n",
              " 'ipython_genutils.encoding': <module 'ipython_genutils.encoding' from '/usr/local/lib/python3.7/dist-packages/ipython_genutils/encoding.py'>,\n",
              " 'platform': <module 'platform' from '/usr/lib/python3.7/platform.py'>,\n",
              " 'ipython_genutils.text': <module 'ipython_genutils.text' from '/usr/local/lib/python3.7/dist-packages/ipython_genutils/text.py'>,\n",
              " 'textwrap': <module 'textwrap' from '/usr/lib/python3.7/textwrap.py'>,\n",
              " 'IPython.core.crashhandler': <module 'IPython.core.crashhandler' from '/usr/local/lib/python3.7/dist-packages/IPython/core/crashhandler.py'>,\n",
              " 'IPython.core.ultratb': <module 'IPython.core.ultratb' from '/usr/local/lib/python3.7/dist-packages/IPython/core/ultratb.py'>,\n",
              " 'pydoc': <module 'pydoc' from '/usr/lib/python3.7/pydoc.py'>,\n",
              " 'sysconfig': <module 'sysconfig' from '/usr/lib/python3.7/sysconfig.py'>,\n",
              " 'urllib': <module 'urllib' from '/usr/lib/python3.7/urllib/__init__.py'>,\n",
              " 'urllib.parse': <module 'urllib.parse' from '/usr/lib/python3.7/urllib/parse.py'>,\n",
              " '_sysconfigdata_m_linux_x86_64-linux-gnu': <module '_sysconfigdata_m_linux_x86_64-linux-gnu' from '/usr/lib/python3.7/_sysconfigdata_m_linux_x86_64-linux-gnu.py'>,\n",
              " 'IPython.core.debugger': <module 'IPython.core.debugger' from '/usr/local/lib/python3.7/dist-packages/IPython/core/debugger.py'>,\n",
              " 'bdb': <module 'bdb' from '/usr/lib/python3.7/bdb.py'>,\n",
              " 'IPython.utils': <module 'IPython.utils' from '/usr/local/lib/python3.7/dist-packages/IPython/utils/__init__.py'>,\n",
              " 'IPython.utils.PyColorize': <module 'IPython.utils.PyColorize' from '/usr/local/lib/python3.7/dist-packages/IPython/utils/PyColorize.py'>,\n",
              " 'IPython.utils.coloransi': <module 'IPython.utils.coloransi' from '/usr/local/lib/python3.7/dist-packages/IPython/utils/coloransi.py'>,\n",
              " 'IPython.utils.ipstruct': <module 'IPython.utils.ipstruct' from '/usr/local/lib/python3.7/dist-packages/IPython/utils/ipstruct.py'>,\n",
              " 'IPython.utils.py3compat': <module 'IPython.utils.py3compat' from '/usr/local/lib/python3.7/dist-packages/IPython/utils/py3compat.py'>,\n",
              " 'IPython.utils.encoding': <module 'IPython.utils.encoding' from '/usr/local/lib/python3.7/dist-packages/IPython/utils/encoding.py'>,\n",
              " 'IPython.utils.colorable': <module 'IPython.utils.colorable' from '/usr/local/lib/python3.7/dist-packages/IPython/utils/colorable.py'>,\n",
              " 'pygments': <module 'pygments' from '/usr/local/lib/python3.7/dist-packages/pygments/__init__.py'>,\n",
              " 'IPython.utils.ulinecache': <module 'IPython.utils.ulinecache' from '/usr/local/lib/python3.7/dist-packages/IPython/utils/ulinecache.py'>,\n",
              " 'IPython.utils.openpy': <module 'IPython.utils.openpy' from '/usr/local/lib/python3.7/dist-packages/IPython/utils/openpy.py'>,\n",
              " 'IPython.core.excolors': <module 'IPython.core.excolors' from '/usr/local/lib/python3.7/dist-packages/IPython/core/excolors.py'>,\n",
              " 'IPython.testing': <module 'IPython.testing' from '/usr/local/lib/python3.7/dist-packages/IPython/testing/__init__.py'>,\n",
              " 'IPython.testing.skipdoctest': <module 'IPython.testing.skipdoctest' from '/usr/local/lib/python3.7/dist-packages/IPython/testing/skipdoctest.py'>,\n",
              " 'pdb': <module 'pdb' from '/usr/lib/python3.7/pdb.py'>,\n",
              " 'cmd': <module 'cmd' from '/usr/lib/python3.7/cmd.py'>,\n",
              " 'code': <module 'code' from '/usr/lib/python3.7/code.py'>,\n",
              " 'codeop': <module 'codeop' from '/usr/lib/python3.7/codeop.py'>,\n",
              " 'IPython.core.display_trap': <module 'IPython.core.display_trap' from '/usr/local/lib/python3.7/dist-packages/IPython/core/display_trap.py'>,\n",
              " 'IPython.utils.path': <module 'IPython.utils.path' from '/usr/local/lib/python3.7/dist-packages/IPython/utils/path.py'>,\n",
              " 'IPython.utils.process': <module 'IPython.utils.process' from '/usr/local/lib/python3.7/dist-packages/IPython/utils/process.py'>,\n",
              " 'IPython.utils._process_posix': <module 'IPython.utils._process_posix' from '/usr/local/lib/python3.7/dist-packages/IPython/utils/_process_posix.py'>,\n",
              " 'pexpect': <module 'pexpect' from '/usr/local/lib/python3.7/dist-packages/pexpect/__init__.py'>,\n",
              " 'pexpect.exceptions': <module 'pexpect.exceptions' from '/usr/local/lib/python3.7/dist-packages/pexpect/exceptions.py'>,\n",
              " 'pexpect.utils': <module 'pexpect.utils' from '/usr/local/lib/python3.7/dist-packages/pexpect/utils.py'>,\n",
              " 'pexpect.expect': <module 'pexpect.expect' from '/usr/local/lib/python3.7/dist-packages/pexpect/expect.py'>,\n",
              " 'pexpect.pty_spawn': <module 'pexpect.pty_spawn' from '/usr/local/lib/python3.7/dist-packages/pexpect/pty_spawn.py'>,\n",
              " 'pty': <module 'pty' from '/usr/lib/python3.7/pty.py'>,\n",
              " 'tty': <module 'tty' from '/usr/lib/python3.7/tty.py'>,\n",
              " 'termios': <module 'termios' from '/usr/lib/python3.7/lib-dynload/termios.cpython-37m-x86_64-linux-gnu.so'>,\n",
              " 'ptyprocess': <module 'ptyprocess' from '/usr/local/lib/python3.7/dist-packages/ptyprocess/__init__.py'>,\n",
              " 'ptyprocess.ptyprocess': <module 'ptyprocess.ptyprocess' from '/usr/local/lib/python3.7/dist-packages/ptyprocess/ptyprocess.py'>,\n",
              " 'fcntl': <module 'fcntl' (built-in)>,\n",
              " 'resource': <module 'resource' from '/usr/lib/python3.7/lib-dynload/resource.cpython-37m-x86_64-linux-gnu.so'>,\n",
              " 'struct': <module 'struct' from '/usr/lib/python3.7/struct.py'>,\n",
              " '_struct': <module '_struct' (built-in)>,\n",
              " 'ptyprocess.util': <module 'ptyprocess.util' from '/usr/local/lib/python3.7/dist-packages/ptyprocess/util.py'>,\n",
              " 'pexpect.spawnbase': <module 'pexpect.spawnbase' from '/usr/local/lib/python3.7/dist-packages/pexpect/spawnbase.py'>,\n",
              " 'pexpect.run': <module 'pexpect.run' from '/usr/local/lib/python3.7/dist-packages/pexpect/run.py'>,\n",
              " 'IPython.utils._process_common': <module 'IPython.utils._process_common' from '/usr/local/lib/python3.7/dist-packages/IPython/utils/_process_common.py'>,\n",
              " 'shlex': <module 'shlex' from '/usr/lib/python3.7/shlex.py'>,\n",
              " 'IPython.utils.decorators': <module 'IPython.utils.decorators' from '/usr/local/lib/python3.7/dist-packages/IPython/utils/decorators.py'>,\n",
              " 'IPython.utils.data': <module 'IPython.utils.data' from '/usr/local/lib/python3.7/dist-packages/IPython/utils/data.py'>,\n",
              " 'IPython.utils.terminal': <module 'IPython.utils.terminal' from '/usr/local/lib/python3.7/dist-packages/IPython/utils/terminal.py'>,\n",
              " 'IPython.utils.sysinfo': <module 'IPython.utils.sysinfo' from '/usr/local/lib/python3.7/dist-packages/IPython/utils/sysinfo.py'>,\n",
              " 'IPython.utils._sysinfo': <module 'IPython.utils._sysinfo' from '/usr/local/lib/python3.7/dist-packages/IPython/utils/_sysinfo.py'>,\n",
              " 'IPython.core.profiledir': <module 'IPython.core.profiledir' from '/usr/local/lib/python3.7/dist-packages/IPython/core/profiledir.py'>,\n",
              " 'IPython.paths': <module 'IPython.paths' from '/usr/local/lib/python3.7/dist-packages/IPython/paths.py'>,\n",
              " 'tempfile': <module 'tempfile' from '/usr/lib/python3.7/tempfile.py'>,\n",
              " 'IPython.utils.importstring': <module 'IPython.utils.importstring' from '/usr/local/lib/python3.7/dist-packages/IPython/utils/importstring.py'>,\n",
              " 'IPython.terminal': <module 'IPython.terminal' from '/usr/local/lib/python3.7/dist-packages/IPython/terminal/__init__.py'>,\n",
              " 'IPython.terminal.embed': <module 'IPython.terminal.embed' from '/usr/local/lib/python3.7/dist-packages/IPython/terminal/embed.py'>,\n",
              " 'IPython.core.compilerop': <module 'IPython.core.compilerop' from '/usr/local/lib/python3.7/dist-packages/IPython/core/compilerop.py'>,\n",
              " 'IPython.core.magic_arguments': <module 'IPython.core.magic_arguments' from '/usr/local/lib/python3.7/dist-packages/IPython/core/magic_arguments.py'>,\n",
              " 'IPython.core.error': <module 'IPython.core.error' from '/usr/local/lib/python3.7/dist-packages/IPython/core/error.py'>,\n",
              " 'IPython.utils.text': <module 'IPython.utils.text' from '/usr/local/lib/python3.7/dist-packages/IPython/utils/text.py'>,\n",
              " 'pathlib': <module 'pathlib' from '/usr/lib/python3.7/pathlib.py'>,\n",
              " 'ntpath': <module 'ntpath' from '/usr/lib/python3.7/ntpath.py'>,\n",
              " 'IPython.core.magic': <module 'IPython.core.magic' from '/usr/local/lib/python3.7/dist-packages/IPython/core/magic.py'>,\n",
              " 'getopt': <module 'getopt' from '/usr/lib/python3.7/getopt.py'>,\n",
              " 'IPython.core.oinspect': <module 'IPython.core.oinspect' from '/usr/local/lib/python3.7/dist-packages/IPython/core/oinspect.py'>,\n",
              " 'IPython.core.page': <module 'IPython.core.page' from '/usr/local/lib/python3.7/dist-packages/IPython/core/page.py'>,\n",
              " 'IPython.core.display': <module 'IPython.core.display' from '/usr/local/lib/python3.7/dist-packages/IPython/core/display.py'>,\n",
              " 'base64': <module 'base64' from '/usr/lib/python3.7/base64.py'>,\n",
              " 'binascii': <module 'binascii' (built-in)>,\n",
              " 'mimetypes': <module 'mimetypes' from '/usr/lib/python3.7/mimetypes.py'>,\n",
              " 'IPython.lib': <module 'IPython.lib' from '/usr/local/lib/python3.7/dist-packages/IPython/lib/__init__.py'>,\n",
              " 'IPython.lib.security': <module 'IPython.lib.security' from '/usr/local/lib/python3.7/dist-packages/IPython/lib/security.py'>,\n",
              " 'getpass': <module 'getpass' from '/usr/lib/python3.7/getpass.py'>,\n",
              " 'IPython.lib.pretty': <module 'IPython.lib.pretty' from '/usr/local/lib/python3.7/dist-packages/IPython/lib/pretty.py'>,\n",
              " 'datetime': <module 'datetime' from '/usr/lib/python3.7/datetime.py'>,\n",
              " '_datetime': <module '_datetime' (built-in)>,\n",
              " 'IPython.utils.dir2': <module 'IPython.utils.dir2' from '/usr/local/lib/python3.7/dist-packages/IPython/utils/dir2.py'>,\n",
              " 'IPython.utils.wildcard': <module 'IPython.utils.wildcard' from '/usr/local/lib/python3.7/dist-packages/IPython/utils/wildcard.py'>,\n",
              " 'IPython.utils.signatures': <module 'IPython.utils.signatures' from '/usr/local/lib/python3.7/dist-packages/IPython/utils/signatures.py'>,\n",
              " 'pygments.lexers': <module 'pygments.lexers' from '/usr/local/lib/python3.7/dist-packages/pygments/lexers/__init__.py'>,\n",
              " 'pygments.lexers._mapping': <module 'pygments.lexers._mapping' from '/usr/local/lib/python3.7/dist-packages/pygments/lexers/_mapping.py'>,\n",
              " 'pygments.modeline': <module 'pygments.modeline' from '/usr/local/lib/python3.7/dist-packages/pygments/modeline.py'>,\n",
              " 'pygments.plugin': <module 'pygments.plugin' from '/usr/local/lib/python3.7/dist-packages/pygments/plugin.py'>,\n",
              " 'pygments.util': <module 'pygments.util' from '/usr/local/lib/python3.7/dist-packages/pygments/util.py'>,\n",
              " 'pygments.lexers.python': <module 'pygments.lexers.python' from '/usr/local/lib/python3.7/dist-packages/pygments/lexers/python.py'>,\n",
              " 'pygments.lexer': <module 'pygments.lexer' from '/usr/local/lib/python3.7/dist-packages/pygments/lexer.py'>,\n",
              " 'pygments.filter': <module 'pygments.filter' from '/usr/local/lib/python3.7/dist-packages/pygments/filter.py'>,\n",
              " 'pygments.filters': <module 'pygments.filters' from '/usr/local/lib/python3.7/dist-packages/pygments/filters/__init__.py'>,\n",
              " 'pygments.token': <module 'pygments.token' from '/usr/local/lib/python3.7/dist-packages/pygments/token.py'>,\n",
              " 'pygments.regexopt': <module 'pygments.regexopt' from '/usr/local/lib/python3.7/dist-packages/pygments/regexopt.py'>,\n",
              " 'pygments.unistring': <module 'pygments.unistring' from '/usr/local/lib/python3.7/dist-packages/pygments/unistring.py'>,\n",
              " 'pygments.formatters': <module 'pygments.formatters' from '/usr/local/lib/python3.7/dist-packages/pygments/formatters/__init__.py'>,\n",
              " 'pygments.formatters._mapping': <module 'pygments.formatters._mapping' from '/usr/local/lib/python3.7/dist-packages/pygments/formatters/_mapping.py'>,\n",
              " 'pygments.formatters.html': <module 'pygments.formatters.html' from '/usr/local/lib/python3.7/dist-packages/pygments/formatters/html.py'>,\n",
              " 'pygments.formatter': <module 'pygments.formatter' from '/usr/local/lib/python3.7/dist-packages/pygments/formatter.py'>,\n",
              " 'pygments.styles': <module 'pygments.styles' from '/usr/local/lib/python3.7/dist-packages/pygments/styles/__init__.py'>,\n",
              " 'IPython.core.inputsplitter': <module 'IPython.core.inputsplitter' from '/usr/local/lib/python3.7/dist-packages/IPython/core/inputsplitter.py'>,\n",
              " 'IPython.core.inputtransformer': <module 'IPython.core.inputtransformer' from '/usr/local/lib/python3.7/dist-packages/IPython/core/inputtransformer.py'>,\n",
              " 'IPython.core.splitinput': <module 'IPython.core.splitinput' from '/usr/local/lib/python3.7/dist-packages/IPython/core/splitinput.py'>,\n",
              " 'IPython.utils.tokenize2': <module 'IPython.utils.tokenize2' from '/usr/local/lib/python3.7/dist-packages/IPython/utils/tokenize2.py'>,\n",
              " 'IPython.utils._tokenize_py3': <module 'IPython.utils._tokenize_py3' from '/usr/local/lib/python3.7/dist-packages/IPython/utils/_tokenize_py3.py'>,\n",
              " 'decorator': <module 'decorator' from '/usr/local/lib/python3.7/dist-packages/decorator.py'>,\n",
              " 'IPython.core.interactiveshell': <module 'IPython.core.interactiveshell' from '/usr/local/lib/python3.7/dist-packages/IPython/core/interactiveshell.py'>,\n",
              " 'pickleshare': <module 'pickleshare' from '/usr/local/lib/python3.7/dist-packages/pickleshare.py'>,\n",
              " 'pickle': <module 'pickle' from '/usr/lib/python3.7/pickle.py'>,\n",
              " '_compat_pickle': <module '_compat_pickle' from '/usr/lib/python3.7/_compat_pickle.py'>,\n",
              " '_pickle': <module '_pickle' (built-in)>,\n",
              " 'IPython.core.prefilter': <module 'IPython.core.prefilter' from '/usr/local/lib/python3.7/dist-packages/IPython/core/prefilter.py'>,\n",
              " 'IPython.core.autocall': <module 'IPython.core.autocall' from '/usr/local/lib/python3.7/dist-packages/IPython/core/autocall.py'>,\n",
              " 'IPython.core.macro': <module 'IPython.core.macro' from '/usr/local/lib/python3.7/dist-packages/IPython/core/macro.py'>,\n",
              " 'IPython.core.shadowns': <module 'IPython.core.shadowns' from '/usr/local/lib/python3.7/dist-packages/IPython/core/shadowns.py'>,\n",
              " 'IPython.core.alias': <module 'IPython.core.alias' from '/usr/local/lib/python3.7/dist-packages/IPython/core/alias.py'>,\n",
              " 'IPython.core.builtin_trap': <module 'IPython.core.builtin_trap' from '/usr/local/lib/python3.7/dist-packages/IPython/core/builtin_trap.py'>,\n",
              " 'IPython.core.events': <module 'IPython.core.events' from '/usr/local/lib/python3.7/dist-packages/IPython/core/events.py'>,\n",
              " 'IPython.core.displayhook': <module 'IPython.core.displayhook' from '/usr/local/lib/python3.7/dist-packages/IPython/core/displayhook.py'>,\n",
              " 'IPython.core.displaypub': <module 'IPython.core.displaypub' from '/usr/local/lib/python3.7/dist-packages/IPython/core/displaypub.py'>,\n",
              " 'IPython.core.extensions': <module 'IPython.core.extensions' from '/usr/local/lib/python3.7/dist-packages/IPython/core/extensions.py'>,\n",
              " 'IPython.core.formatters': <module 'IPython.core.formatters' from '/usr/local/lib/python3.7/dist-packages/IPython/core/formatters.py'>,\n",
              " 'IPython.utils.sentinel': <module 'IPython.utils.sentinel' from '/usr/local/lib/python3.7/dist-packages/IPython/utils/sentinel.py'>,\n",
              " 'IPython.core.history': <module 'IPython.core.history' from '/usr/local/lib/python3.7/dist-packages/IPython/core/history.py'>,\n",
              " 'sqlite3': <module 'sqlite3' from '/usr/lib/python3.7/sqlite3/__init__.py'>,\n",
              " 'sqlite3.dbapi2': <module 'sqlite3.dbapi2' from '/usr/lib/python3.7/sqlite3/dbapi2.py'>,\n",
              " '_sqlite3': <module '_sqlite3' from '/usr/lib/python3.7/lib-dynload/_sqlite3.cpython-37m-x86_64-linux-gnu.so'>,\n",
              " 'IPython.core.logger': <module 'IPython.core.logger' from '/usr/local/lib/python3.7/dist-packages/IPython/core/logger.py'>,\n",
              " 'IPython.core.payload': <module 'IPython.core.payload' from '/usr/local/lib/python3.7/dist-packages/IPython/core/payload.py'>,\n",
              " 'IPython.core.usage': <module 'IPython.core.usage' from '/usr/local/lib/python3.7/dist-packages/IPython/core/usage.py'>,\n",
              " 'IPython.display': <module 'IPython.display' from '/usr/local/lib/python3.7/dist-packages/IPython/display.py'>,\n",
              " 'IPython.lib.display': <module 'IPython.lib.display' from '/usr/local/lib/python3.7/dist-packages/IPython/lib/display.py'>,\n",
              " 'IPython.utils.io': <module 'IPython.utils.io' from '/usr/local/lib/python3.7/dist-packages/IPython/utils/io.py'>,\n",
              " 'IPython.utils.capture': <module 'IPython.utils.capture' from '/usr/local/lib/python3.7/dist-packages/IPython/utils/capture.py'>,\n",
              " 'IPython.utils.strdispatch': <module 'IPython.utils.strdispatch' from '/usr/local/lib/python3.7/dist-packages/IPython/utils/strdispatch.py'>,\n",
              " 'IPython.core.hooks': <module 'IPython.core.hooks' from '/usr/local/lib/python3.7/dist-packages/IPython/core/hooks.py'>,\n",
              " 'IPython.utils.syspathcontext': <module 'IPython.utils.syspathcontext' from '/usr/local/lib/python3.7/dist-packages/IPython/utils/syspathcontext.py'>,\n",
              " 'IPython.utils.tempdir': <module 'IPython.utils.tempdir' from '/usr/local/lib/python3.7/dist-packages/IPython/utils/tempdir.py'>,\n",
              " 'IPython.utils.contexts': <module 'IPython.utils.contexts' from '/usr/local/lib/python3.7/dist-packages/IPython/utils/contexts.py'>,\n",
              " 'IPython.terminal.interactiveshell': <module 'IPython.terminal.interactiveshell' from '/usr/local/lib/python3.7/dist-packages/IPython/terminal/interactiveshell.py'>,\n",
              " 'prompt_toolkit': <module 'prompt_toolkit' from '/usr/local/lib/python3.7/dist-packages/prompt_toolkit/__init__.py'>,\n",
              " 'prompt_toolkit.interface': <module 'prompt_toolkit.interface' from '/usr/local/lib/python3.7/dist-packages/prompt_toolkit/interface.py'>,\n",
              " 'six': <module 'six' from '/usr/local/lib/python3.7/dist-packages/six.py'>,\n",
              " 'prompt_toolkit.application': <module 'prompt_toolkit.application' from '/usr/local/lib/python3.7/dist-packages/prompt_toolkit/application.py'>,\n",
              " 'prompt_toolkit.buffer': <module 'prompt_toolkit.buffer' from '/usr/local/lib/python3.7/dist-packages/prompt_toolkit/buffer.py'>,\n",
              " 'prompt_toolkit.auto_suggest': <module 'prompt_toolkit.auto_suggest' from '/usr/local/lib/python3.7/dist-packages/prompt_toolkit/auto_suggest.py'>,\n",
              " 'prompt_toolkit.filters': <module 'prompt_toolkit.filters' from '/usr/local/lib/python3.7/dist-packages/prompt_toolkit/filters/__init__.py'>,\n",
              " 'prompt_toolkit.filters.base': <module 'prompt_toolkit.filters.base' from '/usr/local/lib/python3.7/dist-packages/prompt_toolkit/filters/base.py'>,\n",
              " 'prompt_toolkit.utils': <module 'prompt_toolkit.utils' from '/usr/local/lib/python3.7/dist-packages/prompt_toolkit/utils.py'>,\n",
              " 'wcwidth': <module 'wcwidth' from '/usr/local/lib/python3.7/dist-packages/wcwidth/__init__.py'>,\n",
              " 'wcwidth.wcwidth': <module 'wcwidth.wcwidth' from '/usr/local/lib/python3.7/dist-packages/wcwidth/wcwidth.py'>,\n",
              " 'wcwidth.table_wide': <module 'wcwidth.table_wide' from '/usr/local/lib/python3.7/dist-packages/wcwidth/table_wide.py'>,\n",
              " 'wcwidth.table_zero': <module 'wcwidth.table_zero' from '/usr/local/lib/python3.7/dist-packages/wcwidth/table_zero.py'>,\n",
              " 'wcwidth.unicode_versions': <module 'wcwidth.unicode_versions' from '/usr/local/lib/python3.7/dist-packages/wcwidth/unicode_versions.py'>,\n",
              " 'six.moves': <module 'six.moves' (<six._SixMetaPathImporter object at 0x7f574153dd90>)>,\n",
              " 'prompt_toolkit.filters.cli': <module 'prompt_toolkit.filters.cli' from '/usr/local/lib/python3.7/dist-packages/prompt_toolkit/filters/cli.py'>,\n",
              " 'prompt_toolkit.enums': <module 'prompt_toolkit.enums' from '/usr/local/lib/python3.7/dist-packages/prompt_toolkit/enums.py'>,\n",
              " 'prompt_toolkit.key_binding': <module 'prompt_toolkit.key_binding' from '/usr/local/lib/python3.7/dist-packages/prompt_toolkit/key_binding/__init__.py'>,\n",
              " 'prompt_toolkit.key_binding.vi_state': <module 'prompt_toolkit.key_binding.vi_state' from '/usr/local/lib/python3.7/dist-packages/prompt_toolkit/key_binding/vi_state.py'>,\n",
              " 'prompt_toolkit.cache': <module 'prompt_toolkit.cache' from '/usr/local/lib/python3.7/dist-packages/prompt_toolkit/cache.py'>,\n",
              " 'prompt_toolkit.filters.types': <module 'prompt_toolkit.filters.types' from '/usr/local/lib/python3.7/dist-packages/prompt_toolkit/filters/types.py'>,\n",
              " 'prompt_toolkit.filters.utils': <module 'prompt_toolkit.filters.utils' from '/usr/local/lib/python3.7/dist-packages/prompt_toolkit/filters/utils.py'>,\n",
              " 'prompt_toolkit.clipboard': <module 'prompt_toolkit.clipboard' from '/usr/local/lib/python3.7/dist-packages/prompt_toolkit/clipboard/__init__.py'>,\n",
              " 'prompt_toolkit.clipboard.base': <module 'prompt_toolkit.clipboard.base' from '/usr/local/lib/python3.7/dist-packages/prompt_toolkit/clipboard/base.py'>,\n",
              " 'prompt_toolkit.selection': <module 'prompt_toolkit.selection' from '/usr/local/lib/python3.7/dist-packages/prompt_toolkit/selection.py'>,\n",
              " 'prompt_toolkit.clipboard.in_memory': <module 'prompt_toolkit.clipboard.in_memory' from '/usr/local/lib/python3.7/dist-packages/prompt_toolkit/clipboard/in_memory.py'>,\n",
              " 'prompt_toolkit.completion': <module 'prompt_toolkit.completion' from '/usr/local/lib/python3.7/dist-packages/prompt_toolkit/completion.py'>,\n",
              " 'prompt_toolkit.document': <module 'prompt_toolkit.document' from '/usr/local/lib/python3.7/dist-packages/prompt_toolkit/document.py'>,\n",
              " 'prompt_toolkit.history': <module 'prompt_toolkit.history' from '/usr/local/lib/python3.7/dist-packages/prompt_toolkit/history.py'>,\n",
              " 'prompt_toolkit.search_state': <module 'prompt_toolkit.search_state' from '/usr/local/lib/python3.7/dist-packages/prompt_toolkit/search_state.py'>,\n",
              " 'prompt_toolkit.validation': <module 'prompt_toolkit.validation' from '/usr/local/lib/python3.7/dist-packages/prompt_toolkit/validation.py'>,\n",
              " 'prompt_toolkit.buffer_mapping': <module 'prompt_toolkit.buffer_mapping' from '/usr/local/lib/python3.7/dist-packages/prompt_toolkit/buffer_mapping.py'>,\n",
              " 'prompt_toolkit.key_binding.bindings': <module 'prompt_toolkit.key_binding.bindings' from '/usr/local/lib/python3.7/dist-packages/prompt_toolkit/key_binding/bindings/__init__.py'>,\n",
              " 'prompt_toolkit.key_binding.bindings.basic': <module 'prompt_toolkit.key_binding.bindings.basic' from '/usr/local/lib/python3.7/dist-packages/prompt_toolkit/key_binding/bindings/basic.py'>,\n",
              " 'prompt_toolkit.keys': <module 'prompt_toolkit.keys' from '/usr/local/lib/python3.7/dist-packages/prompt_toolkit/keys.py'>,\n",
              " 'prompt_toolkit.layout': <module 'prompt_toolkit.layout' from '/usr/local/lib/python3.7/dist-packages/prompt_toolkit/layout/__init__.py'>,\n",
              " 'prompt_toolkit.layout.containers': <module 'prompt_toolkit.layout.containers' from '/usr/local/lib/python3.7/dist-packages/prompt_toolkit/layout/containers.py'>,\n",
              " 'prompt_toolkit.layout.controls': <module 'prompt_toolkit.layout.controls' from '/usr/local/lib/python3.7/dist-packages/prompt_toolkit/layout/controls.py'>,\n",
              " 'prompt_toolkit.mouse_events': <module 'prompt_toolkit.mouse_events' from '/usr/local/lib/python3.7/dist-packages/prompt_toolkit/mouse_events.py'>,\n",
              " 'prompt_toolkit.token': <module 'prompt_toolkit.token' from '/usr/local/lib/python3.7/dist-packages/prompt_toolkit/token.py'>,\n",
              " 'prompt_toolkit.layout.lexers': <module 'prompt_toolkit.layout.lexers' from '/usr/local/lib/python3.7/dist-packages/prompt_toolkit/layout/lexers.py'>,\n",
              " 'prompt_toolkit.layout.utils': <module 'prompt_toolkit.layout.utils' from '/usr/local/lib/python3.7/dist-packages/prompt_toolkit/layout/utils.py'>,\n",
              " 'prompt_toolkit.layout.processors': <module 'prompt_toolkit.layout.processors' from '/usr/local/lib/python3.7/dist-packages/prompt_toolkit/layout/processors.py'>,\n",
              " 'prompt_toolkit.reactive': <module 'prompt_toolkit.reactive' from '/usr/local/lib/python3.7/dist-packages/prompt_toolkit/reactive.py'>,\n",
              " 'prompt_toolkit.layout.screen': <module 'prompt_toolkit.layout.screen' from '/usr/local/lib/python3.7/dist-packages/prompt_toolkit/layout/screen.py'>,\n",
              " 'prompt_toolkit.layout.dimension': <module 'prompt_toolkit.layout.dimension' from '/usr/local/lib/python3.7/dist-packages/prompt_toolkit/layout/dimension.py'>,\n",
              " 'prompt_toolkit.layout.margins': <module 'prompt_toolkit.layout.margins' from '/usr/local/lib/python3.7/dist-packages/prompt_toolkit/layout/margins.py'>,\n",
              " 'prompt_toolkit.renderer': <module 'prompt_toolkit.renderer' from '/usr/local/lib/python3.7/dist-packages/prompt_toolkit/renderer.py'>,\n",
              " 'prompt_toolkit.layout.mouse_handlers': <module 'prompt_toolkit.layout.mouse_handlers' from '/usr/local/lib/python3.7/dist-packages/prompt_toolkit/layout/mouse_handlers.py'>,\n",
              " 'prompt_toolkit.output': <module 'prompt_toolkit.output' from '/usr/local/lib/python3.7/dist-packages/prompt_toolkit/output.py'>,\n",
              " 'prompt_toolkit.styles': <module 'prompt_toolkit.styles' from '/usr/local/lib/python3.7/dist-packages/prompt_toolkit/styles/__init__.py'>,\n",
              " 'prompt_toolkit.styles.base': <module 'prompt_toolkit.styles.base' from '/usr/local/lib/python3.7/dist-packages/prompt_toolkit/styles/base.py'>,\n",
              " 'prompt_toolkit.styles.defaults': <module 'prompt_toolkit.styles.defaults' from '/usr/local/lib/python3.7/dist-packages/prompt_toolkit/styles/defaults.py'>,\n",
              " 'prompt_toolkit.styles.from_dict': <module 'prompt_toolkit.styles.from_dict' from '/usr/local/lib/python3.7/dist-packages/prompt_toolkit/styles/from_dict.py'>,\n",
              " 'prompt_toolkit.styles.utils': <module 'prompt_toolkit.styles.utils' from '/usr/local/lib/python3.7/dist-packages/prompt_toolkit/styles/utils.py'>,\n",
              " 'prompt_toolkit.styles.from_pygments': <module 'prompt_toolkit.styles.from_pygments' from '/usr/local/lib/python3.7/dist-packages/prompt_toolkit/styles/from_pygments.py'>,\n",
              " 'pygments.style': <module 'pygments.style' from '/usr/local/lib/python3.7/dist-packages/pygments/style.py'>,\n",
              " 'pygments.styles.default': <module 'pygments.styles.default' from '/usr/local/lib/python3.7/dist-packages/pygments/styles/default.py'>,\n",
              " 'prompt_toolkit.key_binding.bindings.named_commands': <module 'prompt_toolkit.key_binding.bindings.named_commands' from '/usr/local/lib/python3.7/dist-packages/prompt_toolkit/key_binding/bindings/named_commands.py'>,\n",
              " 'prompt_toolkit.key_binding.bindings.completion': <module 'prompt_toolkit.key_binding.bindings.completion' from '/usr/local/lib/python3.7/dist-packages/prompt_toolkit/key_binding/bindings/completion.py'>,\n",
              " 'prompt_toolkit.key_binding.registry': <module 'prompt_toolkit.key_binding.registry' from '/usr/local/lib/python3.7/dist-packages/prompt_toolkit/key_binding/registry.py'>,\n",
              " 'prompt_toolkit.key_binding.input_processor': <module 'prompt_toolkit.key_binding.input_processor' from '/usr/local/lib/python3.7/dist-packages/prompt_toolkit/key_binding/input_processor.py'>,\n",
              " 'prompt_toolkit.key_binding.bindings.emacs': <module 'prompt_toolkit.key_binding.bindings.emacs' from '/usr/local/lib/python3.7/dist-packages/prompt_toolkit/key_binding/bindings/emacs.py'>,\n",
              " 'prompt_toolkit.key_binding.bindings.scroll': <module 'prompt_toolkit.key_binding.bindings.scroll' from '/usr/local/lib/python3.7/dist-packages/prompt_toolkit/key_binding/bindings/scroll.py'>,\n",
              " 'prompt_toolkit.key_binding.bindings.vi': <module 'prompt_toolkit.key_binding.bindings.vi' from '/usr/local/lib/python3.7/dist-packages/prompt_toolkit/key_binding/bindings/vi.py'>,\n",
              " 'prompt_toolkit.key_binding.digraphs': <module 'prompt_toolkit.key_binding.digraphs' from '/usr/local/lib/python3.7/dist-packages/prompt_toolkit/key_binding/digraphs.py'>,\n",
              " 'prompt_toolkit.key_binding.defaults': <module 'prompt_toolkit.key_binding.defaults' from '/usr/local/lib/python3.7/dist-packages/prompt_toolkit/key_binding/defaults.py'>,\n",
              " 'prompt_toolkit.eventloop': <module 'prompt_toolkit.eventloop' from '/usr/local/lib/python3.7/dist-packages/prompt_toolkit/eventloop/__init__.py'>,\n",
              " 'prompt_toolkit.eventloop.base': <module 'prompt_toolkit.eventloop.base' from '/usr/local/lib/python3.7/dist-packages/prompt_toolkit/eventloop/base.py'>,\n",
              " 'prompt_toolkit.eventloop.callbacks': <module 'prompt_toolkit.eventloop.callbacks' from '/usr/local/lib/python3.7/dist-packages/prompt_toolkit/eventloop/callbacks.py'>,\n",
              " 'prompt_toolkit.input': <module 'prompt_toolkit.input' from '/usr/local/lib/python3.7/dist-packages/prompt_toolkit/input.py'>,\n",
              " 'prompt_toolkit.terminal': <module 'prompt_toolkit.terminal' from '/usr/local/lib/python3.7/dist-packages/prompt_toolkit/terminal/__init__.py'>,\n",
              " 'prompt_toolkit.terminal.vt100_input': <module 'prompt_toolkit.terminal.vt100_input' from '/usr/local/lib/python3.7/dist-packages/prompt_toolkit/terminal/vt100_input.py'>,\n",
              " 'prompt_toolkit.shortcuts': <module 'prompt_toolkit.shortcuts' from '/usr/local/lib/python3.7/dist-packages/prompt_toolkit/shortcuts.py'>,\n",
              " 'prompt_toolkit.layout.menus': <module 'prompt_toolkit.layout.menus' from '/usr/local/lib/python3.7/dist-packages/prompt_toolkit/layout/menus.py'>,\n",
              " 'prompt_toolkit.layout.prompt': <module 'prompt_toolkit.layout.prompt' from '/usr/local/lib/python3.7/dist-packages/prompt_toolkit/layout/prompt.py'>,\n",
              " 'prompt_toolkit.layout.toolbars': <module 'prompt_toolkit.layout.toolbars' from '/usr/local/lib/python3.7/dist-packages/prompt_toolkit/layout/toolbars.py'>,\n",
              " 'prompt_toolkit.terminal.vt100_output': <module 'prompt_toolkit.terminal.vt100_output' from '/usr/local/lib/python3.7/dist-packages/prompt_toolkit/terminal/vt100_output.py'>,\n",
              " 'array': <module 'array' (built-in)>,\n",
              " 'prompt_toolkit.key_binding.manager': <module 'prompt_toolkit.key_binding.manager' from '/usr/local/lib/python3.7/dist-packages/prompt_toolkit/key_binding/manager.py'>,\n",
              " 'IPython.terminal.debugger': <module 'IPython.terminal.debugger' from '/usr/local/lib/python3.7/dist-packages/IPython/terminal/debugger.py'>,\n",
              " 'IPython.core.completer': <module 'IPython.core.completer' from '/usr/local/lib/python3.7/dist-packages/IPython/core/completer.py'>,\n",
              " 'unicodedata': <module 'unicodedata' (built-in)>,\n",
              " 'IPython.core.latex_symbols': <module 'IPython.core.latex_symbols' from '/usr/local/lib/python3.7/dist-packages/IPython/core/latex_symbols.py'>,\n",
              " 'IPython.utils.generics': <module 'IPython.utils.generics' from '/usr/local/lib/python3.7/dist-packages/IPython/utils/generics.py'>,\n",
              " 'simplegeneric': <module 'simplegeneric' from '/usr/local/lib/python3.7/dist-packages/simplegeneric.py'>,\n",
              " 'IPython.terminal.ptutils': <module 'IPython.terminal.ptutils' from '/usr/local/lib/python3.7/dist-packages/IPython/terminal/ptutils.py'>,\n",
              " 'IPython.terminal.shortcuts': <module 'IPython.terminal.shortcuts' from '/usr/local/lib/python3.7/dist-packages/IPython/terminal/shortcuts.py'>,\n",
              " 'IPython.terminal.magics': <module 'IPython.terminal.magics' from '/usr/local/lib/python3.7/dist-packages/IPython/terminal/magics.py'>,\n",
              " 'IPython.lib.clipboard': <module 'IPython.lib.clipboard' from '/usr/local/lib/python3.7/dist-packages/IPython/lib/clipboard.py'>,\n",
              " 'IPython.terminal.pt_inputhooks': <module 'IPython.terminal.pt_inputhooks' from '/usr/local/lib/python3.7/dist-packages/IPython/terminal/pt_inputhooks/__init__.py'>,\n",
              " 'IPython.terminal.prompts': <module 'IPython.terminal.prompts' from '/usr/local/lib/python3.7/dist-packages/IPython/terminal/prompts.py'>,\n",
              " 'pkg_resources': <module 'pkg_resources' from '/usr/local/lib/python3.7/dist-packages/pkg_resources/__init__.py'>,\n",
              " 'zipfile': <module 'zipfile' from '/usr/lib/python3.7/zipfile.py'>,\n",
              " 'plistlib': <module 'plistlib' from '/usr/lib/python3.7/plistlib.py'>,\n",
              " 'xml': <module 'xml' from '/usr/lib/python3.7/xml/__init__.py'>,\n",
              " 'xml.parsers': <module 'xml.parsers' from '/usr/lib/python3.7/xml/parsers/__init__.py'>,\n",
              " 'xml.parsers.expat': <module 'xml.parsers.expat' from '/usr/lib/python3.7/xml/parsers/expat.py'>,\n",
              " 'pyexpat.errors': <module 'pyexpat.errors'>,\n",
              " 'pyexpat.model': <module 'pyexpat.model'>,\n",
              " 'pyexpat': <module 'pyexpat' (built-in)>,\n",
              " 'xml.parsers.expat.model': <module 'pyexpat.model'>,\n",
              " 'xml.parsers.expat.errors': <module 'pyexpat.errors'>,\n",
              " 'email': <module 'email' from '/usr/lib/python3.7/email/__init__.py'>,\n",
              " 'email.parser': <module 'email.parser' from '/usr/lib/python3.7/email/parser.py'>,\n",
              " 'email.feedparser': <module 'email.feedparser' from '/usr/lib/python3.7/email/feedparser.py'>,\n",
              " 'email.errors': <module 'email.errors' from '/usr/lib/python3.7/email/errors.py'>,\n",
              " 'email._policybase': <module 'email._policybase' from '/usr/lib/python3.7/email/_policybase.py'>,\n",
              " 'email.header': <module 'email.header' from '/usr/lib/python3.7/email/header.py'>,\n",
              " 'email.quoprimime': <module 'email.quoprimime' from '/usr/lib/python3.7/email/quoprimime.py'>,\n",
              " 'email.base64mime': <module 'email.base64mime' from '/usr/lib/python3.7/email/base64mime.py'>,\n",
              " 'email.charset': <module 'email.charset' from '/usr/lib/python3.7/email/charset.py'>,\n",
              " 'email.encoders': <module 'email.encoders' from '/usr/lib/python3.7/email/encoders.py'>,\n",
              " 'quopri': <module 'quopri' from '/usr/lib/python3.7/quopri.py'>,\n",
              " 'email.utils': <module 'email.utils' from '/usr/lib/python3.7/email/utils.py'>,\n",
              " 'socket': <module 'socket' from '/usr/lib/python3.7/socket.py'>,\n",
              " '_socket': <module '_socket' (built-in)>,\n",
              " 'email._parseaddr': <module 'email._parseaddr' from '/usr/lib/python3.7/email/_parseaddr.py'>,\n",
              " 'calendar': <module 'calendar' from '/usr/lib/python3.7/calendar.py'>,\n",
              " 'pkg_resources.extern': <module 'pkg_resources.extern' from '/usr/local/lib/python3.7/dist-packages/pkg_resources/extern/__init__.py'>,\n",
              " 'pkg_resources._vendor': <module 'pkg_resources._vendor' from '/usr/local/lib/python3.7/dist-packages/pkg_resources/_vendor/__init__.py'>,\n",
              " 'pkg_resources._vendor.appdirs': <module 'pkg_resources.extern.appdirs' (<pkg_resources.extern.VendorImporter object at 0x7f5741171910>)>,\n",
              " 'pkg_resources.extern.appdirs': <module 'pkg_resources.extern.appdirs' (<pkg_resources.extern.VendorImporter object at 0x7f5741171910>)>,\n",
              " 'pkg_resources._vendor.packaging': <module 'pkg_resources.extern.packaging' (<pkg_resources.extern.VendorImporter object at 0x7f5741171910>)>,\n",
              " 'pkg_resources._vendor.packaging.__about__': <module 'pkg_resources._vendor.packaging.__about__' from '/usr/local/lib/python3.7/dist-packages/pkg_resources/_vendor/packaging/__about__.py'>,\n",
              " 'pkg_resources.extern.packaging': <module 'pkg_resources.extern.packaging' (<pkg_resources.extern.VendorImporter object at 0x7f5741171910>)>,\n",
              " 'pkg_resources.extern.packaging.version': <module 'pkg_resources.extern.packaging.version' from '/usr/local/lib/python3.7/dist-packages/pkg_resources/_vendor/packaging/version.py'>,\n",
              " 'pkg_resources.extern.packaging._structures': <module 'pkg_resources.extern.packaging._structures' from '/usr/local/lib/python3.7/dist-packages/pkg_resources/_vendor/packaging/_structures.py'>,\n",
              " 'pkg_resources.extern.packaging._typing': <module 'pkg_resources.extern.packaging._typing' from '/usr/local/lib/python3.7/dist-packages/pkg_resources/_vendor/packaging/_typing.py'>,\n",
              " 'pkg_resources.extern.packaging.specifiers': <module 'pkg_resources.extern.packaging.specifiers' from '/usr/local/lib/python3.7/dist-packages/pkg_resources/_vendor/packaging/specifiers.py'>,\n",
              " 'pkg_resources.extern.packaging._compat': <module 'pkg_resources.extern.packaging._compat' from '/usr/local/lib/python3.7/dist-packages/pkg_resources/_vendor/packaging/_compat.py'>,\n",
              " 'pkg_resources.extern.packaging.utils': <module 'pkg_resources.extern.packaging.utils' from '/usr/local/lib/python3.7/dist-packages/pkg_resources/_vendor/packaging/utils.py'>,\n",
              " 'pkg_resources.extern.packaging.requirements': <module 'pkg_resources.extern.packaging.requirements' from '/usr/local/lib/python3.7/dist-packages/pkg_resources/_vendor/packaging/requirements.py'>,\n",
              " 'pkg_resources._vendor.pyparsing': <module 'pkg_resources.extern.pyparsing' (<pkg_resources.extern.VendorImporter object at 0x7f5741171910>)>,\n",
              " 'pkg_resources.extern.pyparsing': <module 'pkg_resources.extern.pyparsing' (<pkg_resources.extern.VendorImporter object at 0x7f5741171910>)>,\n",
              " 'pkg_resources.extern.packaging.markers': <module 'pkg_resources.extern.packaging.markers' from '/usr/local/lib/python3.7/dist-packages/pkg_resources/_vendor/packaging/markers.py'>,\n",
              " 'IPython.terminal.ipapp': <module 'IPython.terminal.ipapp' from '/usr/local/lib/python3.7/dist-packages/IPython/terminal/ipapp.py'>,\n",
              " 'IPython.core.magics': <module 'IPython.core.magics' from '/usr/local/lib/python3.7/dist-packages/IPython/core/magics/__init__.py'>,\n",
              " 'IPython.core.magics.auto': <module 'IPython.core.magics.auto' from '/usr/local/lib/python3.7/dist-packages/IPython/core/magics/auto.py'>,\n",
              " 'IPython.core.magics.basic': <module 'IPython.core.magics.basic' from '/usr/local/lib/python3.7/dist-packages/IPython/core/magics/basic.py'>,\n",
              " 'IPython.core.magics.code': <module 'IPython.core.magics.code' from '/usr/local/lib/python3.7/dist-packages/IPython/core/magics/code.py'>,\n",
              " 'IPython.core.magics.config': <module 'IPython.core.magics.config' from '/usr/local/lib/python3.7/dist-packages/IPython/core/magics/config.py'>,\n",
              " 'IPython.core.magics.display': <module 'IPython.core.magics.display' from '/usr/local/lib/python3.7/dist-packages/IPython/core/magics/display.py'>,\n",
              " 'IPython.core.magics.execution': <module 'IPython.core.magics.execution' from '/usr/local/lib/python3.7/dist-packages/IPython/core/magics/execution.py'>,\n",
              " 'gc': <module 'gc' (built-in)>,\n",
              " 'timeit': <module 'timeit' from '/usr/lib/python3.7/timeit.py'>,\n",
              " 'cProfile': <module 'cProfile' from '/usr/lib/python3.7/cProfile.py'>,\n",
              " '_lsprof': <module '_lsprof' from '/usr/lib/python3.7/lib-dynload/_lsprof.cpython-37m-x86_64-linux-gnu.so'>,\n",
              " 'profile': <module 'profile' from '/usr/lib/python3.7/profile.py'>,\n",
              " 'pstats': <module 'pstats' from '/usr/lib/python3.7/pstats.py'>,\n",
              " 'IPython.utils.module_paths': <module 'IPython.utils.module_paths' from '/usr/local/lib/python3.7/dist-packages/IPython/utils/module_paths.py'>,\n",
              " 'imp': <module 'imp' from '/usr/lib/python3.7/imp.py'>,\n",
              " 'IPython.utils.timing': <module 'IPython.utils.timing' from '/usr/local/lib/python3.7/dist-packages/IPython/utils/timing.py'>,\n",
              " 'IPython.core.magics.extension': <module 'IPython.core.magics.extension' from '/usr/local/lib/python3.7/dist-packages/IPython/core/magics/extension.py'>,\n",
              " 'IPython.core.magics.history': <module 'IPython.core.magics.history' from '/usr/local/lib/python3.7/dist-packages/IPython/core/magics/history.py'>,\n",
              " 'IPython.core.magics.logging': <module 'IPython.core.magics.logging' from '/usr/local/lib/python3.7/dist-packages/IPython/core/magics/logging.py'>,\n",
              " 'IPython.core.magics.namespace': <module 'IPython.core.magics.namespace' from '/usr/local/lib/python3.7/dist-packages/IPython/core/magics/namespace.py'>,\n",
              " 'IPython.core.magics.osm': <module 'IPython.core.magics.osm' from '/usr/local/lib/python3.7/dist-packages/IPython/core/magics/osm.py'>,\n",
              " 'IPython.core.magics.pylab': <module 'IPython.core.magics.pylab' from '/usr/local/lib/python3.7/dist-packages/IPython/core/magics/pylab.py'>,\n",
              " 'IPython.core.pylabtools': <module 'IPython.core.pylabtools' from '/usr/local/lib/python3.7/dist-packages/IPython/core/pylabtools.py'>,\n",
              " 'IPython.core.magics.script': <module 'IPython.core.magics.script' from '/usr/local/lib/python3.7/dist-packages/IPython/core/magics/script.py'>,\n",
              " 'IPython.lib.backgroundjobs': <module 'IPython.lib.backgroundjobs' from '/usr/local/lib/python3.7/dist-packages/IPython/lib/backgroundjobs.py'>,\n",
              " 'IPython.core.shellapp': <module 'IPython.core.shellapp' from '/usr/local/lib/python3.7/dist-packages/IPython/core/shellapp.py'>,\n",
              " 'IPython.extensions': <module 'IPython.extensions' from '/usr/local/lib/python3.7/dist-packages/IPython/extensions/__init__.py'>,\n",
              " 'IPython.extensions.storemagic': <module 'IPython.extensions.storemagic' from '/usr/local/lib/python3.7/dist-packages/IPython/extensions/storemagic.py'>,\n",
              " 'IPython.utils.frame': <module 'IPython.utils.frame' from '/usr/local/lib/python3.7/dist-packages/IPython/utils/frame.py'>,\n",
              " 'jupyter_client': <module 'jupyter_client' from '/usr/local/lib/python3.7/dist-packages/jupyter_client/__init__.py'>,\n",
              " 'jupyter_client._version': <module 'jupyter_client._version' from '/usr/local/lib/python3.7/dist-packages/jupyter_client/_version.py'>,\n",
              " 'jupyter_client.connect': <module 'jupyter_client.connect' from '/usr/local/lib/python3.7/dist-packages/jupyter_client/connect.py'>,\n",
              " 'zmq': <module 'zmq' from '/usr/local/lib/python3.7/dist-packages/zmq/__init__.py'>,\n",
              " 'ctypes': <module 'ctypes' from '/usr/lib/python3.7/ctypes/__init__.py'>,\n",
              " '_ctypes': <module '_ctypes' from '/usr/lib/python3.7/lib-dynload/_ctypes.cpython-37m-x86_64-linux-gnu.so'>,\n",
              " 'ctypes._endian': <module 'ctypes._endian' from '/usr/lib/python3.7/ctypes/_endian.py'>,\n",
              " 'zmq.backend': <module 'zmq.backend' from '/usr/local/lib/python3.7/dist-packages/zmq/backend/__init__.py'>,\n",
              " 'zmq.backend.select': <module 'zmq.backend.select' from '/usr/local/lib/python3.7/dist-packages/zmq/backend/select.py'>,\n",
              " 'typing': <module 'typing' from '/usr/lib/python3.7/typing.py'>,\n",
              " 'typing.io': typing.io,\n",
              " 'typing.re': typing.re,\n",
              " 'zmq.backend.cython': <module 'zmq.backend.cython' from '/usr/local/lib/python3.7/dist-packages/zmq/backend/cython/__init__.py'>,\n",
              " 'zmq.backend.cython.constants': <module 'zmq.backend.cython.constants' from '/usr/local/lib/python3.7/dist-packages/zmq/backend/cython/constants.cpython-37m-x86_64-linux-gnu.so'>,\n",
              " 'cython_runtime': <module 'cython_runtime'>,\n",
              " 'zmq.backend.cython.error': <module 'zmq.backend.cython.error' from '/usr/local/lib/python3.7/dist-packages/zmq/backend/cython/error.cpython-37m-x86_64-linux-gnu.so'>,\n",
              " '_cython_0_29_21': <module '_cython_0_29_21'>,\n",
              " 'zmq.backend.cython.message': <module 'zmq.backend.cython.message' from '/usr/local/lib/python3.7/dist-packages/zmq/backend/cython/message.cpython-37m-x86_64-linux-gnu.so'>,\n",
              " 'zmq.error': <module 'zmq.error' from '/usr/local/lib/python3.7/dist-packages/zmq/error.py'>,\n",
              " 'zmq.backend.cython.context': <module 'zmq.backend.cython.context' from '/usr/local/lib/python3.7/dist-packages/zmq/backend/cython/context.cpython-37m-x86_64-linux-gnu.so'>,\n",
              " 'zmq.backend.cython.socket': <module 'zmq.backend.cython.socket' from '/usr/local/lib/python3.7/dist-packages/zmq/backend/cython/socket.cpython-37m-x86_64-linux-gnu.so'>,\n",
              " 'zmq.backend.cython.utils': <module 'zmq.backend.cython.utils' from '/usr/local/lib/python3.7/dist-packages/zmq/backend/cython/utils.cpython-37m-x86_64-linux-gnu.so'>,\n",
              " 'zmq.backend.cython._poll': <module 'zmq.backend.cython._poll' from '/usr/local/lib/python3.7/dist-packages/zmq/backend/cython/_poll.cpython-37m-x86_64-linux-gnu.so'>,\n",
              " 'zmq.backend.cython._version': <module 'zmq.backend.cython._version' from '/usr/local/lib/python3.7/dist-packages/zmq/backend/cython/_version.cpython-37m-x86_64-linux-gnu.so'>,\n",
              " 'zmq.backend.cython._device': <module 'zmq.backend.cython._device' from '/usr/local/lib/python3.7/dist-packages/zmq/backend/cython/_device.cpython-37m-x86_64-linux-gnu.so'>,\n",
              " 'zmq.backend.cython._proxy_steerable': <module 'zmq.backend.cython._proxy_steerable' from '/usr/local/lib/python3.7/dist-packages/zmq/backend/cython/_proxy_steerable.cpython-37m-x86_64-linux-gnu.so'>,\n",
              " 'zmq.sugar': <module 'zmq.sugar' from '/usr/local/lib/python3.7/dist-packages/zmq/sugar/__init__.py'>,\n",
              " 'zmq.sugar.constants': <module 'zmq.sugar.constants' from '/usr/local/lib/python3.7/dist-packages/zmq/sugar/constants.py'>,\n",
              " 'zmq.utils': <module 'zmq.utils' from '/usr/local/lib/python3.7/dist-packages/zmq/utils/__init__.py'>,\n",
              " 'zmq.utils.constant_names': <module 'zmq.utils.constant_names' from '/usr/local/lib/python3.7/dist-packages/zmq/utils/constant_names.py'>,\n",
              " 'zmq.sugar.context': <module 'zmq.sugar.context' from '/usr/local/lib/python3.7/dist-packages/zmq/sugar/context.py'>,\n",
              " 'zmq.sugar.attrsettr': <module 'zmq.sugar.attrsettr' from '/usr/local/lib/python3.7/dist-packages/zmq/sugar/attrsettr.py'>,\n",
              " 'zmq.sugar.socket': <module 'zmq.sugar.socket' from '/usr/local/lib/python3.7/dist-packages/zmq/sugar/socket.py'>,\n",
              " 'zmq.sugar.poll': <module 'zmq.sugar.poll' from '/usr/local/lib/python3.7/dist-packages/zmq/sugar/poll.py'>,\n",
              " 'zmq.utils.jsonapi': <module 'zmq.utils.jsonapi' from '/usr/local/lib/python3.7/dist-packages/zmq/utils/jsonapi.py'>,\n",
              " 'zmq.utils.strtypes': <module 'zmq.utils.strtypes' from '/usr/local/lib/python3.7/dist-packages/zmq/utils/strtypes.py'>,\n",
              " 'zmq.sugar.frame': <module 'zmq.sugar.frame' from '/usr/local/lib/python3.7/dist-packages/zmq/sugar/frame.py'>,\n",
              " 'zmq.sugar.tracker': <module 'zmq.sugar.tracker' from '/usr/local/lib/python3.7/dist-packages/zmq/sugar/tracker.py'>,\n",
              " 'zmq.sugar.version': <module 'zmq.sugar.version' from '/usr/local/lib/python3.7/dist-packages/zmq/sugar/version.py'>,\n",
              " 'zmq.sugar.stopwatch': <module 'zmq.sugar.stopwatch' from '/usr/local/lib/python3.7/dist-packages/zmq/sugar/stopwatch.py'>,\n",
              " 'jupyter_client.localinterfaces': <module 'jupyter_client.localinterfaces' from '/usr/local/lib/python3.7/dist-packages/jupyter_client/localinterfaces.py'>,\n",
              " 'jupyter_core': <module 'jupyter_core' from '/usr/local/lib/python3.7/dist-packages/jupyter_core/__init__.py'>,\n",
              " 'jupyter_core.version': <module 'jupyter_core.version' from '/usr/local/lib/python3.7/dist-packages/jupyter_core/version.py'>,\n",
              " 'jupyter_core.paths': <module 'jupyter_core.paths' from '/usr/local/lib/python3.7/dist-packages/jupyter_core/paths.py'>,\n",
              " 'jupyter_client.launcher': <module 'jupyter_client.launcher' from '/usr/local/lib/python3.7/dist-packages/jupyter_client/launcher.py'>,\n",
              " 'traitlets.log': <module 'traitlets.log' from '/usr/local/lib/python3.7/dist-packages/traitlets/log.py'>,\n",
              " 'jupyter_client.client': <module 'jupyter_client.client' from '/usr/local/lib/python3.7/dist-packages/jupyter_client/client.py'>,\n",
              " 'jupyter_client.channels': <module 'jupyter_client.channels' from '/usr/local/lib/python3.7/dist-packages/jupyter_client/channels.py'>,\n",
              " 'jupyter_client.channelsabc': <module 'jupyter_client.channelsabc' from '/usr/local/lib/python3.7/dist-packages/jupyter_client/channelsabc.py'>,\n",
              " 'jupyter_client.clientabc': <module 'jupyter_client.clientabc' from '/usr/local/lib/python3.7/dist-packages/jupyter_client/clientabc.py'>,\n",
              " 'jupyter_client.manager': <module 'jupyter_client.manager' from '/usr/local/lib/python3.7/dist-packages/jupyter_client/manager.py'>,\n",
              " 'ipython_genutils.importstring': <module 'ipython_genutils.importstring' from '/usr/local/lib/python3.7/dist-packages/ipython_genutils/importstring.py'>,\n",
              " 'jupyter_client.kernelspec': <module 'jupyter_client.kernelspec' from '/usr/local/lib/python3.7/dist-packages/jupyter_client/kernelspec.py'>,\n",
              " 'jupyter_client.managerabc': <module 'jupyter_client.managerabc' from '/usr/local/lib/python3.7/dist-packages/jupyter_client/managerabc.py'>,\n",
              " 'jupyter_client.blocking': <module 'jupyter_client.blocking' from '/usr/local/lib/python3.7/dist-packages/jupyter_client/blocking/__init__.py'>,\n",
              " 'jupyter_client.blocking.client': <module 'jupyter_client.blocking.client' from '/usr/local/lib/python3.7/dist-packages/jupyter_client/blocking/client.py'>,\n",
              " 'queue': <module 'queue' from '/usr/lib/python3.7/queue.py'>,\n",
              " '_queue': <module '_queue' from '/usr/lib/python3.7/lib-dynload/_queue.cpython-37m-x86_64-linux-gnu.so'>,\n",
              " 'jupyter_client.blocking.channels': <module 'jupyter_client.blocking.channels' from '/usr/local/lib/python3.7/dist-packages/jupyter_client/blocking/channels.py'>,\n",
              " 'jupyter_client.multikernelmanager': <module 'jupyter_client.multikernelmanager' from '/usr/local/lib/python3.7/dist-packages/jupyter_client/multikernelmanager.py'>,\n",
              " 'uuid': <module 'uuid' from '/usr/lib/python3.7/uuid.py'>,\n",
              " 'ipykernel.kernelapp': <module 'ipykernel.kernelapp' from '/usr/local/lib/python3.7/dist-packages/ipykernel/kernelapp.py'>,\n",
              " 'tornado': <module 'tornado' from '/usr/local/lib/python3.7/dist-packages/tornado/__init__.py'>,\n",
              " 'tornado.ioloop': <module 'tornado.ioloop' from '/usr/local/lib/python3.7/dist-packages/tornado/ioloop.py'>,\n",
              " 'numbers': <module 'numbers' from '/usr/lib/python3.7/numbers.py'>,\n",
              " 'tornado.concurrent': <module 'tornado.concurrent' from '/usr/local/lib/python3.7/dist-packages/tornado/concurrent.py'>,\n",
              " 'tornado.log': <module 'tornado.log' from '/usr/local/lib/python3.7/dist-packages/tornado/log.py'>,\n",
              " 'logging.handlers': <module 'logging.handlers' from '/usr/lib/python3.7/logging/handlers.py'>,\n",
              " 'tornado.escape': <module 'tornado.escape' from '/usr/local/lib/python3.7/dist-packages/tornado/escape.py'>,\n",
              " 'tornado.util': <module 'tornado.util' from '/usr/local/lib/python3.7/dist-packages/tornado/util.py'>,\n",
              " 'tornado.speedups': <module 'tornado.speedups' from '/usr/local/lib/python3.7/dist-packages/tornado/speedups.cpython-37m-x86_64-linux-gnu.so'>,\n",
              " 'html': <module 'html' from '/usr/lib/python3.7/html/__init__.py'>,\n",
              " 'html.entities': <module 'html.entities' from '/usr/lib/python3.7/html/entities.py'>,\n",
              " 'curses': <module 'curses' from '/usr/lib/python3.7/curses/__init__.py'>,\n",
              " '_curses': <module '_curses' from '/usr/lib/python3.7/lib-dynload/_curses.cpython-37m-x86_64-linux-gnu.so'>,\n",
              " 'tornado.stack_context': <module 'tornado.stack_context' from '/usr/local/lib/python3.7/dist-packages/tornado/stack_context.py'>,\n",
              " 'concurrent': <module 'concurrent' from '/usr/lib/python3.7/concurrent/__init__.py'>,\n",
              " 'concurrent.futures': <module 'concurrent.futures' from '/usr/lib/python3.7/concurrent/futures/__init__.py'>,\n",
              " 'concurrent.futures._base': <module 'concurrent.futures._base' from '/usr/lib/python3.7/concurrent/futures/_base.py'>,\n",
              " 'asyncio': <module 'asyncio' from '/usr/lib/python3.7/asyncio/__init__.py'>,\n",
              " 'asyncio.base_events': <module 'asyncio.base_events' from '/usr/lib/python3.7/asyncio/base_events.py'>,\n",
              " 'ssl': <module 'ssl' from '/usr/lib/python3.7/ssl.py'>,\n",
              " '_ssl': <module '_ssl' from '/usr/lib/python3.7/lib-dynload/_ssl.cpython-37m-x86_64-linux-gnu.so'>,\n",
              " 'asyncio.constants': <module 'asyncio.constants' from '/usr/lib/python3.7/asyncio/constants.py'>,\n",
              " 'asyncio.coroutines': <module 'asyncio.coroutines' from '/usr/lib/python3.7/asyncio/coroutines.py'>,\n",
              " 'asyncio.base_futures': <module 'asyncio.base_futures' from '/usr/lib/python3.7/asyncio/base_futures.py'>,\n",
              " 'asyncio.format_helpers': <module 'asyncio.format_helpers' from '/usr/lib/python3.7/asyncio/format_helpers.py'>,\n",
              " 'asyncio.log': <module 'asyncio.log' from '/usr/lib/python3.7/asyncio/log.py'>,\n",
              " 'asyncio.events': <module 'asyncio.events' from '/usr/lib/python3.7/asyncio/events.py'>,\n",
              " 'contextvars': <module 'contextvars' from '/usr/lib/python3.7/contextvars.py'>,\n",
              " '_contextvars': <module '_contextvars' from '/usr/lib/python3.7/lib-dynload/_contextvars.cpython-37m-x86_64-linux-gnu.so'>,\n",
              " 'asyncio.base_tasks': <module 'asyncio.base_tasks' from '/usr/lib/python3.7/asyncio/base_tasks.py'>,\n",
              " '_asyncio': <module '_asyncio' from '/usr/lib/python3.7/lib-dynload/_asyncio.cpython-37m-x86_64-linux-gnu.so'>,\n",
              " 'asyncio.futures': <module 'asyncio.futures' from '/usr/lib/python3.7/asyncio/futures.py'>,\n",
              " 'asyncio.protocols': <module 'asyncio.protocols' from '/usr/lib/python3.7/asyncio/protocols.py'>,\n",
              " 'asyncio.sslproto': <module 'asyncio.sslproto' from '/usr/lib/python3.7/asyncio/sslproto.py'>,\n",
              " 'asyncio.transports': <module 'asyncio.transports' from '/usr/lib/python3.7/asyncio/transports.py'>,\n",
              " 'asyncio.tasks': <module 'asyncio.tasks' from '/usr/lib/python3.7/asyncio/tasks.py'>,\n",
              " 'asyncio.locks': <module 'asyncio.locks' from '/usr/lib/python3.7/asyncio/locks.py'>,\n",
              " 'asyncio.runners': <module 'asyncio.runners' from '/usr/lib/python3.7/asyncio/runners.py'>,\n",
              " 'asyncio.queues': <module 'asyncio.queues' from '/usr/lib/python3.7/asyncio/queues.py'>,\n",
              " 'asyncio.streams': <module 'asyncio.streams' from '/usr/lib/python3.7/asyncio/streams.py'>,\n",
              " 'asyncio.subprocess': <module 'asyncio.subprocess' from '/usr/lib/python3.7/asyncio/subprocess.py'>,\n",
              " 'asyncio.unix_events': <module 'asyncio.unix_events' from '/usr/lib/python3.7/asyncio/unix_events.py'>,\n",
              " 'asyncio.base_subprocess': <module 'asyncio.base_subprocess' from '/usr/lib/python3.7/asyncio/base_subprocess.py'>,\n",
              " 'asyncio.selector_events': <module 'asyncio.selector_events' from '/usr/lib/python3.7/asyncio/selector_events.py'>,\n",
              " 'tornado.platform': <module 'tornado.platform' from '/usr/local/lib/python3.7/dist-packages/tornado/platform/__init__.py'>,\n",
              " 'tornado.platform.auto': <module 'tornado.platform.auto' from '/usr/local/lib/python3.7/dist-packages/tornado/platform/auto.py'>,\n",
              " 'tornado.platform.posix': <module 'tornado.platform.posix' from '/usr/local/lib/python3.7/dist-packages/tornado/platform/posix.py'>,\n",
              " 'tornado.platform.common': <module 'tornado.platform.common' from '/usr/local/lib/python3.7/dist-packages/tornado/platform/common.py'>,\n",
              " 'tornado.platform.interface': <module 'tornado.platform.interface' from '/usr/local/lib/python3.7/dist-packages/tornado/platform/interface.py'>,\n",
              " 'concurrent.futures.thread': <module 'concurrent.futures.thread' from '/usr/lib/python3.7/concurrent/futures/thread.py'>,\n",
              " 'zmq.eventloop': <module 'zmq.eventloop' from '/usr/local/lib/python3.7/dist-packages/zmq/eventloop/__init__.py'>,\n",
              " 'zmq.eventloop.ioloop': <module 'zmq.eventloop.ioloop' from '/usr/local/lib/python3.7/dist-packages/zmq/eventloop/ioloop.py'>,\n",
              " 'tornado.platform.asyncio': <module 'tornado.platform.asyncio' from '/usr/local/lib/python3.7/dist-packages/tornado/platform/asyncio.py'>,\n",
              " 'tornado.gen': <module 'tornado.gen' from '/usr/local/lib/python3.7/dist-packages/tornado/gen.py'>,\n",
              " 'zmq.eventloop.zmqstream': <module 'zmq.eventloop.zmqstream' from '/usr/local/lib/python3.7/dist-packages/zmq/eventloop/zmqstream.py'>,\n",
              " 'ipykernel.iostream': <module 'ipykernel.iostream' from '/usr/local/lib/python3.7/dist-packages/ipykernel/iostream.py'>,\n",
              " 'jupyter_client.session': <module 'jupyter_client.session' from '/usr/local/lib/python3.7/dist-packages/jupyter_client/session.py'>,\n",
              " 'hmac': <module 'hmac' from '/usr/lib/python3.7/hmac.py'>,\n",
              " 'jupyter_client.jsonutil': <module 'jupyter_client.jsonutil' from '/usr/local/lib/python3.7/dist-packages/jupyter_client/jsonutil.py'>,\n",
              " 'dateutil': <module 'dateutil' from '/usr/local/lib/python3.7/dist-packages/dateutil/__init__.py'>,\n",
              " 'dateutil._version': <module 'dateutil._version' from '/usr/local/lib/python3.7/dist-packages/dateutil/_version.py'>,\n",
              " 'dateutil.parser': <module 'dateutil.parser' from '/usr/local/lib/python3.7/dist-packages/dateutil/parser/__init__.py'>,\n",
              " 'dateutil.parser._parser': <module 'dateutil.parser._parser' from '/usr/local/lib/python3.7/dist-packages/dateutil/parser/_parser.py'>,\n",
              " 'decimal': <module 'decimal' from '/usr/lib/python3.7/decimal.py'>,\n",
              " '_decimal': <module '_decimal' from '/usr/lib/python3.7/lib-dynload/_decimal.cpython-37m-x86_64-linux-gnu.so'>,\n",
              " 'dateutil.relativedelta': <module 'dateutil.relativedelta' from '/usr/local/lib/python3.7/dist-packages/dateutil/relativedelta.py'>,\n",
              " 'dateutil._common': <module 'dateutil._common' from '/usr/local/lib/python3.7/dist-packages/dateutil/_common.py'>,\n",
              " 'dateutil.tz': <module 'dateutil.tz' from '/usr/local/lib/python3.7/dist-packages/dateutil/tz/__init__.py'>,\n",
              " 'dateutil.tz.tz': <module 'dateutil.tz.tz' from '/usr/local/lib/python3.7/dist-packages/dateutil/tz/tz.py'>,\n",
              " 'dateutil.tz._common': <module 'dateutil.tz._common' from '/usr/local/lib/python3.7/dist-packages/dateutil/tz/_common.py'>,\n",
              " 'dateutil.tz._factories': <module 'dateutil.tz._factories' from '/usr/local/lib/python3.7/dist-packages/dateutil/tz/_factories.py'>,\n",
              " 'dateutil.parser.isoparser': <module 'dateutil.parser.isoparser' from '/usr/local/lib/python3.7/dist-packages/dateutil/parser/isoparser.py'>,\n",
              " '_strptime': <module '_strptime' from '/usr/lib/python3.7/_strptime.py'>,\n",
              " 'jupyter_client.adapter': <module 'jupyter_client.adapter' from '/usr/local/lib/python3.7/dist-packages/jupyter_client/adapter.py'>,\n",
              " 'ipykernel.heartbeat': <module 'ipykernel.heartbeat' from '/usr/local/lib/python3.7/dist-packages/ipykernel/heartbeat.py'>,\n",
              " 'ipykernel.ipkernel': <module 'ipykernel.ipkernel' from '/usr/local/lib/python3.7/dist-packages/ipykernel/ipkernel.py'>,\n",
              " 'IPython.utils.tokenutil': <module 'IPython.utils.tokenutil' from '/usr/local/lib/python3.7/dist-packages/IPython/utils/tokenutil.py'>,\n",
              " 'ipykernel.comm': <module 'ipykernel.comm' from '/usr/local/lib/python3.7/dist-packages/ipykernel/comm/__init__.py'>,\n",
              " 'ipykernel.comm.manager': <module 'ipykernel.comm.manager' from '/usr/local/lib/python3.7/dist-packages/ipykernel/comm/manager.py'>,\n",
              " 'ipykernel.comm.comm': <module 'ipykernel.comm.comm' from '/usr/local/lib/python3.7/dist-packages/ipykernel/comm/comm.py'>,\n",
              " 'ipykernel.kernelbase': <module 'ipykernel.kernelbase' from '/usr/local/lib/python3.7/dist-packages/ipykernel/kernelbase.py'>,\n",
              " 'ipykernel.jsonutil': <module 'ipykernel.jsonutil' from '/usr/local/lib/python3.7/dist-packages/ipykernel/jsonutil.py'>,\n",
              " 'ipykernel.zmqshell': <module 'ipykernel.zmqshell' from '/usr/local/lib/python3.7/dist-packages/ipykernel/zmqshell.py'>,\n",
              " 'IPython.core.payloadpage': <module 'IPython.core.payloadpage' from '/usr/local/lib/python3.7/dist-packages/IPython/core/payloadpage.py'>,\n",
              " 'ipykernel.displayhook': <module 'ipykernel.displayhook' from '/usr/local/lib/python3.7/dist-packages/ipykernel/displayhook.py'>,\n",
              " 'ipykernel.parentpoller': <module 'ipykernel.parentpoller' from '/usr/local/lib/python3.7/dist-packages/ipykernel/parentpoller.py'>,\n",
              " 'google.colab': <module 'google.colab' from '/usr/local/lib/python3.7/dist-packages/google/colab/__init__.py'>,\n",
              " 'google.colab._import_hooks': <module 'google.colab._import_hooks' from '/usr/local/lib/python3.7/dist-packages/google/colab/_import_hooks/__init__.py'>,\n",
              " 'google.colab._import_hooks._altair': <module 'google.colab._import_hooks._altair' from '/usr/local/lib/python3.7/dist-packages/google/colab/_import_hooks/_altair.py'>,\n",
              " 'google.colab._import_hooks._bokeh': <module 'google.colab._import_hooks._bokeh' from '/usr/local/lib/python3.7/dist-packages/google/colab/_import_hooks/_bokeh.py'>,\n",
              " 'google.colab._import_hooks._cv2': <module 'google.colab._import_hooks._cv2' from '/usr/local/lib/python3.7/dist-packages/google/colab/_import_hooks/_cv2.py'>,\n",
              " 'google.colab._import_magics': <module 'google.colab._import_magics' from '/usr/local/lib/python3.7/dist-packages/google/colab/_import_magics.py'>,\n",
              " 'google.colab._installation_commands': <module 'google.colab._installation_commands' from '/usr/local/lib/python3.7/dist-packages/google/colab/_installation_commands.py'>,\n",
              " 'google.colab._reprs': <module 'google.colab._reprs' from '/usr/local/lib/python3.7/dist-packages/google/colab/_reprs.py'>,\n",
              " 'IPython.utils.traitlets': <module 'IPython.utils.traitlets' from '/usr/local/lib/python3.7/dist-packages/IPython/utils/traitlets.py'>,\n",
              " 'google.colab._shell_customizations': <module 'google.colab._shell_customizations' from '/usr/local/lib/python3.7/dist-packages/google/colab/_shell_customizations.py'>,\n",
              " 'google.colab._ipython': <module 'google.colab._ipython' from '/usr/local/lib/python3.7/dist-packages/google/colab/_ipython.py'>,\n",
              " 'google.colab._system_commands': <module 'google.colab._system_commands' from '/usr/local/lib/python3.7/dist-packages/google/colab/_system_commands.py'>,\n",
              " 'google.colab._message': <module 'google.colab._message' from '/usr/local/lib/python3.7/dist-packages/google/colab/_message.py'>,\n",
              " 'google.colab.errors': <module 'google.colab.errors' from '/usr/local/lib/python3.7/dist-packages/google/colab/errors.py'>,\n",
              " 'google.colab.output': <module 'google.colab.output' from '/usr/local/lib/python3.7/dist-packages/google/colab/output/__init__.py'>,\n",
              " 'google.colab.output._area': <module 'google.colab.output._area' from '/usr/local/lib/python3.7/dist-packages/google/colab/output/_area.py'>,\n",
              " 'google.colab.output._js_builder': <module 'google.colab.output._js_builder' from '/usr/local/lib/python3.7/dist-packages/google/colab/output/_js_builder.py'>,\n",
              " 'google.colab.output._js': <module 'google.colab.output._js' from '/usr/local/lib/python3.7/dist-packages/google/colab/output/_js.py'>,\n",
              " 'google.colab.output._publish': <module 'google.colab.output._publish' from '/usr/local/lib/python3.7/dist-packages/google/colab/output/_publish.py'>,\n",
              " 'google.colab.output._tags': <module 'google.colab.output._tags' from '/usr/local/lib/python3.7/dist-packages/google/colab/output/_tags.py'>,\n",
              " 'google.colab.output._util': <module 'google.colab.output._util' from '/usr/local/lib/python3.7/dist-packages/google/colab/output/_util.py'>,\n",
              " 'google.colab._tensorflow_magics': <module 'google.colab._tensorflow_magics' from '/usr/local/lib/python3.7/dist-packages/google/colab/_tensorflow_magics.py'>,\n",
              " 'google.colab.auth': <module 'google.colab.auth' from '/usr/local/lib/python3.7/dist-packages/google/colab/auth.py'>,\n",
              " 'google.colab.data_table': <module 'google.colab.data_table' from '/usr/local/lib/python3.7/dist-packages/google/colab/data_table.py'>,\n",
              " 'google.colab._interactive_table_helper': <module 'google.colab._interactive_table_helper' from '/usr/local/lib/python3.7/dist-packages/google/colab/_interactive_table_helper.py'>,\n",
              " 'pandas': <module 'pandas' from '/usr/local/lib/python3.7/dist-packages/pandas/__init__.py'>,\n",
              " 'numpy': <module 'numpy' from '/usr/local/lib/python3.7/dist-packages/numpy/__init__.py'>,\n",
              " 'numpy._globals': <module 'numpy._globals' from '/usr/local/lib/python3.7/dist-packages/numpy/_globals.py'>,\n",
              " 'numpy.__config__': <module 'numpy.__config__' from '/usr/local/lib/python3.7/dist-packages/numpy/__config__.py'>,\n",
              " 'numpy.version': <module 'numpy.version' from '/usr/local/lib/python3.7/dist-packages/numpy/version.py'>,\n",
              " 'numpy._distributor_init': <module 'numpy._distributor_init' from '/usr/local/lib/python3.7/dist-packages/numpy/_distributor_init.py'>,\n",
              " 'numpy.core': <module 'numpy.core' from '/usr/local/lib/python3.7/dist-packages/numpy/core/__init__.py'>,\n",
              " 'numpy.core.multiarray': <module 'numpy.core.multiarray' from '/usr/local/lib/python3.7/dist-packages/numpy/core/multiarray.py'>,\n",
              " 'numpy.core.overrides': <module 'numpy.core.overrides' from '/usr/local/lib/python3.7/dist-packages/numpy/core/overrides.py'>,\n",
              " 'numpy.core._multiarray_umath': <module 'numpy.core._multiarray_umath' from '/usr/local/lib/python3.7/dist-packages/numpy/core/_multiarray_umath.cpython-37m-x86_64-linux-gnu.so'>,\n",
              " 'numpy.compat': <module 'numpy.compat' from '/usr/local/lib/python3.7/dist-packages/numpy/compat/__init__.py'>,\n",
              " 'numpy.compat._inspect': <module 'numpy.compat._inspect' from '/usr/local/lib/python3.7/dist-packages/numpy/compat/_inspect.py'>,\n",
              " 'numpy.compat.py3k': <module 'numpy.compat.py3k' from '/usr/local/lib/python3.7/dist-packages/numpy/compat/py3k.py'>,\n",
              " 'numpy.core.umath': <module 'numpy.core.umath' from '/usr/local/lib/python3.7/dist-packages/numpy/core/umath.py'>,\n",
              " 'numpy.core.numerictypes': <module 'numpy.core.numerictypes' from '/usr/local/lib/python3.7/dist-packages/numpy/core/numerictypes.py'>,\n",
              " 'numpy.core._string_helpers': <module 'numpy.core._string_helpers' from '/usr/local/lib/python3.7/dist-packages/numpy/core/_string_helpers.py'>,\n",
              " 'numpy.core._type_aliases': <module 'numpy.core._type_aliases' from '/usr/local/lib/python3.7/dist-packages/numpy/core/_type_aliases.py'>,\n",
              " 'numpy.core._dtype': <module 'numpy.core._dtype' from '/usr/local/lib/python3.7/dist-packages/numpy/core/_dtype.py'>,\n",
              " 'numpy.core.numeric': <module 'numpy.core.numeric' from '/usr/local/lib/python3.7/dist-packages/numpy/core/numeric.py'>,\n",
              " 'numpy.core.shape_base': <module 'numpy.core.shape_base' from '/usr/local/lib/python3.7/dist-packages/numpy/core/shape_base.py'>,\n",
              " 'numpy.core._asarray': <module 'numpy.core._asarray' from '/usr/local/lib/python3.7/dist-packages/numpy/core/_asarray.py'>,\n",
              " 'numpy.core.fromnumeric': <module 'numpy.core.fromnumeric' from '/usr/local/lib/python3.7/dist-packages/numpy/core/fromnumeric.py'>,\n",
              " 'numpy.core._methods': <module 'numpy.core._methods' from '/usr/local/lib/python3.7/dist-packages/numpy/core/_methods.py'>,\n",
              " 'numpy.core._exceptions': <module 'numpy.core._exceptions' from '/usr/local/lib/python3.7/dist-packages/numpy/core/_exceptions.py'>,\n",
              " 'numpy.core._ufunc_config': <module 'numpy.core._ufunc_config' from '/usr/local/lib/python3.7/dist-packages/numpy/core/_ufunc_config.py'>,\n",
              " 'numpy.core.arrayprint': <module 'numpy.core.arrayprint' from '/usr/local/lib/python3.7/dist-packages/numpy/core/arrayprint.py'>,\n",
              " 'numpy.core.defchararray': <module 'numpy.core.defchararray' from '/usr/local/lib/python3.7/dist-packages/numpy/core/defchararray.py'>,\n",
              " 'numpy.core.records': <module 'numpy.core.records' from '/usr/local/lib/python3.7/dist-packages/numpy/core/records.py'>,\n",
              " 'numpy.core.memmap': <module 'numpy.core.memmap' from '/usr/local/lib/python3.7/dist-packages/numpy/core/memmap.py'>,\n",
              " 'numpy.core.function_base': <module 'numpy.core.function_base' from '/usr/local/lib/python3.7/dist-packages/numpy/core/function_base.py'>,\n",
              " 'numpy.core.machar': <module 'numpy.core.machar' from '/usr/local/lib/python3.7/dist-packages/numpy/core/machar.py'>,\n",
              " 'numpy.core.getlimits': <module 'numpy.core.getlimits' from '/usr/local/lib/python3.7/dist-packages/numpy/core/getlimits.py'>,\n",
              " 'numpy.core.einsumfunc': <module 'numpy.core.einsumfunc' from '/usr/local/lib/python3.7/dist-packages/numpy/core/einsumfunc.py'>,\n",
              " 'numpy.core._add_newdocs': <module 'numpy.core._add_newdocs' from '/usr/local/lib/python3.7/dist-packages/numpy/core/_add_newdocs.py'>,\n",
              " 'numpy.core._multiarray_tests': <module 'numpy.core._multiarray_tests' from '/usr/local/lib/python3.7/dist-packages/numpy/core/_multiarray_tests.cpython-37m-x86_64-linux-gnu.so'>,\n",
              " 'numpy.core._dtype_ctypes': <module 'numpy.core._dtype_ctypes' from '/usr/local/lib/python3.7/dist-packages/numpy/core/_dtype_ctypes.py'>,\n",
              " 'numpy.core._internal': <module 'numpy.core._internal' from '/usr/local/lib/python3.7/dist-packages/numpy/core/_internal.py'>,\n",
              " 'numpy._pytesttester': <module 'numpy._pytesttester' from '/usr/local/lib/python3.7/dist-packages/numpy/_pytesttester.py'>,\n",
              " 'numpy.lib': <module 'numpy.lib' from '/usr/local/lib/python3.7/dist-packages/numpy/lib/__init__.py'>,\n",
              " 'numpy.lib.mixins': <module 'numpy.lib.mixins' from '/usr/local/lib/python3.7/dist-packages/numpy/lib/mixins.py'>,\n",
              " 'numpy.lib.scimath': <module 'numpy.lib.scimath' from '/usr/local/lib/python3.7/dist-packages/numpy/lib/scimath.py'>,\n",
              " 'numpy.lib.type_check': <module 'numpy.lib.type_check' from '/usr/local/lib/python3.7/dist-packages/numpy/lib/type_check.py'>,\n",
              " 'numpy.lib.ufunclike': <module 'numpy.lib.ufunclike' from '/usr/local/lib/python3.7/dist-packages/numpy/lib/ufunclike.py'>,\n",
              " 'numpy.lib.index_tricks': <module 'numpy.lib.index_tricks' from '/usr/local/lib/python3.7/dist-packages/numpy/lib/index_tricks.py'>,\n",
              " 'numpy.matrixlib': <module 'numpy.matrixlib' from '/usr/local/lib/python3.7/dist-packages/numpy/matrixlib/__init__.py'>,\n",
              " 'numpy.matrixlib.defmatrix': <module 'numpy.matrixlib.defmatrix' from '/usr/local/lib/python3.7/dist-packages/numpy/matrixlib/defmatrix.py'>,\n",
              " 'numpy.linalg': <module 'numpy.linalg' from '/usr/local/lib/python3.7/dist-packages/numpy/linalg/__init__.py'>,\n",
              " 'numpy.linalg.linalg': <module 'numpy.linalg.linalg' from '/usr/local/lib/python3.7/dist-packages/numpy/linalg/linalg.py'>,\n",
              " 'numpy.lib.twodim_base': <module 'numpy.lib.twodim_base' from '/usr/local/lib/python3.7/dist-packages/numpy/lib/twodim_base.py'>,\n",
              " 'numpy.linalg.lapack_lite': <module 'numpy.linalg.lapack_lite' from '/usr/local/lib/python3.7/dist-packages/numpy/linalg/lapack_lite.cpython-37m-x86_64-linux-gnu.so'>,\n",
              " 'numpy.linalg._umath_linalg': <module 'numpy.linalg._umath_linalg' from '/usr/local/lib/python3.7/dist-packages/numpy/linalg/_umath_linalg.cpython-37m-x86_64-linux-gnu.so'>,\n",
              " 'numpy.lib.function_base': <module 'numpy.lib.function_base' from '/usr/local/lib/python3.7/dist-packages/numpy/lib/function_base.py'>,\n",
              " 'numpy.lib.histograms': <module 'numpy.lib.histograms' from '/usr/local/lib/python3.7/dist-packages/numpy/lib/histograms.py'>,\n",
              " 'numpy.lib.stride_tricks': <module 'numpy.lib.stride_tricks' from '/usr/local/lib/python3.7/dist-packages/numpy/lib/stride_tricks.py'>,\n",
              " 'numpy.lib.nanfunctions': <module 'numpy.lib.nanfunctions' from '/usr/local/lib/python3.7/dist-packages/numpy/lib/nanfunctions.py'>,\n",
              " 'numpy.lib.shape_base': <module 'numpy.lib.shape_base' from '/usr/local/lib/python3.7/dist-packages/numpy/lib/shape_base.py'>,\n",
              " 'numpy.lib.polynomial': <module 'numpy.lib.polynomial' from '/usr/local/lib/python3.7/dist-packages/numpy/lib/polynomial.py'>,\n",
              " 'numpy.lib.utils': <module 'numpy.lib.utils' from '/usr/local/lib/python3.7/dist-packages/numpy/lib/utils.py'>,\n",
              " 'numpy.lib.arraysetops': <module 'numpy.lib.arraysetops' from '/usr/local/lib/python3.7/dist-packages/numpy/lib/arraysetops.py'>,\n",
              " 'numpy.lib.npyio': <module 'numpy.lib.npyio' from '/usr/local/lib/python3.7/dist-packages/numpy/lib/npyio.py'>,\n",
              " 'numpy.lib.format': <module 'numpy.lib.format' from '/usr/local/lib/python3.7/dist-packages/numpy/lib/format.py'>,\n",
              " 'numpy.lib._datasource': <module 'numpy.lib._datasource' from '/usr/local/lib/python3.7/dist-packages/numpy/lib/_datasource.py'>,\n",
              " 'numpy.lib._iotools': <module 'numpy.lib._iotools' from '/usr/local/lib/python3.7/dist-packages/numpy/lib/_iotools.py'>,\n",
              " 'numpy.lib.financial': <module 'numpy.lib.financial' from '/usr/local/lib/python3.7/dist-packages/numpy/lib/financial.py'>,\n",
              " 'numpy.lib.arrayterator': <module 'numpy.lib.arrayterator' from '/usr/local/lib/python3.7/dist-packages/numpy/lib/arrayterator.py'>,\n",
              " 'numpy.lib.arraypad': <module 'numpy.lib.arraypad' from '/usr/local/lib/python3.7/dist-packages/numpy/lib/arraypad.py'>,\n",
              " 'numpy.lib._version': <module 'numpy.lib._version' from '/usr/local/lib/python3.7/dist-packages/numpy/lib/_version.py'>,\n",
              " 'numpy.fft': <module 'numpy.fft' from '/usr/local/lib/python3.7/dist-packages/numpy/fft/__init__.py'>,\n",
              " 'numpy.fft._pocketfft': <module 'numpy.fft._pocketfft' from '/usr/local/lib/python3.7/dist-packages/numpy/fft/_pocketfft.py'>,\n",
              " 'numpy.fft._pocketfft_internal': <module 'numpy.fft._pocketfft_internal' from '/usr/local/lib/python3.7/dist-packages/numpy/fft/_pocketfft_internal.cpython-37m-x86_64-linux-gnu.so'>,\n",
              " 'numpy.fft.helper': <module 'numpy.fft.helper' from '/usr/local/lib/python3.7/dist-packages/numpy/fft/helper.py'>,\n",
              " 'numpy.polynomial': <module 'numpy.polynomial' from '/usr/local/lib/python3.7/dist-packages/numpy/polynomial/__init__.py'>,\n",
              " 'numpy.polynomial.polynomial': <module 'numpy.polynomial.polynomial' from '/usr/local/lib/python3.7/dist-packages/numpy/polynomial/polynomial.py'>,\n",
              " 'numpy.polynomial.polyutils': <module 'numpy.polynomial.polyutils' from '/usr/local/lib/python3.7/dist-packages/numpy/polynomial/polyutils.py'>,\n",
              " 'numpy.polynomial._polybase': <module 'numpy.polynomial._polybase' from '/usr/local/lib/python3.7/dist-packages/numpy/polynomial/_polybase.py'>,\n",
              " 'numpy.polynomial.chebyshev': <module 'numpy.polynomial.chebyshev' from '/usr/local/lib/python3.7/dist-packages/numpy/polynomial/chebyshev.py'>,\n",
              " 'numpy.polynomial.legendre': <module 'numpy.polynomial.legendre' from '/usr/local/lib/python3.7/dist-packages/numpy/polynomial/legendre.py'>,\n",
              " 'numpy.polynomial.hermite': <module 'numpy.polynomial.hermite' from '/usr/local/lib/python3.7/dist-packages/numpy/polynomial/hermite.py'>,\n",
              " 'numpy.polynomial.hermite_e': <module 'numpy.polynomial.hermite_e' from '/usr/local/lib/python3.7/dist-packages/numpy/polynomial/hermite_e.py'>,\n",
              " 'numpy.polynomial.laguerre': <module 'numpy.polynomial.laguerre' from '/usr/local/lib/python3.7/dist-packages/numpy/polynomial/laguerre.py'>,\n",
              " 'numpy.random': <module 'numpy.random' from '/usr/local/lib/python3.7/dist-packages/numpy/random/__init__.py'>,\n",
              " 'numpy.random._pickle': <module 'numpy.random._pickle' from '/usr/local/lib/python3.7/dist-packages/numpy/random/_pickle.py'>,\n",
              " 'numpy.random.mtrand': <module 'numpy.random.mtrand' from '/usr/local/lib/python3.7/dist-packages/numpy/random/mtrand.cpython-37m-x86_64-linux-gnu.so'>,\n",
              " 'numpy.random.bit_generator': <module 'numpy.random.bit_generator' from '/usr/local/lib/python3.7/dist-packages/numpy/random/bit_generator.cpython-37m-x86_64-linux-gnu.so'>,\n",
              " 'numpy.random._common': <module 'numpy.random._common' from '/usr/local/lib/python3.7/dist-packages/numpy/random/_common.cpython-37m-x86_64-linux-gnu.so'>,\n",
              " 'secrets': <module 'secrets' from '/usr/lib/python3.7/secrets.py'>,\n",
              " 'numpy.random._bounded_integers': <module 'numpy.random._bounded_integers' from '/usr/local/lib/python3.7/dist-packages/numpy/random/_bounded_integers.cpython-37m-x86_64-linux-gnu.so'>,\n",
              " 'numpy.random._mt19937': <module 'numpy.random._mt19937' from '/usr/local/lib/python3.7/dist-packages/numpy/random/_mt19937.cpython-37m-x86_64-linux-gnu.so'>,\n",
              " 'numpy.random._philox': <module 'numpy.random._philox' from '/usr/local/lib/python3.7/dist-packages/numpy/random/_philox.cpython-37m-x86_64-linux-gnu.so'>,\n",
              " 'numpy.random._pcg64': <module 'numpy.random._pcg64' from '/usr/local/lib/python3.7/dist-packages/numpy/random/_pcg64.cpython-37m-x86_64-linux-gnu.so'>,\n",
              " 'numpy.random._sfc64': <module 'numpy.random._sfc64' from '/usr/local/lib/python3.7/dist-packages/numpy/random/_sfc64.cpython-37m-x86_64-linux-gnu.so'>,\n",
              " 'numpy.random._generator': <module 'numpy.random._generator' from '/usr/local/lib/python3.7/dist-packages/numpy/random/_generator.cpython-37m-x86_64-linux-gnu.so'>,\n",
              " 'numpy.ctypeslib': <module 'numpy.ctypeslib' from '/usr/local/lib/python3.7/dist-packages/numpy/ctypeslib.py'>,\n",
              " 'numpy.ma': <module 'numpy.ma' from '/usr/local/lib/python3.7/dist-packages/numpy/ma/__init__.py'>,\n",
              " 'numpy.ma.core': <module 'numpy.ma.core' from '/usr/local/lib/python3.7/dist-packages/numpy/ma/core.py'>,\n",
              " 'numpy.ma.extras': <module 'numpy.ma.extras' from '/usr/local/lib/python3.7/dist-packages/numpy/ma/extras.py'>,\n",
              " 'pytz': <module 'pytz' from '/usr/local/lib/python3.7/dist-packages/pytz/__init__.py'>,\n",
              " 'pytz.exceptions': <module 'pytz.exceptions' from '/usr/local/lib/python3.7/dist-packages/pytz/exceptions.py'>,\n",
              " 'pytz.lazy': <module 'pytz.lazy' from '/usr/local/lib/python3.7/dist-packages/pytz/lazy.py'>,\n",
              " 'pytz.tzinfo': <module 'pytz.tzinfo' from '/usr/local/lib/python3.7/dist-packages/pytz/tzinfo.py'>,\n",
              " 'pytz.tzfile': <module 'pytz.tzfile' from '/usr/local/lib/python3.7/dist-packages/pytz/tzfile.py'>,\n",
              " 'pandas.compat': <module 'pandas.compat' from '/usr/local/lib/python3.7/dist-packages/pandas/compat/__init__.py'>,\n",
              " 'pandas._typing': <module 'pandas._typing' from '/usr/local/lib/python3.7/dist-packages/pandas/_typing.py'>,\n",
              " 'pandas.compat.numpy': <module 'pandas.compat.numpy' from '/usr/local/lib/python3.7/dist-packages/pandas/compat/numpy/__init__.py'>,\n",
              " 'distutils': <module 'distutils' from '/usr/lib/python3.7/distutils/__init__.py'>,\n",
              " 'distutils.version': <module 'distutils.version' from '/usr/lib/python3.7/distutils/version.py'>,\n",
              " 'pandas._libs': <module 'pandas._libs' from '/usr/local/lib/python3.7/dist-packages/pandas/_libs/__init__.py'>,\n",
              " 'pandas._libs.interval': <module 'pandas._libs.interval' from '/usr/local/lib/python3.7/dist-packages/pandas/_libs/interval.cpython-37m-x86_64-linux-gnu.so'>,\n",
              " 'pandas._libs.hashtable': <module 'pandas._libs.hashtable' from '/usr/local/lib/python3.7/dist-packages/pandas/_libs/hashtable.cpython-37m-x86_64-linux-gnu.so'>,\n",
              " 'pandas._libs.missing': <module 'pandas._libs.missing' from '/usr/local/lib/python3.7/dist-packages/pandas/_libs/missing.cpython-37m-x86_64-linux-gnu.so'>,\n",
              " 'pandas._libs.tslibs': <module 'pandas._libs.tslibs' from '/usr/local/lib/python3.7/dist-packages/pandas/_libs/tslibs/__init__.py'>,\n",
              " 'pandas._libs.tslibs.dtypes': <module 'pandas._libs.tslibs.dtypes' from '/usr/local/lib/python3.7/dist-packages/pandas/_libs/tslibs/dtypes.cpython-37m-x86_64-linux-gnu.so'>,\n",
              " 'pandas._libs.tslibs.conversion': <module 'pandas._libs.tslibs.conversion' from '/usr/local/lib/python3.7/dist-packages/pandas/_libs/tslibs/conversion.cpython-37m-x86_64-linux-gnu.so'>,\n",
              " 'pandas._libs.tslibs.base': <module 'pandas._libs.tslibs.base' from '/usr/local/lib/python3.7/dist-packages/pandas/_libs/tslibs/base.cpython-37m-x86_64-linux-gnu.so'>,\n",
              " 'pandas._libs.tslibs.nattype': <module 'pandas._libs.tslibs.nattype' from '/usr/local/lib/python3.7/dist-packages/pandas/_libs/tslibs/nattype.cpython-37m-x86_64-linux-gnu.so'>,\n",
              " 'pandas._libs.tslibs.np_datetime': <module 'pandas._libs.tslibs.np_datetime' from '/usr/local/lib/python3.7/dist-packages/pandas/_libs/tslibs/np_datetime.cpython-37m-x86_64-linux-gnu.so'>,\n",
              " 'pandas._libs.tslibs.timezones': <module 'pandas._libs.tslibs.timezones' from '/usr/local/lib/python3.7/dist-packages/pandas/_libs/tslibs/timezones.cpython-37m-x86_64-linux-gnu.so'>,\n",
              " 'pandas._libs.tslibs.tzconversion': <module 'pandas._libs.tslibs.tzconversion' from '/usr/local/lib/python3.7/dist-packages/pandas/_libs/tslibs/tzconversion.cpython-37m-x86_64-linux-gnu.so'>,\n",
              " 'pandas._libs.tslibs.ccalendar': <module 'pandas._libs.tslibs.ccalendar' from '/usr/local/lib/python3.7/dist-packages/pandas/_libs/tslibs/ccalendar.cpython-37m-x86_64-linux-gnu.so'>,\n",
              " 'pandas._libs.tslibs.parsing': <module 'pandas._libs.tslibs.parsing' from '/usr/local/lib/python3.7/dist-packages/pandas/_libs/tslibs/parsing.cpython-37m-x86_64-linux-gnu.so'>,\n",
              " 'pandas._libs.tslibs.offsets': <module 'pandas._libs.tslibs.offsets' from '/usr/local/lib/python3.7/dist-packages/pandas/_libs/tslibs/offsets.cpython-37m-x86_64-linux-gnu.so'>,\n",
              " 'pandas._libs.tslibs.timedeltas': <module 'pandas._libs.tslibs.timedeltas' from '/usr/local/lib/python3.7/dist-packages/pandas/_libs/tslibs/timedeltas.cpython-37m-x86_64-linux-gnu.so'>,\n",
              " 'pandas._libs.tslibs.timestamps': <module 'pandas._libs.tslibs.timestamps' from '/usr/local/lib/python3.7/dist-packages/pandas/_libs/tslibs/timestamps.cpython-37m-x86_64-linux-gnu.so'>,\n",
              " 'pandas._libs.tslibs.fields': <module 'pandas._libs.tslibs.fields' from '/usr/local/lib/python3.7/dist-packages/pandas/_libs/tslibs/fields.cpython-37m-x86_64-linux-gnu.so'>,\n",
              " 'pandas._config': <module 'pandas._config' from '/usr/local/lib/python3.7/dist-packages/pandas/_config/__init__.py'>,\n",
              " 'pandas._config.config': <module 'pandas._config.config' from '/usr/local/lib/python3.7/dist-packages/pandas/_config/config.py'>,\n",
              " 'pandas._config.dates': <module 'pandas._config.dates' from '/usr/local/lib/python3.7/dist-packages/pandas/_config/dates.py'>,\n",
              " 'pandas._config.display': <module 'pandas._config.display' from '/usr/local/lib/python3.7/dist-packages/pandas/_config/display.py'>,\n",
              " 'pandas._config.localization': <module 'pandas._config.localization' from '/usr/local/lib/python3.7/dist-packages/pandas/_config/localization.py'>,\n",
              " 'pandas._libs.tslibs.strptime': <module 'pandas._libs.tslibs.strptime' from '/usr/local/lib/python3.7/dist-packages/pandas/_libs/tslibs/strptime.cpython-37m-x86_64-linux-gnu.so'>,\n",
              " 'dateutil.easter': <module 'dateutil.easter' from '/usr/local/lib/python3.7/dist-packages/dateutil/easter.py'>,\n",
              " 'pandas._libs.properties': <module 'pandas._libs.properties' from '/usr/local/lib/python3.7/dist-packages/pandas/_libs/properties.cpython-37m-x86_64-linux-gnu.so'>,\n",
              " 'pandas._libs.tslibs.period': <module 'pandas._libs.tslibs.period' from '/usr/local/lib/python3.7/dist-packages/pandas/_libs/tslibs/period.cpython-37m-x86_64-linux-gnu.so'>,\n",
              " 'pandas._libs.tslibs.vectorized': <module 'pandas._libs.tslibs.vectorized' from '/usr/local/lib/python3.7/dist-packages/pandas/_libs/tslibs/vectorized.cpython-37m-x86_64-linux-gnu.so'>,\n",
              " 'pandas._libs.ops_dispatch': <module 'pandas._libs.ops_dispatch' from '/usr/local/lib/python3.7/dist-packages/pandas/_libs/ops_dispatch.cpython-37m-x86_64-linux-gnu.so'>,\n",
              " 'pandas._libs.algos': <module 'pandas._libs.algos' from '/usr/local/lib/python3.7/dist-packages/pandas/_libs/algos.cpython-37m-x86_64-linux-gnu.so'>,\n",
              " 'pandas._libs.lib': <module 'pandas._libs.lib' from '/usr/local/lib/python3.7/dist-packages/pandas/_libs/lib.cpython-37m-x86_64-linux-gnu.so'>,\n",
              " 'pandas._libs.tslib': <module 'pandas._libs.tslib' from '/usr/local/lib/python3.7/dist-packages/pandas/_libs/tslib.cpython-37m-x86_64-linux-gnu.so'>,\n",
              " 'pandas.core': <module 'pandas.core' from '/usr/local/lib/python3.7/dist-packages/pandas/core/__init__.py'>,\n",
              " 'pandas.core.config_init': <module 'pandas.core.config_init' from '/usr/local/lib/python3.7/dist-packages/pandas/core/config_init.py'>,\n",
              " 'pandas.core.api': <module 'pandas.core.api' from '/usr/local/lib/python3.7/dist-packages/pandas/core/api.py'>,\n",
              " 'pandas.core.dtypes': <module 'pandas.core.dtypes' from '/usr/local/lib/python3.7/dist-packages/pandas/core/dtypes/__init__.py'>,\n",
              " 'pandas.core.dtypes.dtypes': <module 'pandas.core.dtypes.dtypes' from '/usr/local/lib/python3.7/dist-packages/pandas/core/dtypes/dtypes.py'>,\n",
              " 'pandas.core.dtypes.base': <module 'pandas.core.dtypes.base' from '/usr/local/lib/python3.7/dist-packages/pandas/core/dtypes/base.py'>,\n",
              " 'pandas.errors': <module 'pandas.errors' from '/usr/local/lib/python3.7/dist-packages/pandas/errors/__init__.py'>,\n",
              " 'pandas.core.dtypes.generic': <module 'pandas.core.dtypes.generic' from '/usr/local/lib/python3.7/dist-packages/pandas/core/dtypes/generic.py'>,\n",
              " 'pandas.core.dtypes.inference': <module 'pandas.core.dtypes.inference' from '/usr/local/lib/python3.7/dist-packages/pandas/core/dtypes/inference.py'>,\n",
              " 'pandas.core.dtypes.missing': <module 'pandas.core.dtypes.missing' from '/usr/local/lib/python3.7/dist-packages/pandas/core/dtypes/missing.py'>,\n",
              " 'pandas.core.dtypes.common': <module 'pandas.core.dtypes.common' from '/usr/local/lib/python3.7/dist-packages/pandas/core/dtypes/common.py'>,\n",
              " 'pandas.core.algorithms': <module 'pandas.core.algorithms' from '/usr/local/lib/python3.7/dist-packages/pandas/core/algorithms.py'>,\n",
              " 'pandas.util': <module 'pandas.util' from '/usr/local/lib/python3.7/dist-packages/pandas/util/__init__.py'>,\n",
              " 'pandas.util._decorators': <module 'pandas.util._decorators' from '/usr/local/lib/python3.7/dist-packages/pandas/util/_decorators.py'>,\n",
              " 'pandas.core.util': <module 'pandas.core.util' from '/usr/local/lib/python3.7/dist-packages/pandas/core/util/__init__.py'>,\n",
              " 'pandas.core.util.hashing': <module 'pandas.core.util.hashing' from '/usr/local/lib/python3.7/dist-packages/pandas/core/util/hashing.py'>,\n",
              " 'pandas._libs.hashing': <module 'pandas._libs.hashing' from '/usr/local/lib/python3.7/dist-packages/pandas/_libs/hashing.cpython-37m-x86_64-linux-gnu.so'>,\n",
              " 'pandas.core.dtypes.cast': <module 'pandas.core.dtypes.cast' from '/usr/local/lib/python3.7/dist-packages/pandas/core/dtypes/cast.py'>,\n",
              " 'pandas.util._validators': <module 'pandas.util._validators' from '/usr/local/lib/python3.7/dist-packages/pandas/util/_validators.py'>,\n",
              " 'pandas.core.construction': <module 'pandas.core.construction' from '/usr/local/lib/python3.7/dist-packages/pandas/core/construction.py'>,\n",
              " 'pandas.core.common': <module 'pandas.core.common' from '/usr/local/lib/python3.7/dist-packages/pandas/core/common.py'>,\n",
              " 'pandas.core.indexers': <module 'pandas.core.indexers' from '/usr/local/lib/python3.7/dist-packages/pandas/core/indexers.py'>,\n",
              " 'pandas.core.arrays': <module 'pandas.core.arrays' from '/usr/local/lib/python3.7/dist-packages/pandas/core/arrays/__init__.py'>,\n",
              " 'pandas.core.arrays.base': <module 'pandas.core.arrays.base' from '/usr/local/lib/python3.7/dist-packages/pandas/core/arrays/base.py'>,\n",
              " 'pandas.compat.numpy.function': <module 'pandas.compat.numpy.function' from '/usr/local/lib/python3.7/dist-packages/pandas/compat/numpy/function.py'>,\n",
              " 'pandas.core.ops': <module 'pandas.core.ops' from '/usr/local/lib/python3.7/dist-packages/pandas/core/ops/__init__.py'>,\n",
              " 'pandas.core.ops.array_ops': <module 'pandas.core.ops.array_ops' from '/usr/local/lib/python3.7/dist-packages/pandas/core/ops/array_ops.py'>,\n",
              " 'pandas._libs.ops': <module 'pandas._libs.ops' from '/usr/local/lib/python3.7/dist-packages/pandas/_libs/ops.cpython-37m-x86_64-linux-gnu.so'>,\n",
              " 'pandas.core.ops.missing': <module 'pandas.core.ops.missing' from '/usr/local/lib/python3.7/dist-packages/pandas/core/ops/missing.py'>,\n",
              " 'pandas.core.ops.roperator': <module 'pandas.core.ops.roperator' from '/usr/local/lib/python3.7/dist-packages/pandas/core/ops/roperator.py'>,\n",
              " 'pandas.core.ops.dispatch': <module 'pandas.core.ops.dispatch' from '/usr/local/lib/python3.7/dist-packages/pandas/core/ops/dispatch.py'>,\n",
              " 'pandas.core.ops.invalid': <module 'pandas.core.ops.invalid' from '/usr/local/lib/python3.7/dist-packages/pandas/core/ops/invalid.py'>,\n",
              " 'pandas.core.ops.common': <module 'pandas.core.ops.common' from '/usr/local/lib/python3.7/dist-packages/pandas/core/ops/common.py'>,\n",
              " 'pandas.core.ops.docstrings': <module 'pandas.core.ops.docstrings' from '/usr/local/lib/python3.7/dist-packages/pandas/core/ops/docstrings.py'>,\n",
              " 'pandas.core.ops.mask_ops': <module 'pandas.core.ops.mask_ops' from '/usr/local/lib/python3.7/dist-packages/pandas/core/ops/mask_ops.py'>,\n",
              " 'pandas.core.ops.methods': <module 'pandas.core.ops.methods' from '/usr/local/lib/python3.7/dist-packages/pandas/core/ops/methods.py'>,\n",
              " 'pandas.core.missing': <module 'pandas.core.missing' from '/usr/local/lib/python3.7/dist-packages/pandas/core/missing.py'>,\n",
              " 'pandas.compat._optional': <module 'pandas.compat._optional' from '/usr/local/lib/python3.7/dist-packages/pandas/compat/_optional.py'>,\n",
              " 'pandas.core.sorting': <module 'pandas.core.sorting' from '/usr/local/lib/python3.7/dist-packages/pandas/core/sorting.py'>,\n",
              " 'pandas.core.arrays.boolean': <module 'pandas.core.arrays.boolean' from '/usr/local/lib/python3.7/dist-packages/pandas/core/arrays/boolean.py'>,\n",
              " 'pandas.core.arrays.masked': <module 'pandas.core.arrays.masked' from '/usr/local/lib/python3.7/dist-packages/pandas/core/arrays/masked.py'>,\n",
              " 'pandas.core.nanops': <module 'pandas.core.nanops' from '/usr/local/lib/python3.7/dist-packages/pandas/core/nanops.py'>,\n",
              " 'bottleneck': <module 'bottleneck' from '/usr/local/lib/python3.7/dist-packages/bottleneck/__init__.py'>,\n",
              " 'bottleneck.reduce': <module 'bottleneck.reduce' from '/usr/local/lib/python3.7/dist-packages/bottleneck/reduce.cpython-37m-x86_64-linux-gnu.so'>,\n",
              " 'bottleneck.nonreduce': <module 'bottleneck.nonreduce' from '/usr/local/lib/python3.7/dist-packages/bottleneck/nonreduce.cpython-37m-x86_64-linux-gnu.so'>,\n",
              " 'bottleneck.nonreduce_axis': <module 'bottleneck.nonreduce_axis' from '/usr/local/lib/python3.7/dist-packages/bottleneck/nonreduce_axis.cpython-37m-x86_64-linux-gnu.so'>,\n",
              " 'bottleneck.move': <module 'bottleneck.move' from '/usr/local/lib/python3.7/dist-packages/bottleneck/move.cpython-37m-x86_64-linux-gnu.so'>,\n",
              " 'bottleneck.slow': <module 'bottleneck.slow' from '/usr/local/lib/python3.7/dist-packages/bottleneck/slow/__init__.py'>,\n",
              " 'bottleneck.slow.reduce': <module 'bottleneck.slow.reduce' from '/usr/local/lib/python3.7/dist-packages/bottleneck/slow/reduce.py'>,\n",
              " 'bottleneck.slow.nonreduce': <module 'bottleneck.slow.nonreduce' from '/usr/local/lib/python3.7/dist-packages/bottleneck/slow/nonreduce.py'>,\n",
              " 'bottleneck.slow.nonreduce_axis': <module 'bottleneck.slow.nonreduce_axis' from '/usr/local/lib/python3.7/dist-packages/bottleneck/slow/nonreduce_axis.py'>,\n",
              " 'bottleneck.slow.move': <module 'bottleneck.slow.move' from '/usr/local/lib/python3.7/dist-packages/bottleneck/slow/move.py'>,\n",
              " 'bottleneck.benchmark': <module 'bottleneck.benchmark' from '/usr/local/lib/python3.7/dist-packages/bottleneck/benchmark/__init__.py'>,\n",
              " 'bottleneck.benchmark.bench': <module 'bottleneck.benchmark.bench' from '/usr/local/lib/python3.7/dist-packages/bottleneck/benchmark/bench.py'>,\n",
              " 'bottleneck.benchmark.autotimeit': <module 'bottleneck.benchmark.autotimeit' from '/usr/local/lib/python3.7/dist-packages/bottleneck/benchmark/autotimeit.py'>,\n",
              " 'bottleneck.benchmark.bench_detailed': <module 'bottleneck.benchmark.bench_detailed' from '/usr/local/lib/python3.7/dist-packages/bottleneck/benchmark/bench_detailed.py'>,\n",
              " 'bottleneck.tests': <module 'bottleneck.tests' from '/usr/local/lib/python3.7/dist-packages/bottleneck/tests/__init__.py'>,\n",
              " 'bottleneck.tests.util': <module 'bottleneck.tests.util' from '/usr/local/lib/python3.7/dist-packages/bottleneck/tests/util.py'>,\n",
              " 'bottleneck._pytesttester': <module 'bottleneck._pytesttester' from '/usr/local/lib/python3.7/dist-packages/bottleneck/_pytesttester.py'>,\n",
              " 'bottleneck._version': <module 'bottleneck._version' from '/usr/local/lib/python3.7/dist-packages/bottleneck/_version.py'>,\n",
              " 'pandas.core.array_algos': <module 'pandas.core.array_algos' from '/usr/local/lib/python3.7/dist-packages/pandas/core/array_algos/__init__.py'>,\n",
              " 'pandas.core.array_algos.masked_reductions': <module 'pandas.core.array_algos.masked_reductions' from '/usr/local/lib/python3.7/dist-packages/pandas/core/array_algos/masked_reductions.py'>,\n",
              " 'pandas.core.arrays.categorical': <module 'pandas.core.arrays.categorical' from '/usr/local/lib/python3.7/dist-packages/pandas/core/arrays/categorical.py'>,\n",
              " 'csv': <module 'csv' from '/usr/lib/python3.7/csv.py'>,\n",
              " '_csv': <module '_csv' from '/usr/lib/python3.7/lib-dynload/_csv.cpython-37m-x86_64-linux-gnu.so'>,\n",
              " 'pandas.core.accessor': <module 'pandas.core.accessor' from '/usr/local/lib/python3.7/dist-packages/pandas/core/accessor.py'>,\n",
              " 'pandas.core.array_algos.transforms': <module 'pandas.core.array_algos.transforms' from '/usr/local/lib/python3.7/dist-packages/pandas/core/array_algos/transforms.py'>,\n",
              " 'pandas.core.arrays._mixins': <module 'pandas.core.arrays._mixins' from '/usr/local/lib/python3.7/dist-packages/pandas/core/arrays/_mixins.py'>,\n",
              " 'pandas.core.base': <module 'pandas.core.base' from '/usr/local/lib/python3.7/dist-packages/pandas/core/base.py'>,\n",
              " 'pandas.io': <module 'pandas.io' from '/usr/local/lib/python3.7/dist-packages/pandas/io/__init__.py'>,\n",
              " 'pandas.io.formats': <module 'pandas.io.formats' from '/usr/local/lib/python3.7/dist-packages/pandas/io/formats/__init__.py'>,\n",
              " 'pandas.io.formats.console': <module 'pandas.io.formats.console' from '/usr/local/lib/python3.7/dist-packages/pandas/io/formats/console.py'>,\n",
              " 'pandas.core.arrays.datetimes': <module 'pandas.core.arrays.datetimes' from '/usr/local/lib/python3.7/dist-packages/pandas/core/arrays/datetimes.py'>,\n",
              " 'pandas.core.arrays.datetimelike': <module 'pandas.core.arrays.datetimelike' from '/usr/local/lib/python3.7/dist-packages/pandas/core/arrays/datetimelike.py'>,\n",
              " 'pandas.tseries': <module 'pandas.tseries' from '/usr/local/lib/python3.7/dist-packages/pandas/tseries/__init__.py'>,\n",
              " 'pandas.tseries.frequencies': <module 'pandas.tseries.frequencies' from '/usr/local/lib/python3.7/dist-packages/pandas/tseries/frequencies.py'>,\n",
              " 'pandas.core.arrays._ranges': <module 'pandas.core.arrays._ranges' from '/usr/local/lib/python3.7/dist-packages/pandas/core/arrays/_ranges.py'>,\n",
              " 'pandas.tseries.offsets': <module 'pandas.tseries.offsets' from '/usr/local/lib/python3.7/dist-packages/pandas/tseries/offsets.py'>,\n",
              " 'pandas.core.arrays.integer': <module 'pandas.core.arrays.integer' from '/usr/local/lib/python3.7/dist-packages/pandas/core/arrays/integer.py'>,\n",
              " 'pandas.core.tools': <module 'pandas.core.tools' from '/usr/local/lib/python3.7/dist-packages/pandas/core/tools/__init__.py'>,\n",
              " 'pandas.core.tools.numeric': <module 'pandas.core.tools.numeric' from '/usr/local/lib/python3.7/dist-packages/pandas/core/tools/numeric.py'>,\n",
              " 'pandas.core.arrays.interval': <module 'pandas.core.arrays.interval' from '/usr/local/lib/python3.7/dist-packages/pandas/core/arrays/interval.py'>,\n",
              " 'pandas.core.indexes': <module 'pandas.core.indexes' from '/usr/local/lib/python3.7/dist-packages/pandas/core/indexes/__init__.py'>,\n",
              " 'pandas.core.indexes.base': <module 'pandas.core.indexes.base' from '/usr/local/lib/python3.7/dist-packages/pandas/core/indexes/base.py'>,\n",
              " 'pandas._libs.index': <module 'pandas._libs.index' from '/usr/local/lib/python3.7/dist-packages/pandas/_libs/index.cpython-37m-x86_64-linux-gnu.so'>,\n",
              " 'pandas._libs.join': <module 'pandas._libs.join' from '/usr/local/lib/python3.7/dist-packages/pandas/_libs/join.cpython-37m-x86_64-linux-gnu.so'>,\n",
              " 'pandas.core.dtypes.concat': <module 'pandas.core.dtypes.concat' from '/usr/local/lib/python3.7/dist-packages/pandas/core/dtypes/concat.py'>,\n",
              " 'pandas.core.arrays.sparse': <module 'pandas.core.arrays.sparse' from '/usr/local/lib/python3.7/dist-packages/pandas/core/arrays/sparse/__init__.py'>,\n",
              " 'pandas.core.arrays.sparse.accessor': <module 'pandas.core.arrays.sparse.accessor' from '/usr/local/lib/python3.7/dist-packages/pandas/core/arrays/sparse/accessor.py'>,\n",
              " 'pandas.core.arrays.sparse.array': <module 'pandas.core.arrays.sparse.array' from '/usr/local/lib/python3.7/dist-packages/pandas/core/arrays/sparse/array.py'>,\n",
              " 'pandas._libs.sparse': <module 'pandas._libs.sparse' from '/usr/local/lib/python3.7/dist-packages/pandas/_libs/sparse.cpython-37m-x86_64-linux-gnu.so'>,\n",
              " 'pandas.core.arrays.sparse.dtype': <module 'pandas.core.arrays.sparse.dtype' from '/usr/local/lib/python3.7/dist-packages/pandas/core/arrays/sparse/dtype.py'>,\n",
              " 'pandas.io.formats.printing': <module 'pandas.io.formats.printing' from '/usr/local/lib/python3.7/dist-packages/pandas/io/formats/printing.py'>,\n",
              " 'pandas.core.indexes.frozen': <module 'pandas.core.indexes.frozen' from '/usr/local/lib/python3.7/dist-packages/pandas/core/indexes/frozen.py'>,\n",
              " 'pandas.core.strings': <module 'pandas.core.strings' from '/usr/local/lib/python3.7/dist-packages/pandas/core/strings.py'>,\n",
              " 'pandas.core.arrays.numpy_': <module 'pandas.core.arrays.numpy_' from '/usr/local/lib/python3.7/dist-packages/pandas/core/arrays/numpy_.py'>,\n",
              " 'pandas.core.arrays.period': <module 'pandas.core.arrays.period' from '/usr/local/lib/python3.7/dist-packages/pandas/core/arrays/period.py'>,\n",
              " 'pandas.core.arrays.string_': <module 'pandas.core.arrays.string_' from '/usr/local/lib/python3.7/dist-packages/pandas/core/arrays/string_.py'>,\n",
              " 'pandas.core.arrays.timedeltas': <module 'pandas.core.arrays.timedeltas' from '/usr/local/lib/python3.7/dist-packages/pandas/core/arrays/timedeltas.py'>,\n",
              " 'pandas.core.groupby': <module 'pandas.core.groupby' from '/usr/local/lib/python3.7/dist-packages/pandas/core/groupby/__init__.py'>,\n",
              " 'pandas.core.groupby.generic': <module 'pandas.core.groupby.generic' from '/usr/local/lib/python3.7/dist-packages/pandas/core/groupby/generic.py'>,\n",
              " 'pandas.core.aggregation': <module 'pandas.core.aggregation' from '/usr/local/lib/python3.7/dist-packages/pandas/core/aggregation.py'>,\n",
              " 'pandas.core.indexes.api': <module 'pandas.core.indexes.api' from '/usr/local/lib/python3.7/dist-packages/pandas/core/indexes/api.py'>,\n",
              " 'pandas.core.indexes.category': <module 'pandas.core.indexes.category' from '/usr/local/lib/python3.7/dist-packages/pandas/core/indexes/category.py'>,\n",
              " 'pandas.core.indexes.extension': <module 'pandas.core.indexes.extension' from '/usr/local/lib/python3.7/dist-packages/pandas/core/indexes/extension.py'>,\n",
              " 'pandas.core.indexes.datetimes': <module 'pandas.core.indexes.datetimes' from '/usr/local/lib/python3.7/dist-packages/pandas/core/indexes/datetimes.py'>,\n",
              " 'pandas.core.indexes.datetimelike': <module 'pandas.core.indexes.datetimelike' from '/usr/local/lib/python3.7/dist-packages/pandas/core/indexes/datetimelike.py'>,\n",
              " 'pandas.core.indexes.numeric': <module 'pandas.core.indexes.numeric' from '/usr/local/lib/python3.7/dist-packages/pandas/core/indexes/numeric.py'>,\n",
              " 'pandas.core.tools.timedeltas': <module 'pandas.core.tools.timedeltas' from '/usr/local/lib/python3.7/dist-packages/pandas/core/tools/timedeltas.py'>,\n",
              " 'pandas.core.tools.times': <module 'pandas.core.tools.times' from '/usr/local/lib/python3.7/dist-packages/pandas/core/tools/times.py'>,\n",
              " 'pandas.core.indexes.interval': <module 'pandas.core.indexes.interval' from '/usr/local/lib/python3.7/dist-packages/pandas/core/indexes/interval.py'>,\n",
              " 'pandas.util._exceptions': <module 'pandas.util._exceptions' from '/usr/local/lib/python3.7/dist-packages/pandas/util/_exceptions.py'>,\n",
              " 'pandas.core.indexes.multi': <module 'pandas.core.indexes.multi' from '/usr/local/lib/python3.7/dist-packages/pandas/core/indexes/multi.py'>,\n",
              " 'pandas.core.indexes.timedeltas': <module 'pandas.core.indexes.timedeltas' from '/usr/local/lib/python3.7/dist-packages/pandas/core/indexes/timedeltas.py'>,\n",
              " 'pandas.core.indexes.period': <module 'pandas.core.indexes.period' from '/usr/local/lib/python3.7/dist-packages/pandas/core/indexes/period.py'>,\n",
              " 'pandas.core.indexes.range': <module 'pandas.core.indexes.range' from '/usr/local/lib/python3.7/dist-packages/pandas/core/indexes/range.py'>,\n",
              " 'pandas.core.series': <module 'pandas.core.series' from '/usr/local/lib/python3.7/dist-packages/pandas/core/series.py'>,\n",
              " 'pandas._libs.reshape': <module 'pandas._libs.reshape' from '/usr/local/lib/python3.7/dist-packages/pandas/_libs/reshape.cpython-37m-x86_64-linux-gnu.so'>,\n",
              " 'pandas.core.generic': <module 'pandas.core.generic' from '/usr/local/lib/python3.7/dist-packages/pandas/core/generic.py'>,\n",
              " 'pandas.core.indexing': <module 'pandas.core.indexing' from '/usr/local/lib/python3.7/dist-packages/pandas/core/indexing.py'>,\n",
              " 'pandas._libs.indexing': <module 'pandas._libs.indexing' from '/usr/local/lib/python3.7/dist-packages/pandas/_libs/indexing.cpython-37m-x86_64-linux-gnu.so'>,\n",
              " 'pandas.core.internals': <module 'pandas.core.internals' from '/usr/local/lib/python3.7/dist-packages/pandas/core/internals/__init__.py'>,\n",
              " 'pandas.core.internals.blocks': <module 'pandas.core.internals.blocks' from '/usr/local/lib/python3.7/dist-packages/pandas/core/internals/blocks.py'>,\n",
              " 'pandas._libs.writers': <module 'pandas._libs.writers' from '/usr/local/lib/python3.7/dist-packages/pandas/_libs/writers.cpython-37m-x86_64-linux-gnu.so'>,\n",
              " 'pandas._libs.internals': <module 'pandas._libs.internals' from '/usr/local/lib/python3.7/dist-packages/pandas/_libs/internals.cpython-37m-x86_64-linux-gnu.so'>,\n",
              " 'pandas.core.internals.concat': <module 'pandas.core.internals.concat' from '/usr/local/lib/python3.7/dist-packages/pandas/core/internals/concat.py'>,\n",
              " 'pandas.core.internals.managers': <module 'pandas.core.internals.managers' from '/usr/local/lib/python3.7/dist-packages/pandas/core/internals/managers.py'>,\n",
              " 'pandas.core.internals.ops': <module 'pandas.core.internals.ops' from '/usr/local/lib/python3.7/dist-packages/pandas/core/internals/ops.py'>,\n",
              " 'pandas.core.shared_docs': <module 'pandas.core.shared_docs' from '/usr/local/lib/python3.7/dist-packages/pandas/core/shared_docs.py'>,\n",
              " 'pandas.io.formats.format': <module 'pandas.io.formats.format' from '/usr/local/lib/python3.7/dist-packages/pandas/io/formats/format.py'>,\n",
              " 'pandas.io.common': <module 'pandas.io.common' from '/usr/local/lib/python3.7/dist-packages/pandas/io/common.py'>,\n",
              " 'gzip': <module 'gzip' from '/usr/lib/python3.7/gzip.py'>,\n",
              " 'mmap': <module 'mmap' from '/usr/lib/python3.7/lib-dynload/mmap.cpython-37m-x86_64-linux-gnu.so'>,\n",
              " 'pandas.core.indexes.accessors': <module 'pandas.core.indexes.accessors' from '/usr/local/lib/python3.7/dist-packages/pandas/core/indexes/accessors.py'>,\n",
              " 'pandas.core.tools.datetimes': <module 'pandas.core.tools.datetimes' from '/usr/local/lib/python3.7/dist-packages/pandas/core/tools/datetimes.py'>,\n",
              " 'pandas.arrays': <module 'pandas.arrays' from '/usr/local/lib/python3.7/dist-packages/pandas/arrays/__init__.py'>,\n",
              " 'pandas.plotting': <module 'pandas.plotting' from '/usr/local/lib/python3.7/dist-packages/pandas/plotting/__init__.py'>,\n",
              " 'pandas.plotting._core': <module 'pandas.plotting._core' from '/usr/local/lib/python3.7/dist-packages/pandas/plotting/_core.py'>,\n",
              " 'pandas.plotting._misc': <module 'pandas.plotting._misc' from '/usr/local/lib/python3.7/dist-packages/pandas/plotting/_misc.py'>,\n",
              " 'pandas.core.window': <module 'pandas.core.window' from '/usr/local/lib/python3.7/dist-packages/pandas/core/window/__init__.py'>,\n",
              " 'pandas.core.window.ewm': <module 'pandas.core.window.ewm' from '/usr/local/lib/python3.7/dist-packages/pandas/core/window/ewm.py'>,\n",
              " 'pandas._libs.window': <module 'pandas._libs.window' from '/usr/local/lib/python3.7/dist-packages/pandas/_libs/window/__init__.py'>,\n",
              " 'pandas._libs.window.aggregations': <module 'pandas._libs.window.aggregations' from '/usr/local/lib/python3.7/dist-packages/pandas/_libs/window/aggregations.cpython-37m-x86_64-linux-gnu.so'>,\n",
              " 'pandas.core.window.common': <module 'pandas.core.window.common' from '/usr/local/lib/python3.7/dist-packages/pandas/core/window/common.py'>,\n",
              " 'pandas.core.groupby.base': <module 'pandas.core.groupby.base' from '/usr/local/lib/python3.7/dist-packages/pandas/core/groupby/base.py'>,\n",
              " 'pandas.core.window.rolling': <module 'pandas.core.window.rolling' from '/usr/local/lib/python3.7/dist-packages/pandas/core/window/rolling.py'>,\n",
              " 'pandas.core.util.numba_': <module 'pandas.core.util.numba_' from '/usr/local/lib/python3.7/dist-packages/pandas/core/util/numba_.py'>,\n",
              " 'pandas.core.window.indexers': <module 'pandas.core.window.indexers' from '/usr/local/lib/python3.7/dist-packages/pandas/core/window/indexers.py'>,\n",
              " 'pandas._libs.window.indexers': <module 'pandas._libs.window.indexers' from '/usr/local/lib/python3.7/dist-packages/pandas/_libs/window/indexers.cpython-37m-x86_64-linux-gnu.so'>,\n",
              " 'pandas.core.window.numba_': <module 'pandas.core.window.numba_' from '/usr/local/lib/python3.7/dist-packages/pandas/core/window/numba_.py'>,\n",
              " 'pandas.core.window.expanding': <module 'pandas.core.window.expanding' from '/usr/local/lib/python3.7/dist-packages/pandas/core/window/expanding.py'>,\n",
              " 'pandas.core.frame': <module 'pandas.core.frame' from '/usr/local/lib/python3.7/dist-packages/pandas/core/frame.py'>,\n",
              " 'pandas.core.internals.construction': <module 'pandas.core.internals.construction' from '/usr/local/lib/python3.7/dist-packages/pandas/core/internals/construction.py'>,\n",
              " 'pandas.core.reshape': <module 'pandas.core.reshape' from '/usr/local/lib/python3.7/dist-packages/pandas/core/reshape/__init__.py'>,\n",
              " 'pandas.core.reshape.melt': <module 'pandas.core.reshape.melt' from '/usr/local/lib/python3.7/dist-packages/pandas/core/reshape/melt.py'>,\n",
              " 'pandas.core.reshape.concat': <module 'pandas.core.reshape.concat' from '/usr/local/lib/python3.7/dist-packages/pandas/core/reshape/concat.py'>,\n",
              " 'pandas.core.reshape.util': <module 'pandas.core.reshape.util' from '/usr/local/lib/python3.7/dist-packages/pandas/core/reshape/util.py'>,\n",
              " 'pandas.io.formats.info': <module 'pandas.io.formats.info' from '/usr/local/lib/python3.7/dist-packages/pandas/io/formats/info.py'>,\n",
              " 'pandas.core.groupby.groupby': <module 'pandas.core.groupby.groupby' from '/usr/local/lib/python3.7/dist-packages/pandas/core/groupby/groupby.py'>,\n",
              " 'pandas._libs.groupby': <module 'pandas._libs.groupby' from '/usr/local/lib/python3.7/dist-packages/pandas/_libs/groupby.cpython-37m-x86_64-linux-gnu.so'>,\n",
              " 'pandas.core.groupby.ops': <module 'pandas.core.groupby.ops' from '/usr/local/lib/python3.7/dist-packages/pandas/core/groupby/ops.py'>,\n",
              " 'pandas._libs.reduction': <module 'pandas._libs.reduction' from '/usr/local/lib/python3.7/dist-packages/pandas/_libs/reduction.cpython-37m-x86_64-linux-gnu.so'>,\n",
              " 'pandas.core.groupby.grouper': <module 'pandas.core.groupby.grouper' from '/usr/local/lib/python3.7/dist-packages/pandas/core/groupby/grouper.py'>,\n",
              " 'pandas.core.groupby.categorical': <module 'pandas.core.groupby.categorical' from '/usr/local/lib/python3.7/dist-packages/pandas/core/groupby/categorical.py'>,\n",
              " 'pandas.tseries.api': <module 'pandas.tseries.api' from '/usr/local/lib/python3.7/dist-packages/pandas/tseries/api.py'>,\n",
              " 'pandas.core.computation': <module 'pandas.core.computation' from '/usr/local/lib/python3.7/dist-packages/pandas/core/computation/__init__.py'>,\n",
              " 'pandas.core.computation.api': <module 'pandas.core.computation.api' from '/usr/local/lib/python3.7/dist-packages/pandas/core/computation/api.py'>,\n",
              " 'pandas.core.computation.eval': <module 'pandas.core.computation.eval' from '/usr/local/lib/python3.7/dist-packages/pandas/core/computation/eval.py'>,\n",
              " 'pandas.core.computation.engines': <module 'pandas.core.computation.engines' from '/usr/local/lib/python3.7/dist-packages/pandas/core/computation/engines.py'>,\n",
              " 'pandas.core.computation.align': <module 'pandas.core.computation.align' from '/usr/local/lib/python3.7/dist-packages/pandas/core/computation/align.py'>,\n",
              " 'pandas.core.computation.common': <module 'pandas.core.computation.common' from '/usr/local/lib/python3.7/dist-packages/pandas/core/computation/common.py'>,\n",
              " 'pandas.core.computation.ops': <module 'pandas.core.computation.ops' from '/usr/local/lib/python3.7/dist-packages/pandas/core/computation/ops.py'>,\n",
              " 'pandas.core.computation.scope': <module 'pandas.core.computation.scope' from '/usr/local/lib/python3.7/dist-packages/pandas/core/computation/scope.py'>,\n",
              " 'pandas.compat.chainmap': <module 'pandas.compat.chainmap' from '/usr/local/lib/python3.7/dist-packages/pandas/compat/chainmap.py'>,\n",
              " 'pandas.core.computation.expr': <module 'pandas.core.computation.expr' from '/usr/local/lib/python3.7/dist-packages/pandas/core/computation/expr.py'>,\n",
              " 'pandas.core.computation.parsing': <module 'pandas.core.computation.parsing' from '/usr/local/lib/python3.7/dist-packages/pandas/core/computation/parsing.py'>,\n",
              " 'pandas.core.reshape.api': <module 'pandas.core.reshape.api' from '/usr/local/lib/python3.7/dist-packages/pandas/core/reshape/api.py'>,\n",
              " 'pandas.core.reshape.merge': <module 'pandas.core.reshape.merge' from '/usr/local/lib/python3.7/dist-packages/pandas/core/reshape/merge.py'>,\n",
              " 'pandas.core.reshape.pivot': <module 'pandas.core.reshape.pivot' from '/usr/local/lib/python3.7/dist-packages/pandas/core/reshape/pivot.py'>,\n",
              " 'pandas.core.reshape.reshape': <module 'pandas.core.reshape.reshape' from '/usr/local/lib/python3.7/dist-packages/pandas/core/reshape/reshape.py'>,\n",
              " 'pandas.core.reshape.tile': <module 'pandas.core.reshape.tile' from '/usr/local/lib/python3.7/dist-packages/pandas/core/reshape/tile.py'>,\n",
              " 'pandas.api': <module 'pandas.api' from '/usr/local/lib/python3.7/dist-packages/pandas/api/__init__.py'>,\n",
              " 'pandas.api.extensions': <module 'pandas.api.extensions' from '/usr/local/lib/python3.7/dist-packages/pandas/api/extensions/__init__.py'>,\n",
              " 'pandas.api.indexers': <module 'pandas.api.indexers' from '/usr/local/lib/python3.7/dist-packages/pandas/api/indexers/__init__.py'>,\n",
              " 'pandas.api.types': <module 'pandas.api.types' from '/usr/local/lib/python3.7/dist-packages/pandas/api/types/__init__.py'>,\n",
              " 'pandas.core.dtypes.api': <module 'pandas.core.dtypes.api' from '/usr/local/lib/python3.7/dist-packages/pandas/core/dtypes/api.py'>,\n",
              " 'pandas.util._print_versions': <module 'pandas.util._print_versions' from '/usr/local/lib/python3.7/dist-packages/pandas/util/_print_versions.py'>,\n",
              " 'pandas.io.api': <module 'pandas.io.api' from '/usr/local/lib/python3.7/dist-packages/pandas/io/api.py'>,\n",
              " 'pandas.io.clipboards': <module 'pandas.io.clipboards' from '/usr/local/lib/python3.7/dist-packages/pandas/io/clipboards.py'>,\n",
              " 'pandas.io.excel': <module 'pandas.io.excel' from '/usr/local/lib/python3.7/dist-packages/pandas/io/excel/__init__.py'>,\n",
              " 'pandas.io.excel._base': <module 'pandas.io.excel._base' from '/usr/local/lib/python3.7/dist-packages/pandas/io/excel/_base.py'>,\n",
              " 'pandas._libs.parsers': <module 'pandas._libs.parsers' from '/usr/local/lib/python3.7/dist-packages/pandas/_libs/parsers.cpython-37m-x86_64-linux-gnu.so'>,\n",
              " 'pandas.io.excel._util': <module 'pandas.io.excel._util' from '/usr/local/lib/python3.7/dist-packages/pandas/io/excel/_util.py'>,\n",
              " 'pandas.io.parsers': <module 'pandas.io.parsers' from '/usr/local/lib/python3.7/dist-packages/pandas/io/parsers.py'>,\n",
              " 'pandas.io.date_converters': <module 'pandas.io.date_converters' from '/usr/local/lib/python3.7/dist-packages/pandas/io/date_converters.py'>,\n",
              " 'pandas.io.excel._odfreader': <module 'pandas.io.excel._odfreader' from '/usr/local/lib/python3.7/dist-packages/pandas/io/excel/_odfreader.py'>,\n",
              " 'pandas.io.excel._openpyxl': <module 'pandas.io.excel._openpyxl' from '/usr/local/lib/python3.7/dist-packages/pandas/io/excel/_openpyxl.py'>,\n",
              " 'pandas.io.excel._pyxlsb': <module 'pandas.io.excel._pyxlsb' from '/usr/local/lib/python3.7/dist-packages/pandas/io/excel/_pyxlsb.py'>,\n",
              " 'pandas.io.excel._xlrd': <module 'pandas.io.excel._xlrd' from '/usr/local/lib/python3.7/dist-packages/pandas/io/excel/_xlrd.py'>,\n",
              " 'pandas.io.excel._odswriter': <module 'pandas.io.excel._odswriter' from '/usr/local/lib/python3.7/dist-packages/pandas/io/excel/_odswriter.py'>,\n",
              " 'pandas._libs.json': <module 'pandas._libs.json' from '/usr/local/lib/python3.7/dist-packages/pandas/_libs/json.cpython-37m-x86_64-linux-gnu.so'>,\n",
              " 'pandas.io.formats.excel': <module 'pandas.io.formats.excel' from '/usr/local/lib/python3.7/dist-packages/pandas/io/formats/excel.py'>,\n",
              " 'pandas.io.formats.css': <module 'pandas.io.formats.css' from '/usr/local/lib/python3.7/dist-packages/pandas/io/formats/css.py'>,\n",
              " 'pandas.io.excel._xlsxwriter': <module 'pandas.io.excel._xlsxwriter' from '/usr/local/lib/python3.7/dist-packages/pandas/io/excel/_xlsxwriter.py'>,\n",
              " 'pandas.io.excel._xlwt': <module 'pandas.io.excel._xlwt' from '/usr/local/lib/python3.7/dist-packages/pandas/io/excel/_xlwt.py'>,\n",
              " 'pandas.io.feather_format': <module 'pandas.io.feather_format' from '/usr/local/lib/python3.7/dist-packages/pandas/io/feather_format.py'>,\n",
              " 'pandas.io.gbq': <module 'pandas.io.gbq' from '/usr/local/lib/python3.7/dist-packages/pandas/io/gbq.py'>,\n",
              " 'pandas.io.html': <module 'pandas.io.html' from '/usr/local/lib/python3.7/dist-packages/pandas/io/html.py'>,\n",
              " 'pandas.io.json': <module 'pandas.io.json' from '/usr/local/lib/python3.7/dist-packages/pandas/io/json/__init__.py'>,\n",
              " 'pandas.io.json._json': <module 'pandas.io.json._json' from '/usr/local/lib/python3.7/dist-packages/pandas/io/json/_json.py'>,\n",
              " 'pandas.io.json._normalize': <module 'pandas.io.json._normalize' from '/usr/local/lib/python3.7/dist-packages/pandas/io/json/_normalize.py'>,\n",
              " 'pandas.io.json._table_schema': <module 'pandas.io.json._table_schema' from '/usr/local/lib/python3.7/dist-packages/pandas/io/json/_table_schema.py'>,\n",
              " 'pandas.io.orc': <module 'pandas.io.orc' from '/usr/local/lib/python3.7/dist-packages/pandas/io/orc.py'>,\n",
              " 'pandas.io.parquet': <module 'pandas.io.parquet' from '/usr/local/lib/python3.7/dist-packages/pandas/io/parquet.py'>,\n",
              " 'pandas.io.pickle': <module 'pandas.io.pickle' from '/usr/local/lib/python3.7/dist-packages/pandas/io/pickle.py'>,\n",
              " 'pandas.compat.pickle_compat': <module 'pandas.compat.pickle_compat' from '/usr/local/lib/python3.7/dist-packages/pandas/compat/pickle_compat.py'>,\n",
              " 'pandas.io.pytables': <module 'pandas.io.pytables' from '/usr/local/lib/python3.7/dist-packages/pandas/io/pytables.py'>,\n",
              " 'pandas.core.computation.pytables': <module 'pandas.core.computation.pytables' from '/usr/local/lib/python3.7/dist-packages/pandas/core/computation/pytables.py'>,\n",
              " 'pandas.io.sas': <module 'pandas.io.sas' from '/usr/local/lib/python3.7/dist-packages/pandas/io/sas/__init__.py'>,\n",
              " 'pandas.io.sas.sasreader': <module 'pandas.io.sas.sasreader' from '/usr/local/lib/python3.7/dist-packages/pandas/io/sas/sasreader.py'>,\n",
              " 'pandas.io.spss': <module 'pandas.io.spss' from '/usr/local/lib/python3.7/dist-packages/pandas/io/spss.py'>,\n",
              " 'pandas.io.sql': <module 'pandas.io.sql' from '/usr/local/lib/python3.7/dist-packages/pandas/io/sql.py'>,\n",
              " 'pandas.io.stata': <module 'pandas.io.stata' from '/usr/local/lib/python3.7/dist-packages/pandas/io/stata.py'>,\n",
              " 'pandas.util._tester': <module 'pandas.util._tester' from '/usr/local/lib/python3.7/dist-packages/pandas/util/_tester.py'>,\n",
              " 'pandas.testing': <module 'pandas.testing' from '/usr/local/lib/python3.7/dist-packages/pandas/testing.py'>,\n",
              " 'pandas._testing': <module 'pandas._testing' from '/usr/local/lib/python3.7/dist-packages/pandas/_testing.py'>,\n",
              " 'pandas._libs.testing': <module 'pandas._libs.testing' from '/usr/local/lib/python3.7/dist-packages/pandas/_libs/testing.cpython-37m-x86_64-linux-gnu.so'>,\n",
              " 'pandas._version': <module 'pandas._version' from '/usr/local/lib/python3.7/dist-packages/pandas/_version.py'>,\n",
              " ...}"
            ]
          },
          "metadata": {
            "tags": []
          },
          "execution_count": 26
        }
      ]
    },
    {
      "cell_type": "code",
      "metadata": {
        "id": "ZTV5qjUFLqqc"
      },
      "source": [
        "import time"
      ],
      "execution_count": null,
      "outputs": []
    },
    {
      "cell_type": "code",
      "metadata": {
        "colab": {
          "base_uri": "https://localhost:8080/"
        },
        "id": "yvrott7NLvzI",
        "outputId": "089deb6c-5be3-42a2-dd59-7b6dae867f41"
      },
      "source": [
        "time.time()"
      ],
      "execution_count": null,
      "outputs": [
        {
          "output_type": "execute_result",
          "data": {
            "text/plain": [
              "1618484337.823284"
            ]
          },
          "metadata": {
            "tags": []
          },
          "execution_count": 28
        }
      ]
    },
    {
      "cell_type": "code",
      "metadata": {
        "colab": {
          "base_uri": "https://localhost:8080/",
          "height": 35
        },
        "id": "dQWGYJPxLxiM",
        "outputId": "241fc4b6-ca1d-4641-e07f-589035523c79"
      },
      "source": [
        "time.asctime()    #표준시. +9h"
      ],
      "execution_count": null,
      "outputs": [
        {
          "output_type": "execute_result",
          "data": {
            "application/vnd.google.colaboratory.intrinsic+json": {
              "type": "string"
            },
            "text/plain": [
              "'Thu Apr 15 11:01:35 2021'"
            ]
          },
          "metadata": {
            "tags": []
          },
          "execution_count": 37
        }
      ]
    },
    {
      "cell_type": "code",
      "metadata": {
        "colab": {
          "base_uri": "https://localhost:8080/"
        },
        "id": "3aHkkUspL42T",
        "outputId": "c30d9211-1a18-4cb4-ad04-ba4534e1cb3a"
      },
      "source": [
        "time.localtime()"
      ],
      "execution_count": null,
      "outputs": [
        {
          "output_type": "execute_result",
          "data": {
            "text/plain": [
              "time.struct_time(tm_year=2021, tm_mon=4, tm_mday=15, tm_hour=10, tm_min=59, tm_sec=49, tm_wday=3, tm_yday=105, tm_isdst=0)"
            ]
          },
          "metadata": {
            "tags": []
          },
          "execution_count": 31
        }
      ]
    },
    {
      "cell_type": "code",
      "metadata": {
        "id": "g5yHNkpEL-Gh"
      },
      "source": [
        "import calendar"
      ],
      "execution_count": null,
      "outputs": []
    },
    {
      "cell_type": "code",
      "metadata": {
        "id": "L3Yr8UEHMcwZ"
      },
      "source": [
        "cal = calendar.month(2021,4)"
      ],
      "execution_count": null,
      "outputs": []
    },
    {
      "cell_type": "code",
      "metadata": {
        "colab": {
          "base_uri": "https://localhost:8080/"
        },
        "id": "dWVCJGkmMhGj",
        "outputId": "64e67f42-eb71-4b31-8195-e4eb30dbb4db"
      },
      "source": [
        "print(cal)"
      ],
      "execution_count": null,
      "outputs": [
        {
          "output_type": "stream",
          "text": [
            "     April 2021\n",
            "Mo Tu We Th Fr Sa Su\n",
            "          1  2  3  4\n",
            " 5  6  7  8  9 10 11\n",
            "12 13 14 15 16 17 18\n",
            "19 20 21 22 23 24 25\n",
            "26 27 28 29 30\n",
            "\n"
          ],
          "name": "stdout"
        }
      ]
    },
    {
      "cell_type": "code",
      "metadata": {
        "id": "zV8D5cwRMiXI"
      },
      "source": [
        ""
      ],
      "execution_count": null,
      "outputs": []
    }
  ]
}