{
  "nbformat": 4,
  "nbformat_minor": 0,
  "metadata": {
    "colab": {
      "name": "2021_05_06_상속(Class).ipynb",
      "provenance": [],
      "collapsed_sections": [],
      "authorship_tag": "ABX9TyM46x8B5pjQytYjlTAZpVvo",
      "include_colab_link": true
    },
    "kernelspec": {
      "name": "python3",
      "display_name": "Python 3"
    },
    "language_info": {
      "name": "python"
    }
  },
  "cells": [
    {
      "cell_type": "markdown",
      "metadata": {
        "id": "view-in-github",
        "colab_type": "text"
      },
      "source": [
        "<a href=\"https://colab.research.google.com/github/ByeongKeun/Industrial-AI/blob/master/2021.1%ED%95%99%EA%B8%B0/%EC%82%B0%EC%97%85%EC%9D%B8%EA%B3%B5%EC%A7%80%EB%8A%A5%EA%B0%9C%EB%A1%A0/%EC%8B%A4%EC%8A%B5/2021_05_06_%EC%83%81%EC%86%8D(Class).ipynb\" target=\"_parent\"><img src=\"https://colab.research.google.com/assets/colab-badge.svg\" alt=\"Open In Colab\"/></a>"
      ]
    },
    {
      "cell_type": "code",
      "metadata": {
        "id": "OknnwZNxNBLP"
      },
      "source": [
        "class Vehicle:\n",
        "  def __init__(self, make, model, color, price):\n",
        "    self.make = make\n",
        "    self.model = model\n",
        "    self.color = color\n",
        "    self.price = price\n",
        "\n",
        "  def setMake(self, make):\n",
        "    self.make = make\n",
        "\n",
        "  def getMake(self):\n",
        "    return self.make\n",
        "\n",
        "  def getDesc(self):\n",
        "    return \"차량 =(\" + str(self.make) + \",\" + str(self.model)+ \",\" + str(self.color)+ \",\" + str(self.price) +\")\"\n",
        "\n"
      ],
      "execution_count": 1,
      "outputs": []
    },
    {
      "cell_type": "code",
      "metadata": {
        "id": "aQzDOarPNrsC"
      },
      "source": [
        "class Truck(Vehicle):\n",
        "  def __init__(self, make, model, color, price, payload):\n",
        "    super().__init__(make, model, color, price)\n",
        "    self.payload = payload\n",
        "\n",
        "  def setPayload(self, payload):\n",
        "    self.payload = payload\n",
        "  \n",
        "  def getPayload(self):\n",
        "    return self.payload"
      ],
      "execution_count": 2,
      "outputs": []
    },
    {
      "cell_type": "code",
      "metadata": {
        "id": "__uYxaPCKlz3"
      },
      "source": [
        "def main():\n",
        "  myTruck = Truck(\"Tisla\", \"Model S\", \"White\", 10000, 2000)\n",
        "  myTruck.setMake(\"Tesla\")\n",
        "  myTruck.setPayload(5000)\n",
        "  print(myTruck.getDesc())"
      ],
      "execution_count": 3,
      "outputs": []
    },
    {
      "cell_type": "code",
      "metadata": {
        "colab": {
          "base_uri": "https://localhost:8080/"
        },
        "id": "7pUtmtnQOYPO",
        "outputId": "aedd7e06-7ab5-4362-d2e5-ae277d7e8d24"
      },
      "source": [
        "main()"
      ],
      "execution_count": 4,
      "outputs": [
        {
          "output_type": "stream",
          "text": [
            "차량 =(Tesla,Model S,White,10000)\n"
          ],
          "name": "stdout"
        }
      ]
    },
    {
      "cell_type": "code",
      "metadata": {
        "id": "OTPqk7JxOY5l"
      },
      "source": [
        "class Animal(object):\n",
        "  pass\n",
        "\n",
        "class Dog(Animal):\n",
        "  def __init__(self, name):\n",
        "    self.name = name    \n",
        "\n",
        "class Person(object)  :\n",
        "  def __init__(self, name):\n",
        "    self.name = name\n",
        "    self.pet = None\n",
        "\n",
        "dog1 = Dog(\"dog1\")\n",
        "p1 = Person(\"홍길동\")\n",
        "p1.pet = dog1"
      ],
      "execution_count": 7,
      "outputs": []
    },
    {
      "cell_type": "code",
      "metadata": {
        "id": "zmVyNnfRVMiT"
      },
      "source": [
        ""
      ],
      "execution_count": null,
      "outputs": []
    }
  ]
}