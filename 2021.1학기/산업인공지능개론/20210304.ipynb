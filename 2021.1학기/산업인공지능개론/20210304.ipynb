{
  "nbformat": 4,
  "nbformat_minor": 0,
  "metadata": {
    "colab": {
      "name": "Untitled0.ipynb",
      "provenance": [],
      "authorship_tag": "ABX9TyNKK3kG+ErH83NG71u3adY8",
      "include_colab_link": true
    },
    "kernelspec": {
      "name": "python3",
      "display_name": "Python 3"
    }
  },
  "cells": [
    {
      "cell_type": "markdown",
      "metadata": {
        "id": "view-in-github",
        "colab_type": "text"
      },
      "source": [
        "<a href=\"https://colab.research.google.com/github/ByeongKeun/Industrial-AI/blob/master/2021.1%ED%95%99%EA%B8%B0/%EC%82%B0%EC%97%85%EC%9D%B8%EA%B3%B5%EC%A7%80%EB%8A%A5%EA%B0%9C%EB%A1%A0/20210304.ipynb\" target=\"_parent\"><img src=\"https://colab.research.google.com/assets/colab-badge.svg\" alt=\"Open In Colab\"/></a>"
      ]
    },
    {
      "cell_type": "code",
      "metadata": {
        "id": "68k3gRI3C0zR"
      },
      "source": [
        "import matplotlib.pyplot as plt\r\n",
        "from matplotlib import font_manager, rc\r\n",
        "\r\n",
        "font_name = font_manager.FontProperties(fname=\"c:\\Windows\\Fonts\\malgun.ttf\").get_name()\r\n",
        "rc('font', family=font_name)\r\n",
        "x_data = ['MON','TUE','WED', 'THR', 'FRI','SAT','SUN']\r\n",
        "\r\n",
        "plt.title(\"일주일간 유동 인구수 데이터\", fontsize=16)\r\n",
        "plt.xlabel(\"요일\", fontsize=12)\r\n",
        "plt.ylabel(\"유동 인구수\", fontsize=12)\r\n",
        "\r\n",
        "plt.scatter(x_data, a)\r\n",
        "plt.plot(x_data, a)\r\n",
        "plt.show()"
      ],
      "execution_count": null,
      "outputs": []
    }
  ]
}