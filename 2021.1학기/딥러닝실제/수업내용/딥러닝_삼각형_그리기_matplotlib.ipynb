{
  "nbformat": 4,
  "nbformat_minor": 0,
  "metadata": {
    "colab": {
      "name": "딥러닝_삼각형 그리기_matplotlib.ipynb",
      "provenance": [],
      "collapsed_sections": [],
      "authorship_tag": "ABX9TyN/Bj4D87fDFOoLwas03Xw5",
      "include_colab_link": true
    },
    "kernelspec": {
      "name": "python3",
      "display_name": "Python 3"
    },
    "language_info": {
      "name": "python"
    }
  },
  "cells": [
    {
      "cell_type": "markdown",
      "metadata": {
        "id": "view-in-github",
        "colab_type": "text"
      },
      "source": [
        "<a href=\"https://colab.research.google.com/github/ByeongKeun/Industrial-AI/blob/master/2021.1%ED%95%99%EA%B8%B0/%EB%94%A5%EB%9F%AC%EB%8B%9D%EC%8B%A4%EC%A0%9C/%EC%88%98%EC%97%85%EB%82%B4%EC%9A%A9/%EB%94%A5%EB%9F%AC%EB%8B%9D_%EC%82%BC%EA%B0%81%ED%98%95_%EA%B7%B8%EB%A6%AC%EA%B8%B0_matplotlib.ipynb\" target=\"_parent\"><img src=\"https://colab.research.google.com/assets/colab-badge.svg\" alt=\"Open In Colab\"/></a>"
      ]
    },
    {
      "cell_type": "code",
      "metadata": {
        "colab": {
          "base_uri": "https://localhost:8080/"
        },
        "id": "jbBzNxmLgaz6",
        "outputId": "3c5445b9-de0f-4c8d-d7c0-416d7559b585"
      },
      "source": [
        " x= 0 \n",
        " for i in range(1,100,1):\n",
        "   x = x+i\n",
        "\n",
        "print(x)\n"
      ],
      "execution_count": 4,
      "outputs": [
        {
          "output_type": "stream",
          "text": [
            "4950\n"
          ],
          "name": "stdout"
        }
      ]
    },
    {
      "cell_type": "code",
      "metadata": {
        "id": "pjUqHH4Ugr0z"
      },
      "source": [
        "import matplotlib.pyplot as plt\n",
        "import numpy as np"
      ],
      "execution_count": 5,
      "outputs": []
    },
    {
      "cell_type": "code",
      "metadata": {
        "colab": {
          "base_uri": "https://localhost:8080/",
          "height": 265
        },
        "id": "4f27LZgyoAR1",
        "outputId": "36f4427e-f07c-4cb2-fee3-d95f9b14639d"
      },
      "source": [
        "x = np.array([-1, 0, 1])\n",
        "y = np.array([0, 1, 0])\n",
        "y2 = np.array([0,0,0])\n",
        "\n",
        "plt.plot(x, y, 'r')\n",
        "plt.plot(x, y2, 'r')\n",
        "plt.show()"
      ],
      "execution_count": 7,
      "outputs": [
        {
          "output_type": "display_data",
          "data": {
            "image/png": "[encoded data removed]",
            "text/plain": [
              "<Figure size 432x288 with 1 Axes>"
            ]
          },
          "metadata": {
            "tags": [],
            "needs_background": "light"
          }
        }
      ]
    },
    {
      "cell_type": "code",
      "metadata": {
        "colab": {
          "base_uri": "https://localhost:8080/",
          "height": 301
        },
        "id": "ANN5XB6XoUC_",
        "outputId": "af501443-2e40-427f-c4db-9d24839a2951"
      },
      "source": [
        "x1 = np.arange(0.0, 5.0, 0.25)\n",
        "y1 = np.hstack([np.arange(0.0, 1.0, 0.1) , np.arange(1.0, 0.0, -0.1)])\n",
        "\n",
        "x3 = np.arange(0.0, 5.0, 0.25)\n",
        "y3 = np.hstack([np.arange(0.0, -1.0, -0.1) , np.arange(-1.0, 0.0, 0.1)])\n",
        "\n",
        "print(len(x1))\n",
        "print(len(y1))\n",
        "\n",
        "\n",
        "plt.plot(x1, y1, 'r')\n",
        "plt.plot(x3, y3, 'r')\n",
        "plt.show()"
      ],
      "execution_count": 36,
      "outputs": [
        {
          "output_type": "stream",
          "text": [
            "20\n",
            "20\n"
          ],
          "name": "stdout"
        },
        {
          "output_type": "display_data",
          "data": {
            "image/png": "[encoded data removed]",
            "text/plain": [
              "<Figure size 432x288 with 1 Axes>"
            ]
          },
          "metadata": {
            "tags": [],
            "needs_background": "light"
          }
        }
      ]
    },
    {
      "cell_type": "code",
      "metadata": {
        "colab": {
          "base_uri": "https://localhost:8080/"
        },
        "id": "bR0lW2dGo3Kr",
        "outputId": "67545859-e07e-496f-f2ac-8b537c664208"
      },
      "source": [
        "y1 = np.hstack([np.arange(0.0, 1.0, 0.1) , np.arange(1.0, 0.0, -0.1)])\n",
        "y1"
      ],
      "execution_count": 29,
      "outputs": [
        {
          "output_type": "execute_result",
          "data": {
            "text/plain": [
              "array([0. , 0.1, 0.2, 0.3, 0.4, 0.5, 0.6, 0.7, 0.8, 0.9, 1. , 0.9, 0.8,\n",
              "       0.7, 0.6, 0.5, 0.4, 0.3, 0.2, 0.1])"
            ]
          },
          "metadata": {
            "tags": []
          },
          "execution_count": 29
        }
      ]
    },
    {
      "cell_type": "code",
      "metadata": {
        "id": "nDDo5Q09pPm1"
      },
      "source": [
        ""
      ],
      "execution_count": null,
      "outputs": []
    }
  ]
}