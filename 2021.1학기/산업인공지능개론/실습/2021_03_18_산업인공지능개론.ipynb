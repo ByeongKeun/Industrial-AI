{
  "nbformat": 4,
  "nbformat_minor": 0,
  "metadata": {
    "colab": {
      "name": "2021-03-18_산업인공지능개론.ipynb",
      "provenance": [],
      "authorship_tag": "ABX9TyMOFj9e7edQrJAzY1kJ9YUZ",
      "include_colab_link": true
    },
    "kernelspec": {
      "name": "python3",
      "display_name": "Python 3"
    }
  },
  "cells": [
    {
      "cell_type": "markdown",
      "metadata": {
        "id": "view-in-github",
        "colab_type": "text"
      },
      "source": [
        "<a href=\"https://colab.research.google.com/github/ByeongKeun/Industrial-AI/blob/master/2021.1%ED%95%99%EA%B8%B0/%EC%82%B0%EC%97%85%EC%9D%B8%EA%B3%B5%EC%A7%80%EB%8A%A5%EA%B0%9C%EB%A1%A0/%EC%8B%A4%EC%8A%B5/2021_03_18_%EC%82%B0%EC%97%85%EC%9D%B8%EA%B3%B5%EC%A7%80%EB%8A%A5%EA%B0%9C%EB%A1%A0.ipynb\" target=\"_parent\"><img src=\"https://colab.research.google.com/assets/colab-badge.svg\" alt=\"Open In Colab\"/></a>"
      ]
    },
    {
      "cell_type": "code",
      "metadata": {
        "colab": {
          "base_uri": "https://localhost:8080/"
        },
        "id": "b6CEdvxSzjZx",
        "outputId": "405fa0ab-a3a5-48b6-c345-1ed0ab186cbe"
      },
      "source": [
        "scores = []\r\n",
        "sum=0\r\n",
        "for i in range(5):\r\n",
        "  scores.append(int(input(\"성적을 입력하시오:\")))\r\n",
        "  sum += scores[i]"
      ],
      "execution_count": 2,
      "outputs": [
        {
          "output_type": "stream",
          "text": [
            "성적을 입력하시오:100\n",
            "성적을 입력하시오:50\n",
            "성적을 입력하시오:70\n",
            "성적을 입력하시오:60\n",
            "성적을 입력하시오:80\n"
          ],
          "name": "stdout"
        }
      ]
    },
    {
      "cell_type": "code",
      "metadata": {
        "colab": {
          "base_uri": "https://localhost:8080/"
        },
        "id": "m63krooH10RA",
        "outputId": "26ca59b0-b881-40e7-cd3e-253421ef81f2"
      },
      "source": [
        "avg = sum / len(scores)\r\n",
        "\r\n",
        "print(\"학생들의 점수는 \", scores, \"입니다\")\r\n",
        "print(\"평균점수는 \",avg,\"입니다\")"
      ],
      "execution_count": 3,
      "outputs": [
        {
          "output_type": "stream",
          "text": [
            "학생들의 점수는  [100, 50, 70, 60, 80] 입니다\n",
            "평균점수는  72.0 입니다\n"
          ],
          "name": "stdout"
        }
      ]
    },
    {
      "cell_type": "code",
      "metadata": {
        "colab": {
          "base_uri": "https://localhost:8080/"
        },
        "id": "iL8Hqf874lbo",
        "outputId": "8db82c85-198f-47a8-e968-8e8e7b46358f"
      },
      "source": [
        "highScorerCount=0\r\n",
        "highScorer=0\r\n",
        "\r\n",
        "for i in range(len(scores)):\r\n",
        "  if scores[i] >= 80:\r\n",
        "    highScorer = scores[i]\r\n",
        "    highScorerCount += 1\r\n",
        "\r\n",
        "print(\"80이상 학생는 \",highScorerCount, \"명 입니다\" )\r\n",
        "print(\"최고점수는 \", highScorer, \"점 입니다\")"
      ],
      "execution_count": 4,
      "outputs": [
        {
          "output_type": "stream",
          "text": [
            "80이상 학생는  2 명 입니다\n",
            "최고점수는  80 점 입니다\n"
          ],
          "name": "stdout"
        }
      ]
    },
    {
      "cell_type": "code",
      "metadata": {
        "colab": {
          "base_uri": "https://localhost:8080/"
        },
        "id": "fxalAbgz-Ax7",
        "outputId": "91e0add0-7e12-4fb6-fb4b-1799562b2f9b"
      },
      "source": [
        "values = [1,2,\"4\"] * 3\r\n",
        "print(values)"
      ],
      "execution_count": 5,
      "outputs": [
        {
          "output_type": "stream",
          "text": [
            "[1, 2, '4', 1, 2, '4', 1, 2, '4']\n"
          ],
          "name": "stdout"
        }
      ]
    },
    {
      "cell_type": "code",
      "metadata": {
        "colab": {
          "base_uri": "https://localhost:8080/"
        },
        "id": "NZiZxpYf-HfW",
        "outputId": "e456f0e4-4acb-48d9-afcf-d9c26cd507d9"
      },
      "source": [
        "values.insert(2, \"insert\")\r\n",
        "print(values)"
      ],
      "execution_count": 6,
      "outputs": [
        {
          "output_type": "stream",
          "text": [
            "[1, 2, 'insert', '4', 1, 2, '4', 1, 2, '4']\n"
          ],
          "name": "stdout"
        }
      ]
    },
    {
      "cell_type": "code",
      "metadata": {
        "colab": {
          "base_uri": "https://localhost:8080/"
        },
        "id": "iGJASlDD-P6X",
        "outputId": "c31643dd-facd-4978-e63b-97e1cd9b92bd"
      },
      "source": [
        "values.append(\"append\")\r\n",
        "print(values)"
      ],
      "execution_count": 7,
      "outputs": [
        {
          "output_type": "stream",
          "text": [
            "[1, 2, 'insert', '4', 1, 2, '4', 1, 2, '4', 'append']\n"
          ],
          "name": "stdout"
        }
      ]
    },
    {
      "cell_type": "code",
      "metadata": {
        "colab": {
          "base_uri": "https://localhost:8080/"
        },
        "id": "SuXZfDOb-fhJ",
        "outputId": "b407db4c-f7f1-406b-dfce-64624566b743"
      },
      "source": [
        "values.pop(2)\r\n",
        "print(values)"
      ],
      "execution_count": 8,
      "outputs": [
        {
          "output_type": "stream",
          "text": [
            "[1, 2, '4', 1, 2, '4', 1, 2, '4', 'append']\n"
          ],
          "name": "stdout"
        }
      ]
    },
    {
      "cell_type": "code",
      "metadata": {
        "colab": {
          "base_uri": "https://localhost:8080/"
        },
        "id": "MHXVpXdt-y9E",
        "outputId": "8891baaa-cf7b-4bfb-ad19-00c2ebfe4200"
      },
      "source": [
        "values.remove(\"4\")\r\n",
        "print(values)"
      ],
      "execution_count": 9,
      "outputs": [
        {
          "output_type": "stream",
          "text": [
            "[1, 2, 1, 2, '4', 1, 2, '4', 'append']\n"
          ],
          "name": "stdout"
        }
      ]
    },
    {
      "cell_type": "code",
      "metadata": {
        "colab": {
          "base_uri": "https://localhost:8080/"
        },
        "id": "NUlCnFct-3qA",
        "outputId": "5123c911-d717-4ab6-bcdc-46e82bbb96d0"
      },
      "source": [
        "str = \"Where there is a will, there is a way\"\r\n",
        "a = str.split()\r\n",
        "b = str.split(\",\")\r\n",
        "\r\n",
        "print(\"a=\", a)\r\n",
        "print(\"b=\", b)"
      ],
      "execution_count": 10,
      "outputs": [
        {
          "output_type": "stream",
          "text": [
            "a= ['Where', 'there', 'is', 'a', 'will,', 'there', 'is', 'a', 'way']\n",
            "b= ['Where there is a will', ' there is a way']\n"
          ],
          "name": "stdout"
        }
      ]
    },
    {
      "cell_type": "code",
      "metadata": {
        "colab": {
          "base_uri": "https://localhost:8080/"
        },
        "id": "C5O_BjGFA7ql",
        "outputId": "ff791abd-313b-4acc-df55-3e14db7d4cb3"
      },
      "source": [
        "#value 참조 copy\r\n",
        "scoresB = scores\r\n",
        "print(scoresB)"
      ],
      "execution_count": 12,
      "outputs": [
        {
          "output_type": "stream",
          "text": [
            "[100, 50, 70, 60, 80]\n"
          ],
          "name": "stdout"
        }
      ]
    },
    {
      "cell_type": "code",
      "metadata": {
        "colab": {
          "base_uri": "https://localhost:8080/"
        },
        "id": "wJCvNNIKBfKO",
        "outputId": "5ff2ef2e-d9f4-4f98-d6fb-da4aecdd632c"
      },
      "source": [
        "scoresB.insert(2, 1000)\r\n",
        "print(scores)"
      ],
      "execution_count": 13,
      "outputs": [
        {
          "output_type": "stream",
          "text": [
            "[100, 50, 1000, 70, 60, 80]\n"
          ],
          "name": "stdout"
        }
      ]
    },
    {
      "cell_type": "code",
      "metadata": {
        "colab": {
          "base_uri": "https://localhost:8080/"
        },
        "id": "otWffN8dCJjH",
        "outputId": "06533c4f-d90b-49ab-875e-e295f749b24c"
      },
      "source": [
        "scoresB == scores"
      ],
      "execution_count": 14,
      "outputs": [
        {
          "output_type": "execute_result",
          "data": {
            "text/plain": [
              "True"
            ]
          },
          "metadata": {
            "tags": []
          },
          "execution_count": 14
        }
      ]
    },
    {
      "cell_type": "code",
      "metadata": {
        "colab": {
          "base_uri": "https://localhost:8080/"
        },
        "id": "aIZ2qWf8COAP",
        "outputId": "fa77c538-7303-4bc4-f163-0e882b910591"
      },
      "source": [
        "#deep copy\r\n",
        "scoresA = list(scoresB)\r\n",
        "scoresA.insert(3, 'insert')\r\n",
        "\r\n",
        "print(scoresB)"
      ],
      "execution_count": 15,
      "outputs": [
        {
          "output_type": "stream",
          "text": [
            "[100, 50, 1000, 70, 60, 80]\n"
          ],
          "name": "stdout"
        }
      ]
    },
    {
      "cell_type": "code",
      "metadata": {
        "colab": {
          "base_uri": "https://localhost:8080/"
        },
        "id": "Icg90RqPCeFH",
        "outputId": "a139dede-e980-49c3-afed-9c0f8b91efe3"
      },
      "source": [
        "print(scoresA)"
      ],
      "execution_count": 16,
      "outputs": [
        {
          "output_type": "stream",
          "text": [
            "[100, 50, 1000, 'insert', 70, 60, 80]\n"
          ],
          "name": "stdout"
        }
      ]
    },
    {
      "cell_type": "code",
      "metadata": {
        "colab": {
          "base_uri": "https://localhost:8080/"
        },
        "id": "Rs5sxPb2Cfut",
        "outputId": "bc72f9d8-e921-4498-baa9-45c3d70a2096"
      },
      "source": [
        "def callByReference(list):\r\n",
        "  list[0] = 100\r\n",
        "\r\n",
        "values = [0,1,2,3,4,5]\r\n",
        "print(\"호출 전\", values)\r\n",
        "\r\n",
        "callByReference(values)\r\n",
        "print(\"호출 후\", values)"
      ],
      "execution_count": 17,
      "outputs": [
        {
          "output_type": "stream",
          "text": [
            "호출 전 [0, 1, 2, 3, 4, 5]\n",
            "호출 후 [100, 1, 2, 3, 4, 5]\n"
          ],
          "name": "stdout"
        }
      ]
    },
    {
      "cell_type": "code",
      "metadata": {
        "colab": {
          "base_uri": "https://localhost:8080/"
        },
        "id": "LHP_l6gYC8pC",
        "outputId": "ed7cfd09-ffb1-4a34-e17f-acbc3c8a1364"
      },
      "source": [
        "#리스트 함축 **제곱\r\n",
        "[ x**2 for x in range(1, 10)]"
      ],
      "execution_count": 22,
      "outputs": [
        {
          "output_type": "execute_result",
          "data": {
            "text/plain": [
              "[1, 4, 9, 16, 25, 36, 49, 64, 81]"
            ]
          },
          "metadata": {
            "tags": []
          },
          "execution_count": 22
        }
      ]
    },
    {
      "cell_type": "code",
      "metadata": {
        "colab": {
          "base_uri": "https://localhost:8080/"
        },
        "id": "g6y33RQLECpj",
        "outputId": "e977a33e-2b1e-4993-9127-79f441f2f262"
      },
      "source": [
        "[ x**2 for x in range(1, 10) if x % 2 == 0]"
      ],
      "execution_count": 23,
      "outputs": [
        {
          "output_type": "execute_result",
          "data": {
            "text/plain": [
              "[4, 16, 36, 64]"
            ]
          },
          "metadata": {
            "tags": []
          },
          "execution_count": 23
        }
      ]
    },
    {
      "cell_type": "code",
      "metadata": {
        "colab": {
          "base_uri": "https://localhost:8080/"
        },
        "id": "QRXon4vCEGPD",
        "outputId": "b894963f-9cae-4da7-a2f6-6a30c047e2ce"
      },
      "source": [
        "te = \"All good things must com to an end\"\r\n",
        "list = te.split(\" \")\r\n",
        "print(list)"
      ],
      "execution_count": 25,
      "outputs": [
        {
          "output_type": "stream",
          "text": [
            "['All', 'good', 'things', 'must', 'com', 'to', 'an', 'end']\n"
          ],
          "name": "stdout"
        }
      ]
    },
    {
      "cell_type": "code",
      "metadata": {
        "colab": {
          "base_uri": "https://localhost:8080/"
        },
        "id": "VlZGCgUnFGwT",
        "outputId": "c0af74e4-f268-4472-ffaa-bdcc635ce9ed"
      },
      "source": [
        "items = [word[0] for word in list]\r\n",
        "print(items)"
      ],
      "execution_count": 27,
      "outputs": [
        {
          "output_type": "stream",
          "text": [
            "['A', 'g', 't', 'm', 'c', 't', 'a', 'e']\n"
          ],
          "name": "stdout"
        }
      ]
    },
    {
      "cell_type": "code",
      "metadata": {
        "colab": {
          "base_uri": "https://localhost:8080/"
        },
        "id": "o3x3uBFQFQfc",
        "outputId": "abce4c49-7955-438f-b79a-e1accaf75668"
      },
      "source": [
        "colors = [\"white\", \"silver\", \"black\"]\r\n",
        "cars = [\"BMW\", \"KIA\"]\r\n",
        "colored_cars = [(x,y) for x in colors for y in cars]\r\n",
        "print(colored_cars)"
      ],
      "execution_count": 28,
      "outputs": [
        {
          "output_type": "stream",
          "text": [
            "[('white', 'BMW'), ('white', 'KIA'), ('silver', 'BMW'), ('silver', 'KIA'), ('black', 'BMW'), ('black', 'KIA')]\n"
          ],
          "name": "stdout"
        }
      ]
    },
    {
      "cell_type": "code",
      "metadata": {
        "colab": {
          "base_uri": "https://localhost:8080/",
          "height": 136
        },
        "id": "5bBzpQj4FwrV",
        "outputId": "966b5528-68ec-47c2-d53c-dfe79fa00297"
      },
      "source": [
        "listCar = []\r\n",
        "\r\n",
        "for x in colors:\r\n",
        "  for y in cars:\r\n",
        "    listCar.append(x, y)\r\n",
        "\r\n",
        " print(listCar)   "
      ],
      "execution_count": 29,
      "outputs": [
        {
          "output_type": "error",
          "ename": "IndentationError",
          "evalue": "ignored",
          "traceback": [
            "\u001b[0;36m  File \u001b[0;32m\"<ipython-input-29-2e0a6953dc64>\"\u001b[0;36m, line \u001b[0;32m7\u001b[0m\n\u001b[0;31m    print(listCar)\u001b[0m\n\u001b[0m                     ^\u001b[0m\n\u001b[0;31mIndentationError\u001b[0m\u001b[0;31m:\u001b[0m unindent does not match any outer indentation level\n"
          ]
        }
      ]
    },
    {
      "cell_type": "code",
      "metadata": {
        "colab": {
          "base_uri": "https://localhost:8080/"
        },
        "id": "14Y-pT7wGKqk",
        "outputId": "06a31fc9-0536-4030-9131-bf60092ed87b"
      },
      "source": [
        "A = [1, 2, 3, 4, 5]\r\n",
        "print(A[2])"
      ],
      "execution_count": 30,
      "outputs": [
        {
          "output_type": "stream",
          "text": [
            "3\n"
          ],
          "name": "stdout"
        }
      ]
    },
    {
      "cell_type": "code",
      "metadata": {
        "id": "FDDekfFGGwap"
      },
      "source": [
        ""
      ],
      "execution_count": null,
      "outputs": []
    }
  ]
}