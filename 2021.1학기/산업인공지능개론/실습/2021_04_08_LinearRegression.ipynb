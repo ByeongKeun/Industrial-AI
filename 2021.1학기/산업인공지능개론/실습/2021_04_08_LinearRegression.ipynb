{
  "nbformat": 4,
  "nbformat_minor": 0,
  "metadata": {
    "colab": {
      "name": "2021_04_08_LinearRegression.ipynb",
      "provenance": [],
      "collapsed_sections": [],
      "authorship_tag": "ABX9TyNfRpX7CByt6c+OakILMI6R",
      "include_colab_link": true
    },
    "kernelspec": {
      "name": "python3",
      "display_name": "Python 3"
    },
    "language_info": {
      "name": "python"
    }
  },
  "cells": [
    {
      "cell_type": "markdown",
      "metadata": {
        "id": "view-in-github",
        "colab_type": "text"
      },
      "source": [
        "<a href=\"https://colab.research.google.com/github/ByeongKeun/Industrial-AI/blob/master/2021.1%ED%95%99%EA%B8%B0/%EC%82%B0%EC%97%85%EC%9D%B8%EA%B3%B5%EC%A7%80%EB%8A%A5%EA%B0%9C%EB%A1%A0/%EC%8B%A4%EC%8A%B5/2021_04_08_LinearRegression.ipynb\" target=\"_parent\"><img src=\"https://colab.research.google.com/assets/colab-badge.svg\" alt=\"Open In Colab\"/></a>"
      ]
    },
    {
      "cell_type": "code",
      "metadata": {
        "id": "3eT-d28gS87u"
      },
      "source": [
        "import numpy as np\n",
        "from sklearn.linear_model import LinearRegression\n",
        "from matplotlib import pyplot as plt"
      ],
      "execution_count": 1,
      "outputs": []
    },
    {
      "cell_type": "code",
      "metadata": {
        "id": "RT_ixtIuTG3E"
      },
      "source": [
        "data = np.array([[30, 12], [150, 30], [300, 53], [400, 61], [110, 21], [240, 43], [333, 22],[100,13],[130, 10], [190, 32], [244, 25]])"
      ],
      "execution_count": 4,
      "outputs": []
    },
    {
      "cell_type": "code",
      "metadata": {
        "colab": {
          "base_uri": "https://localhost:8080/",
          "height": 295
        },
        "id": "tU3Nq_WNTbah",
        "outputId": "9ff9d50a-4f3a-462e-c5b3-30949d7842db"
      },
      "source": [
        "plt.scatter(data[:,0], data[:,1]) #데이터 위치의 산포도 출력\n",
        "plt.title(\"Linear Regression\")\n",
        "plt.xlabel(\"Delivery Distance\")\n",
        "plt.ylabel(\"Delivery time\")\n",
        "plt.axis([0,500, 0, 100])\n",
        "\n",
        "x = data[:, 0].reshape(-1, 1) #입력\n",
        "y = data[:, 1].reshape(-1, 1) #출력\n",
        "\n",
        "model = LinearRegression()\n",
        "model.fit(x,y)  #학습모델\n",
        "\n",
        "y_pred = model.predict(x) #예측값 계산\n",
        "plt.plot(x, y_pred, color='r')\n",
        "plt.show()"
      ],
      "execution_count": 6,
      "outputs": [
        {
          "output_type": "display_data",
          "data": {
            "image/png": "[encoded data removed]",
            "text/plain": [
              "<Figure size 432x288 with 1 Axes>"
            ]
          },
          "metadata": {
            "tags": [],
            "needs_background": "light"
          }
        }
      ]
    },
    {
      "cell_type": "code",
      "metadata": {
        "id": "-6G3C4-aUXrF"
      },
      "source": [
        ""
      ],
      "execution_count": null,
      "outputs": []
    }
  ]
}