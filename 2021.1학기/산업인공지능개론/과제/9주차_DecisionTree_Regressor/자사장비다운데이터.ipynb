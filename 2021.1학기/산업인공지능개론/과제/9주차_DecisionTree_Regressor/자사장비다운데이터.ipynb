{
  "nbformat": 4,
  "nbformat_minor": 0,
  "metadata": {
    "colab": {
      "name": "Untitled7.ipynb",
      "provenance": [],
      "authorship_tag": "ABX9TyMf3To3gIbxYpqVemWZESay",
      "include_colab_link": true
    },
    "kernelspec": {
      "name": "python3",
      "display_name": "Python 3"
    },
    "language_info": {
      "name": "python"
    }
  },
  "cells": [
    {
      "cell_type": "markdown",
      "metadata": {
        "id": "view-in-github",
        "colab_type": "text"
      },
      "source": [
        "<a href=\"https://colab.research.google.com/github/ByeongKeun/Industrial-AI/blob/master/2021.1%ED%95%99%EA%B8%B0/%EC%82%B0%EC%97%85%EC%9D%B8%EA%B3%B5%EC%A7%80%EB%8A%A5%EA%B0%9C%EB%A1%A0/%EA%B3%BC%EC%A0%9C/9%EC%A3%BC%EC%B0%A8_DecisionTree_Regressor/%EC%9E%90%EC%82%AC%EC%9E%A5%EB%B9%84%EB%8B%A4%EC%9A%B4%EB%8D%B0%EC%9D%B4%ED%84%B0.ipynb\" target=\"_parent\"><img src=\"https://colab.research.google.com/assets/colab-badge.svg\" alt=\"Open In Colab\"/></a>"
      ]
    },
    {
      "cell_type": "code",
      "metadata": {
        "id": "__uYxaPCKlz3"
      },
      "source": [
        "# -*- coding: utf-8 -*-\n",
        "import pandas as pd\n",
        "from sklearn.tree import DecisionTreeRegressor\n",
        "from sklearn.linear_model import LinearRegression\n",
        "import matplotlib.pyplot as plt\n",
        "import numpy as np\n",
        "\n",
        "f = pd.read_excel('carrierloading_down_event.xlsx', 0)  #carrier loading machine down event data\n",
        "eventsfile = f #f.fillna(0)    #혹시나 있을지 모르는 nan값 치환(결측치)\n",
        "\n",
        "data_train = eventsfile[eventsfile['PREV_TRANS_TIME'] < 6080000] #5월 1일~ 6일 08시\n",
        "data_test = eventsfile[eventsfile['PREV_TRANS_TIME'] >= 6080000] #5월 6일 08시 이후\n",
        "\n",
        "x_train = data_train['PREV_TRANS_TIME'][:, np.newaxis] # train data를 1열로 생성\n",
        "y_train = data_train['DOWN_TIME']\n",
        "\n",
        "tree = DecisionTreeRegressor()\n",
        "tree.fit(x_train, y_train)  #fit\n",
        "\n",
        "x_all = eventsfile['PREV_TRANS_TIME'].values.reshape(-1, 1) # fit을 하기위해, 1열로 만듬\n",
        "pred_tree = tree.predict(x_all) #predict\n",
        "\n",
        "#pyplot graph\n",
        "plt.scatter(eventsfile['PREV_TRANS_TIME'], pred_tree, c= 'lightblue', label = 'predict')\n",
        "plt.plot(data_train['PREV_TRANS_TIME'], data_train['DOWN_TIME'], color='red', label = 'train data')\n",
        "plt.plot(data_test['PREV_TRANS_TIME'], data_test['DOWN_TIME'], color='blue', label = 'test data')\n",
        "plt.xlabel('time', size=10)\n",
        "plt.ylabel('down time', size=10)\n",
        "plt.legend(loc='upper right')\n",
        "plt.show()"
      ],
      "execution_count": null,
      "outputs": []
    }
  ]
}