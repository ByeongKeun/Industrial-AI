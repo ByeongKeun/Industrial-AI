{
  "nbformat": 4,
  "nbformat_minor": 0,
  "metadata": {
    "colab": {
      "name": "2021-04-01_Durable_5주차과제.ipynb",
      "provenance": [],
      "authorship_tag": "ABX9TyOLL6JkDaLMaDIhlCIgbu51",
      "include_colab_link": true
    },
    "kernelspec": {
      "name": "python3",
      "display_name": "Python 3"
    }
  },
  "cells": [
    {
      "cell_type": "markdown",
      "metadata": {
        "id": "view-in-github",
        "colab_type": "text"
      },
      "source": [
        "<a href=\"https://colab.research.google.com/github/ByeongKeun/Industrial-AI/blob/master/2021.1%ED%95%99%EA%B8%B0/%EC%82%B0%EC%97%85%EC%9D%B8%EA%B3%B5%EC%A7%80%EB%8A%A5%EA%B0%9C%EB%A1%A0/%EA%B3%BC%EC%A0%9C/2021_04_01_Durable_5%EC%A3%BC%EC%B0%A8%EA%B3%BC%EC%A0%9C.ipynb\" target=\"_parent\"><img src=\"https://colab.research.google.com/assets/colab-badge.svg\" alt=\"Open In Colab\"/></a>"
      ]
    },
    {
      "cell_type": "code",
      "metadata": {
        "colab": {
          "base_uri": "https://localhost:8080/"
        },
        "id": "RnvqKfXWJXtF",
        "outputId": "61b7da5d-5487-4180-8d9e-7a11b535573c"
      },
      "source": [
        "!pip install durable_rules\n",
        "from durable.lang import *"
      ],
      "execution_count": 1,
      "outputs": [
        {
          "output_type": "stream",
          "text": [
            "Requirement already satisfied: durable_rules in /usr/local/lib/python3.7/dist-packages (2.0.28)\n"
          ],
          "name": "stdout"
        }
      ]
    },
    {
      "cell_type": "code",
      "metadata": {
        "id": "4PGbTkj6FTL4"
      },
      "source": [
        "psum = 0\n",
        "dsum = 0\n",
        "\n",
        "def paySum(pay):  \n",
        "  psum += pay\n",
        "\n",
        "def daySum(day):\n",
        "  dsum += day"
      ],
      "execution_count": 2,
      "outputs": []
    },
    {
      "cell_type": "code",
      "metadata": {
        "id": "cB03q54bJfqL"
      },
      "source": [
        "with ruleset('employee'):                    \n",
        "    @when_all(c.first << (m.predicate == '나는') & (m.object == '결혼한다'),\n",
        "              (m.predicate == '나는') & (m.object == '리더급이다') & (m.subject == c.first.subject))\n",
        "    def A(c):\n",
        "        c.assert_fact({ 'subject': c.first.subject, 'predicate': '결혼축하금', 'object': 'pay150' })\n",
        "        c.assert_fact({ 'subject': c.first.subject, 'predicate': '결혼휴일일수', 'object': 'day6' })\n",
        "        \n",
        "    @when_all(c.first << (m.predicate == '나는') & (m.object == '결혼한다'),\n",
        "              (m.predicate == '나는') & (m.object == '사원급이다') & (m.subject == c.first.subject))\n",
        "    def B(c):\n",
        "        c.assert_fact({ 'subject': c.first.subject, 'predicate': '결혼축하금', 'object': 'pay100' })\n",
        "        c.assert_fact({ 'subject': c.first.subject, 'predicate': '결혼휴일일수', 'object': 'day6' })\n",
        "    \n",
        "    @when_all(c.first << (m.predicate == '자녀가') & (m.object == '결혼한다'),\n",
        "              (m.predicate == '나는') & (m.object == '리더급이다') & (m.subject == c.first.subject))\n",
        "    def C(c):\n",
        "        c.assert_fact({ 'subject': c.first.subject, 'predicate': '결혼축하금', 'object': 'pay75' })\n",
        "        c.assert_fact({ 'subject': c.first.subject, 'predicate': '결혼휴일일수', 'object': 'day2' })\n",
        "        \n",
        "    @when_all(c.first << (m.predicate == '형제자매(배우자포함)') & (m.object == '결혼한다'),\n",
        "              (m.predicate == '나는') & (m.object == '사원급이다') & (m.subject == c.first.subject))\n",
        "    def D(c):\n",
        "        c.assert_fact({ 'subject': c.first.subject, 'predicate': '결혼축하금', 'object': 'pay50' })\n",
        "        c.assert_fact({ 'subject': c.first.subject, 'predicate': '결혼휴일일수', 'object': 'day2' })           \n",
        "    \n",
        "    @when_all(c.first << (m.predicate == '형제자매(배우자포함)') & (m.object == '결혼한다'),\n",
        "              (m.predicate == '나는') & (m.object == '리더급이다') & (m.subject == c.first.subject))\n",
        "    def C(c):\n",
        "        c.assert_fact({ 'subject': c.first.subject, 'predicate': '결혼축하금', 'object': 'pay30' })\n",
        "        c.assert_fact({ 'subject': c.first.subject, 'predicate': '결혼휴일일수', 'object': 'day1' })\n",
        "        \n",
        "    @when_all(c.first << (m.predicate == '자녀가') & (m.object == '결혼한다'),\n",
        "              (m.predicate == '나는') & (m.object == '사원급이다') & (m.subject == c.first.subject))\n",
        "    def D(c):\n",
        "        c.assert_fact({ 'subject': c.first.subject, 'predicate': '결혼축하금', 'object': 'pay20' })\n",
        "        c.assert_fact({ 'subject': c.first.subject, 'predicate': '결혼휴일일수', 'object': 'day1' })           \n",
        "    \n",
        "    @when_all(c.first << (m.predicate == '부모(처포함)') & (m.object == '회갑/칠순이다'),\n",
        "              (m.predicate == '나는') & (m.object == '리더급이다') & (m.subject == c.first.subject))\n",
        "    def F(c):\n",
        "        c.assert_fact({ 'subject': c.first.subject, 'predicate': '회갑/칠순경조금', 'object': 'pay30' })\n",
        "        c.assert_fact({ 'subject': c.first.subject, 'predicate': '회갑/칠순휴일일수', 'object': 'day1' })\n",
        "    \n",
        "    @when_all(c.first << (m.predicate == '부모(처포함)') & (m.object == '회갑/칠순이다'),\n",
        "              (m.predicate == '나는') & (m.object == '사원급이다') & (m.subject == c.first.subject))\n",
        "    def G(c):\n",
        "        c.assert_fact({ 'subject': c.first.subject, 'predicate': '회갑/칠순경조금', 'object': 'pay20' })\n",
        "        c.assert_fact({ 'subject': c.first.subject, 'predicate': '회갑/칠순휴일일수', 'object': 'day1' })\n",
        "\n",
        "    @when_all(c.first << (m.predicate == '(외)조부모') & (m.object == '회갑/칠순이다'),\n",
        "              (m.predicate == '나는') & (m.object == '리더급이다') & (m.subject == c.first.subject))\n",
        "    def F(c):\n",
        "        c.assert_fact({ 'subject': c.first.subject, 'predicate': '회갑/칠순경조금', 'object': 'pay10' })\n",
        "        c.assert_fact({ 'subject': c.first.subject, 'predicate': '회갑/칠순휴일일수', 'object': 'day1' })\n",
        "    \n",
        "    @when_all(c.first << (m.predicate == '(외)조부모') & (m.object == '회갑/칠순이다'),\n",
        "              (m.predicate == '나는') & (m.object == '사원급이다') & (m.subject == c.first.subject))\n",
        "    def G(c):\n",
        "        c.assert_fact({ 'subject': c.first.subject, 'predicate': '회갑/칠순경조금', 'object': 'pay10' })\n",
        "        c.assert_fact({ 'subject': c.first.subject, 'predicate': '회갑/칠순휴일일수', 'object': 'day1' })\n",
        "    \n",
        "    @when_all(c.first << (m.predicate == '자녀를') & (m.object == '출산한다'))\n",
        "    def H(c):\n",
        "        c.assert_fact({ 'subject': c.first.subject, 'predicate': '출산휴가', 'object': 'day10' })\n",
        "\n",
        "    @when_all(c.first << (m.predicate == '자녀가') & (m.object == '돌이다'))\n",
        "    def H(c):\n",
        "        c.assert_fact({ 'subject': c.first.subject, 'predicate': '자녀돌', 'object': 'pay20' })\n",
        "    \n",
        "    @when_any(c.first << (m.predicate == '나는') & ((m.object == '리더급이다') | (m.object == '사원급이다')))\n",
        "    def J(c):\n",
        "        c.assert_fact({ 'subject': c.first.subject, 'predicate': '명절/근로자의날', 'object': 'point' })\n",
        "        c.assert_fact({ 'subject': c.first.subject, 'predicate': '본인생일', 'object': 'coupon' })        \n",
        "        \n",
        "    @when_any((m.object == 'pay150') & ((m.predicate == '결혼축하금')))\n",
        "    def pay150(c):\n",
        "        print('Fact: {0}에게 {1}은 150만원을 지급한다{2}'.format(c.m.subject, c.m.predicate, psum))\n",
        "        psum += 150\n",
        "        paySum(150)\n",
        "    \n",
        "    @when_any((m.object == 'pay100') & ((m.predicate == '결혼축하금') | (m.predicate == '회갑/칠순경조금')))\n",
        "    def pay100(c):\n",
        "        print('Fact: {0}에게 {1}은 100만원을 지급한다'.format(c.m.subject, c.m.predicate))\n",
        "        psum += 100\n",
        "        paySum(100)\n",
        "    \n",
        "    @when_any((m.object == 'pay75') & ((m.predicate == '결혼축하금') | (m.predicate == '회갑/칠순경조금')))\n",
        "    def pay75(c):\n",
        "        print('Fact: {0}에게 {1}은 75만원을 지급한다'.format(c.m.subject, c.m.predicate))\n",
        "        psum += 75\n",
        "        \n",
        "    @when_any((m.object == 'pay50') & ((m.predicate == '결혼축하금') | (m.predicate == '회갑/칠순경조금')))\n",
        "    def pay50(c):\n",
        "        print('Fact: {0}에게 {1}은 50만원을 지급한다'.format(c.m.subject, c.m.predicate))\n",
        "        psum += 50\n",
        "    \n",
        "    @when_any((m.object == 'pay30') & ((m.predicate == '결혼축하금') | (m.predicate == '회갑/칠순경조금')))\n",
        "    def pay30(c):\n",
        "        print('Fact: {0}에게 {1}은 30만원을 지급한다'.format(c.m.subject, c.m.predicate))\n",
        "        psum += 30\n",
        "        \n",
        "    @when_any((m.object == 'pay20') & ((m.predicate == '결혼축하금') | (m.predicate == '회갑/칠순경조금') | (m.predicate == '자녀돌')))\n",
        "    def pay20(c):\n",
        "        print('Fact: {0}에게 {1}은 20만원을 지급한다'.format(c.m.subject, c.m.predicate))\n",
        "        psum += 20\n",
        "\n",
        "    @when_any((m.object == 'pay15') & ((m.predicate == '결혼축하금') | (m.predicate == '회갑/칠순경조금') | (m.predicate == '자녀돌')))\n",
        "    def pay15(c):\n",
        "        print('Fact: {0}에게 {1}은 15만원을 지급한다'.format(c.m.subject, c.m.predicate))\n",
        "        psum += 15\n",
        "\n",
        "    @when_any((m.object == 'day10'))\n",
        "    def day6(c):\n",
        "        print('Fact: {0}에게 {1}는 10일 및 꽃바구니 지급합니다'.format(c.m.subject, c.m.predicate))\n",
        "        dsum += 10\n",
        "\n",
        "    @when_any((m.object == 'day6'))\n",
        "    def day6(c):\n",
        "        print('Fact: {0}에게 {1}는 6일 입니다'.format(c.m.subject, c.m.predicate))\n",
        "        dsum += 6\n",
        "    \n",
        "    @when_any((m.object == 'day2'))\n",
        "    def day2(c):\n",
        "        print('Fact: {0}에게 {1}는 2일 입니다'.format(c.m.subject, c.m.predicate))\n",
        "        daySum(2)\n",
        "        \n",
        "    @when_any((m.object == 'day1'))\n",
        "    def day1(c):\n",
        "        print('Fact: {0}에게 {1}는 1일 입니다'.format(c.m.subject, c.m.predicate))\n",
        "        dsum += 1\n",
        "    \n",
        "    @when_any((m.object == 'point'))\n",
        "    def point(c):\n",
        "        print('Fact: {0}에게 {1}에는 자사쇼핑몰에서 각각 10만원(총 30만원) 포인트를 지급한다'.format(c.m.subject, c.m.predicate))   \n",
        "        psum += 30\n",
        "        \n",
        "    @when_any((m.object == 'coupon'))\n",
        "    def coupon(c):\n",
        "        print('Fact: {0}에게 {1}에는 카카오 케익쿠폰(2만원)을 지급한다'.format(c.m.subject, c.m.predicate))      \n",
        "        psum += 2\n",
        "\n",
        "    #@when_all(+m.subject)\n",
        "    #def output(c):        \n",
        "    #    print('assert_fact 등록내용: {0} {1} {2}'.format(c.m.subject, c.m.predicate, c.m.object))"
      ],
      "execution_count": 3,
      "outputs": []
    },
    {
      "cell_type": "code",
      "metadata": {
        "id": "9MAl13QDKLyg",
        "colab": {
          "base_uri": "https://localhost:8080/"
        },
        "outputId": "954ecf8a-9551-4443-a5cd-b1aa803038b8"
      },
      "source": [
        "assert_fact('employee', { 'subject': '김길동', 'predicate': '나는', 'object': '결혼한다' })\n",
        "assert_fact('employee', { 'subject': '김길동', 'predicate': '나는', 'object': '리더급이다' })\n",
        "assert_fact('employee', { 'subject': '김길동', 'predicate': '부모(처포함)', 'object': '회갑/칠순이다' })\n",
        "assert_fact('employee', { 'subject': '김길동', 'predicate': '자녀가', 'object': '돌이다' })\n",
        "assert_fact('employee', { 'subject': '김길동', 'predicate': '자녀를', 'object': '출산한다' })\n",
        "assert_fact('employee', { 'subject': '김길동', 'predicate': '형제자매(배우자포함)', 'object': '결혼한다' })\n",
        "\n",
        "print(\"올해지급 받는 총액은 {0}만원이며, 연차외의 총 경조휴무일은 {1}일 입니다\".format(psum, dsum))"
      ],
      "execution_count": 4,
      "outputs": [
        {
          "output_type": "stream",
          "text": [
            "Fact: 김길동에게 결혼휴일일수는 6일 입니다\n",
            "Fact: 김길동에게 명절/근로자의날에는 자사쇼핑몰에서 각각 10만원(총 30만원) 포인트를 지급한다\n",
            "Fact: 김길동에게 본인생일에는 카카오 케익쿠폰(2만원)을 지급한다\n",
            "Fact: 김길동에게 회갑/칠순경조금은 30만원을 지급한다\n",
            "Fact: 김길동에게 회갑/칠순휴일일수는 1일 입니다\n",
            "Fact: 김길동에게 자녀돌은 20만원을 지급한다\n",
            "Fact: 김길동에게 출산휴가는 10일 및 꽃바구니 지급합니다\n",
            "Fact: 김길동에게 결혼축하금은 30만원을 지급한다\n",
            "Fact: 김길동에게 결혼휴일일수는 1일 입니다\n",
            "올해지급 받는 총액은 0만원이며, 연차외의 총 경조휴무일은 0일 입니다\n"
          ],
          "name": "stdout"
        }
      ]
    },
    {
      "cell_type": "code",
      "metadata": {
        "id": "NCNNKiMOXxho"
      },
      "source": [
        ""
      ],
      "execution_count": 4,
      "outputs": []
    }
  ]
}