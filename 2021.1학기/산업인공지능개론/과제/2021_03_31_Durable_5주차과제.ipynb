{
  "nbformat": 4,
  "nbformat_minor": 0,
  "metadata": {
    "colab": {
      "name": "2021-03-31_Durable_5주차과제.ipynb",
      "provenance": [],
      "authorship_tag": "ABX9TyOhe7vuaalgohiD+REnZSfm",
      "include_colab_link": true
    },
    "kernelspec": {
      "name": "python3",
      "display_name": "Python 3"
    }
  },
  "cells": [
    {
      "cell_type": "markdown",
      "metadata": {
        "id": "view-in-github",
        "colab_type": "text"
      },
      "source": [
        "<a href=\"https://colab.research.google.com/github/ByeongKeun/Industrial-AI/blob/master/2021.1%ED%95%99%EA%B8%B0/%EC%82%B0%EC%97%85%EC%9D%B8%EA%B3%B5%EC%A7%80%EB%8A%A5%EA%B0%9C%EB%A1%A0/%EA%B3%BC%EC%A0%9C/2021_03_31_Durable_5%EC%A3%BC%EC%B0%A8%EA%B3%BC%EC%A0%9C.ipynb\" target=\"_parent\"><img src=\"https://colab.research.google.com/assets/colab-badge.svg\" alt=\"Open In Colab\"/></a>"
      ]
    },
    {
      "cell_type": "code",
      "metadata": {
        "colab": {
          "base_uri": "https://localhost:8080/"
        },
        "id": "RnvqKfXWJXtF",
        "outputId": "86e3b4d8-b4e2-405c-fbf0-c372be6e10dd"
      },
      "source": [
        "!pip install durable_rules\n",
        "from durable.lang import *"
      ],
      "execution_count": 1,
      "outputs": [
        {
          "output_type": "stream",
          "text": [
            "Collecting durable_rules\n",
            "\u001b[?25l  Downloading https://files.pythonhosted.org/packages/91/f2/3194b4eaf7260bae0a4f046dfdda5db2ed9d58b3d7a051e375b3c14d8f26/durable_rules-2.0.28.tar.gz (57kB)\n",
            "\r\u001b[K     |█████▊                          | 10kB 5.6MB/s eta 0:00:01\r\u001b[K     |███████████▍                    | 20kB 8.6MB/s eta 0:00:01\r\u001b[K     |█████████████████               | 30kB 11.4MB/s eta 0:00:01\r\u001b[K     |██████████████████████▊         | 40kB 14.0MB/s eta 0:00:01\r\u001b[K     |████████████████████████████▌   | 51kB 15.8MB/s eta 0:00:01\r\u001b[K     |████████████████████████████████| 61kB 5.3MB/s \n",
            "\u001b[?25hBuilding wheels for collected packages: durable-rules\n",
            "  Building wheel for durable-rules (setup.py) ... \u001b[?25l\u001b[?25hdone\n",
            "  Created wheel for durable-rules: filename=durable_rules-2.0.28-cp37-cp37m-linux_x86_64.whl size=176353 sha256=09170af48b75bbbf4270807175f59c1e2e1328b052a2407528549f6efeacaf98\n",
            "  Stored in directory: /root/.cache/pip/wheels/97/f5/6b/dabbc5d4c2571374b0e0c49d8c80c449220d3061c20b057ba4\n",
            "Successfully built durable-rules\n",
            "Installing collected packages: durable-rules\n",
            "Successfully installed durable-rules-2.0.28\n"
          ],
          "name": "stdout"
        }
      ]
    },
    {
      "cell_type": "code",
      "metadata": {
        "id": "cB03q54bJfqL"
      },
      "source": [
        "with ruleset('employee'):                    \n",
        "    @when_all(c.first << (m.predicate == '나는') & (m.object == '결혼한다'),\n",
        "              (m.predicate == '나는') & (m.object == '리더급이다') & (m.subject == c.first.subject))\n",
        "    def A(c):\n",
        "        c.assert_fact({ 'subject': c.first.subject, 'predicate': '결혼축하금', 'object': 'pay150' })\n",
        "        c.assert_fact({ 'subject': c.first.subject, 'predicate': '결혼휴일일수', 'object': 'day6' })\n",
        "        \n",
        "    @when_all(c.first << (m.predicate == '나는') & (m.object == '결혼한다'),\n",
        "              (m.predicate == '나는') & (m.object == '사원급이다') & (m.subject == c.first.subject))\n",
        "    def B(c):\n",
        "        c.assert_fact({ 'subject': c.first.subject, 'predicate': '결혼축하금', 'object': 'pay100' })\n",
        "        c.assert_fact({ 'subject': c.first.subject, 'predicate': '결혼휴일일수', 'object': 'day6' })\n",
        "    \n",
        "    @when_all(c.first << (m.predicate == '자녀가') & (m.object == '결혼한다'),\n",
        "              (m.predicate == '나는') & (m.object == '리더급이다') & (m.subject == c.first.subject))\n",
        "    def C(c):\n",
        "        c.assert_fact({ 'subject': c.first.subject, 'predicate': '결혼축하금', 'object': 'pay75' })\n",
        "        c.assert_fact({ 'subject': c.first.subject, 'predicate': '결혼휴일일수', 'object': 'day2' })\n",
        "        \n",
        "    @when_all(c.first << (m.predicate == '(처의)형제자매') & (m.object == '결혼한다'),\n",
        "              (m.predicate == '나는') & (m.object == '사원급이다') & (m.subject == c.first.subject))\n",
        "    def D(c):\n",
        "        c.assert_fact({ 'subject': c.first.subject, 'predicate': '결혼축하금', 'object': 'pay50' })\n",
        "        c.assert_fact({ 'subject': c.first.subject, 'predicate': '결혼휴일일수', 'object': 'day2' })           \n",
        "    \n",
        "    @when_all(c.first << (m.predicate == '(처의)형제자매') & (m.object == '결혼한다'),\n",
        "              (m.predicate == '나는') & (m.object == '리더급이다') & (m.subject == c.first.subject))\n",
        "    def C(c):\n",
        "        c.assert_fact({ 'subject': c.first.subject, 'predicate': '결혼축하금', 'object': 'pay30' })\n",
        "        c.assert_fact({ 'subject': c.first.subject, 'predicate': '결혼휴일일수', 'object': 'day1' })\n",
        "        \n",
        "    @when_all(c.first << (m.predicate == '자녀가') & (m.object == '결혼한다'),\n",
        "              (m.predicate == '나는') & (m.object == '사원급이다') & (m.subject == c.first.subject))\n",
        "    def D(c):\n",
        "        c.assert_fact({ 'subject': c.first.subject, 'predicate': '결혼축하금', 'object': 'pay20' })\n",
        "        c.assert_fact({ 'subject': c.first.subject, 'predicate': '결혼휴일일수', 'object': 'day1' })           \n",
        "    \n",
        "    @when_all(c.first << (m.predicate == '부모(처포함)') & (m.object == '회갑/칠순이다'),\n",
        "              (m.predicate == '나는') & (m.object == '리더급이다') & (m.subject == c.first.subject))\n",
        "    def F(c):\n",
        "        c.assert_fact({ 'subject': c.first.subject, 'predicate': '회갑/칠순경조금', 'object': 'pay30' })\n",
        "        c.assert_fact({ 'subject': c.first.subject, 'predicate': '회갑/칠순휴일일수', 'object': 'day1' })\n",
        "    \n",
        "    @when_all(c.first << (m.predicate == '부모(처포함)') & (m.object == '회갑/칠순이다'),\n",
        "              (m.predicate == '나는') & (m.object == '사원급이다') & (m.subject == c.first.subject))\n",
        "    def G(c):\n",
        "        c.assert_fact({ 'subject': c.first.subject, 'predicate': '회갑/칠순경조금', 'object': 'pay20' })\n",
        "        c.assert_fact({ 'subject': c.first.subject, 'predicate': '회갑/칠순휴일일수', 'object': 'day1' })\n",
        "    \n",
        "    @when_all(c.first << (m.predicate == '자녀가') & (m.object == '돌이다'))\n",
        "    def H(c):\n",
        "        c.assert_fact({ 'subject': c.first.subject, 'predicate': '자녀돌', 'object': 'pay20' })\n",
        "    \n",
        "    @when_any(c.first << (m.predicate == '나는') & ((m.object == '리더급이다') | (m.object == '사원급이다')))\n",
        "    def J(c):\n",
        "        c.assert_fact({ 'subject': c.first.subject, 'predicate': '명절/근로자의날', 'object': 'point' })\n",
        "        c.assert_fact({ 'subject': c.first.subject, 'predicate': '본인생일', 'object': 'coupon' })\n",
        "        \n",
        "    @when_any((m.object == 'pay150') & ((m.predicate == '결혼축하금') | (m.predicate == '회갑/칠순경조금')))\n",
        "    def pay150(c):\n",
        "        print('Fact: {0}에게 {1}은 150만원을 지급한다'.format(c.m.subject, c.m.predicate))\n",
        "    \n",
        "    @when_any((m.object == 'pay100') & ((m.predicate == '결혼축하금') | (m.predicate == '회갑/칠순경조금')))\n",
        "    def pay100(c):\n",
        "        print('Fact: {0}에게 {1}은 100만원을 지급한다'.format(c.m.subject, c.m.predicate))\n",
        "    \n",
        "    @when_any((m.object == 'pay75') & ((m.predicate == '결혼축하금') | (m.predicate == '회갑/칠순경조금')))\n",
        "    def pay75(c):\n",
        "        print('Fact: {0}에게 {1}은 75만원을 지급한다'.format(c.m.subject, c.m.predicate))\n",
        "        \n",
        "    @when_any((m.object == 'pay50') & ((m.predicate == '결혼축하금') | (m.predicate == '회갑/칠순경조금')))\n",
        "    def pay50(c):\n",
        "        print('Fact: {0}에게 {1}은 50만원을 지급한다'.format(c.m.subject, c.m.predicate))\n",
        "    \n",
        "    @when_any((m.object == 'pay30') & ((m.predicate == '결혼축하금') | (m.predicate == '회갑/칠순경조금')))\n",
        "    def pay30(c):\n",
        "        print('Fact: {0}에게 {1}은 30만원을 지급한다'.format(c.m.subject, c.m.predicate))\n",
        "        \n",
        "    @when_any((m.object == 'pay20') & ((m.predicate == '결혼축하금') | (m.predicate == '회갑/칠순경조금') | (m.predicate == '자녀돌')))\n",
        "    def pay20(c):\n",
        "        print('Fact: {0}에게 {1}은 20만원을 지급한다'.format(c.m.subject, c.m.predicate))\n",
        "        \n",
        "    @when_any((m.object == 'day6'))\n",
        "    def day6(c):\n",
        "        print('Fact: {0}에게 {1}는 6일 입니다'.format(c.m.subject, c.m.predicate))\n",
        "    \n",
        "    @when_any((m.object == 'day2'))\n",
        "    def day2(c):\n",
        "        print('Fact: {0}에게 {1}는 2일 입니다'.format(c.m.subject, c.m.predicate))\n",
        "        \n",
        "    @when_any((m.object == 'day1'))\n",
        "    def day1(c):\n",
        "        print('Fact: {0}에게 {1}는 1일 입니다'.format(c.m.subject, c.m.predicate))\n",
        "    \n",
        "    @when_any((m.object == 'point'))\n",
        "    def point(c):\n",
        "        print('Fact: {0}에게 {1}에는 자사쇼핑몰에서 10만원 포인트를 지급한다'.format(c.m.subject, c.m.predicate))   \n",
        "        \n",
        "    @when_any((m.object == 'coupon'))\n",
        "    def coupon(c):\n",
        "        print('Fact: {0}에게 {1}에는 자사쇼핑몰에서 10만원 포인트를 지급한다'.format(c.m.subject, c.m.predicate))      \n",
        "\n",
        "    #@when_all(+m.subject)\n",
        "    #def output(c):        \n",
        "    #    print('assert_fact 등록내용: {0} {1} {2}'.format(c.m.subject, c.m.predicate, c.m.object))"
      ],
      "execution_count": 8,
      "outputs": []
    },
    {
      "cell_type": "code",
      "metadata": {
        "id": "9MAl13QDKLyg",
        "colab": {
          "base_uri": "https://localhost:8080/"
        },
        "outputId": "b0e91d8d-38fb-408a-dec0-539a8bbccb52"
      },
      "source": [
        "assert_fact('employee', { 'subject': '김길동', 'predicate': '나는', 'object': '결혼한다' })\n",
        "assert_fact('employee', { 'subject': '김길동', 'predicate': '나는', 'object': '리더급이다' })\n",
        "assert_fact('employee', { 'subject': '김길동', 'predicate': '부모(처포함)', 'object': '회갑/칠순이다' })\n",
        "assert_fact('employee', { 'subject': '김길동', 'predicate': '자녀가', 'object': '돌이다' })"
      ],
      "execution_count": 7,
      "outputs": [
        {
          "output_type": "stream",
          "text": [
            "Fact: 김길동 결혼축하금은 150만원을 지급한다\n",
            "Fact: 김길동 결혼휴일일수는 6일 입니다\n",
            "Fact: 김길동 명절/근로자의날에는 자사쇼핑몰에서 10만원 포인트를 지급한다\n",
            "Fact: 김길동 본인생일에는 자사쇼핑몰에서 10만원 포인트를 지급한다\n",
            "Fact: 김길동 회갑/칠순경조금은 30만원을 지급한다\n",
            "Fact: 김길동 회갑/칠순휴일일수는 1일 입니다\n",
            "Fact: 김길동 자녀돌은 20만원을 지급한다\n"
          ],
          "name": "stdout"
        },
        {
          "output_type": "execute_result",
          "data": {
            "text/plain": [
              "{'$s': 1, 'id': 'sid-0', 'sid': '0'}"
            ]
          },
          "metadata": {
            "tags": []
          },
          "execution_count": 7
        }
      ]
    },
    {
      "cell_type": "code",
      "metadata": {
        "id": "NCNNKiMOXxho"
      },
      "source": [
        ""
      ],
      "execution_count": null,
      "outputs": []
    }
  ]
}