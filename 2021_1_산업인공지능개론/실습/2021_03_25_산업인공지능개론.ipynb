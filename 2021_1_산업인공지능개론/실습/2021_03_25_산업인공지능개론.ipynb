{
  "nbformat": 4,
  "nbformat_minor": 0,
  "metadata": {
    "colab": {
      "name": "산업인공지능개론_2021-03-25.ipynb",
      "provenance": [],
      "collapsed_sections": [],
      "authorship_tag": "ABX9TyM74PX2hq6QUTP8OYtFMY1b",
      "include_colab_link": true
    },
    "kernelspec": {
      "name": "python3",
      "display_name": "Python 3"
    },
    "language_info": {
      "name": "python"
    }
  },
  "cells": [
    {
      "cell_type": "markdown",
      "metadata": {
        "id": "view-in-github",
        "colab_type": "text"
      },
      "source": [
        "<a href=\"https://colab.research.google.com/github/ByeongKeun/Industrial-AI/blob/master/2021.1%ED%95%99%EA%B8%B0/%EC%82%B0%EC%97%85%EC%9D%B8%EA%B3%B5%EC%A7%80%EB%8A%A5%EA%B0%9C%EB%A1%A0/%EC%8B%A4%EC%8A%B5/%EC%82%B0%EC%97%85%EC%9D%B8%EA%B3%B5%EC%A7%80%EB%8A%A5%EA%B0%9C%EB%A1%A0_2021_03_25.ipynb\" target=\"_parent\"><img src=\"https://colab.research.google.com/assets/colab-badge.svg\" alt=\"Open In Colab\"/></a>"
      ]
    },
    {
      "cell_type": "code",
      "metadata": {
        "colab": {
          "base_uri": "https://localhost:8080/"
        },
        "id": "eIFwZRWl1LLa",
        "outputId": "fd73ff31-f661-450f-ec8f-a2d6aaf70a0f"
      },
      "source": [
        "import math\n",
        "\n",
        "def calCircle(r):\n",
        "# 반지름이 r인 원의 넓이와 둘레를 동시에 반환하는 함수 (area, circum)\n",
        "  area = math.pi * r * r\n",
        "  circum = 2 * math.pi * r\n",
        "  return (area, circum)\n",
        "\n",
        "radius = float(input(\"원의 반지름을 입력하시오: \"))\n",
        "tp = calCircle(radius)\n",
        "print(\"원의 넓이는 \"+str(tp[0])+\"이고 원의 둘레는\"+str(tp[1])+\"이다.\")"
      ],
      "execution_count": null,
      "outputs": [
        {
          "output_type": "stream",
          "text": [
            "원의 반지름을 입력하시오: 10\n",
            "원의 넓이는 314.1592653589793이고 원의 둘레는62.83185307179586이다.\n"
          ],
          "name": "stdout"
        }
      ]
    },
    {
      "cell_type": "code",
      "metadata": {
        "colab": {
          "base_uri": "https://localhost:8080/"
        },
        "id": "-A-hlLn1_-FI",
        "outputId": "4d58985c-576a-4afb-f07a-d67e2ea5470d"
      },
      "source": [
        "num = {5,3,2,1}\n",
        "print(num)\n",
        "\n",
        "num.add(4)\n",
        "print(num)"
      ],
      "execution_count": null,
      "outputs": [
        {
          "output_type": "stream",
          "text": [
            "{1, 2, 3, 5}\n",
            "{1, 2, 3, 4, 5}\n"
          ],
          "name": "stdout"
        }
      ]
    },
    {
      "cell_type": "code",
      "metadata": {
        "colab": {
          "base_uri": "https://localhost:8080/"
        },
        "id": "xLwoW6r1AB8G",
        "outputId": "3a8a12e0-fae3-4675-c5f2-63851c91b214"
      },
      "source": [
        "num = set(\"banana\")\n",
        "print(num)"
      ],
      "execution_count": null,
      "outputs": [
        {
          "output_type": "stream",
          "text": [
            "{'a', 'n', 'b'}\n"
          ],
          "name": "stdout"
        }
      ]
    },
    {
      "cell_type": "code",
      "metadata": {
        "colab": {
          "base_uri": "https://localhost:8080/"
        },
        "id": "z6qF1YiTAKCI",
        "outputId": "d1044105-8ea2-47b8-fc92-d1501810c585"
      },
      "source": [
        "print({\"k\", \"a\", \"p\"})"
      ],
      "execution_count": null,
      "outputs": [
        {
          "output_type": "stream",
          "text": [
            "{'a', 'k', 'p'}\n"
          ],
          "name": "stdout"
        }
      ]
    },
    {
      "cell_type": "code",
      "metadata": {
        "colab": {
          "base_uri": "https://localhost:8080/"
        },
        "id": "ro-e7eHSBXjy",
        "outputId": "5da91d6a-1856-4743-e734-6be4f1efc8c3"
      },
      "source": [
        "print(set(\"kap\"))\n",
        "print(set(\"banana\"))"
      ],
      "execution_count": null,
      "outputs": [
        {
          "output_type": "stream",
          "text": [
            "{'a', 'k', 'p'}\n",
            "{'a', 'n', 'b'}\n"
          ],
          "name": "stdout"
        }
      ]
    },
    {
      "cell_type": "markdown",
      "metadata": {
        "id": "UTdxHdhyCX2d"
      },
      "source": [
        ""
      ]
    },
    {
      "cell_type": "code",
      "metadata": {
        "colab": {
          "base_uri": "https://localhost:8080/"
        },
        "id": "KGSgmZ5BBdbi",
        "outputId": "b9cedeea-8337-4651-e16e-9dc86eb0b699"
      },
      "source": [
        "number = {2,1,3}\n",
        "print(number)\n",
        "\n",
        "print(\"number len\", len(number))\n",
        "\n",
        "fruits = {  \"pineapple\", \"banana\",\"apple\"}\n",
        "myset = {1.0, 2.0, \"hello\", (2,1,3)}\n",
        "\n",
        "print(\"fruits\", fruits)\n",
        "print(\"myset\", myset)"
      ],
      "execution_count": null,
      "outputs": [
        {
          "output_type": "stream",
          "text": [
            "{1, 2, 3}\n",
            "number len 3\n",
            "fruits {'apple', 'banana', 'pineapple'}\n",
            "myset {1.0, 2.0, 'hello', (2, 1, 3)}\n"
          ],
          "name": "stdout"
        }
      ]
    },
    {
      "cell_type": "code",
      "metadata": {
        "colab": {
          "base_uri": "https://localhost:8080/"
        },
        "id": "d49yBcp6BpLf",
        "outputId": "53f5cd1d-7bfa-461f-d419-bbd414191e3a"
      },
      "source": [
        "eng_dict  = dict()\n",
        "\n",
        "eng_dict['one'] = \"하나\"\n",
        "eng_dict['two']= \"둘\"\n",
        "eng_dict['three'] =\"셋\"\n",
        "\n",
        "word = input(\"단어를 입력하세요\")\n",
        "print(eng_dict.get(word, \"없음\"))\n",
        "\n",
        "word = input(\"단어를 입력하세요\")\n",
        "print(eng_dict.get(word, \"없음\"))"
      ],
      "execution_count": null,
      "outputs": [
        {
          "output_type": "stream",
          "text": [
            "단어를 입력하세요하나\n",
            "없음\n",
            "단어를 입력하세요one\n",
            "하나\n"
          ],
          "name": "stdout"
        }
      ]
    },
    {
      "cell_type": "code",
      "metadata": {
        "colab": {
          "base_uri": "https://localhost:8080/"
        },
        "id": "74YWFargGl5-",
        "outputId": "3636b3d5-a86b-40bf-c5d5-f85985da1a12"
      },
      "source": [
        "word = 'python'\n",
        "print(word[0:2])\n",
        "print(word[2:5])"
      ],
      "execution_count": null,
      "outputs": [
        {
          "output_type": "stream",
          "text": [
            "py\n",
            "tho\n"
          ],
          "name": "stdout"
        }
      ]
    },
    {
      "cell_type": "code",
      "metadata": {
        "colab": {
          "base_uri": "https://localhost:8080/"
        },
        "id": "K0-wFaFiIk7F",
        "outputId": "d7a868da-7f15-40ed-9cdb-881b36cb1b9d"
      },
      "source": [
        "!pip install durable_rules\n",
        "from durable.lang import *\n",
        "\n",
        "with ruleset('testRS'):\n",
        "  @when_all(m.subject == 'World')\n",
        "  def say_hello(c):\n",
        "    print('Hello {0}'.format(m.subject))\n",
        "\n",
        "post('testRS', {'subject': 'World'})"
      ],
      "execution_count": null,
      "outputs": [
        {
          "output_type": "stream",
          "text": [
            "Collecting durable_rules\n",
            "\u001b[?25l  Downloading https://files.pythonhosted.org/packages/91/f2/3194b4eaf7260bae0a4f046dfdda5db2ed9d58b3d7a051e375b3c14d8f26/durable_rules-2.0.28.tar.gz (57kB)\n",
            "\r\u001b[K     |█████▊                          | 10kB 15.9MB/s eta 0:00:01\r\u001b[K     |███████████▍                    | 20kB 9.6MB/s eta 0:00:01\r\u001b[K     |█████████████████               | 30kB 7.6MB/s eta 0:00:01\r\u001b[K     |██████████████████████▊         | 40kB 6.7MB/s eta 0:00:01\r\u001b[K     |████████████████████████████▌   | 51kB 4.1MB/s eta 0:00:01\r\u001b[K     |████████████████████████████████| 61kB 2.6MB/s \n",
            "\u001b[?25hBuilding wheels for collected packages: durable-rules\n",
            "  Building wheel for durable-rules (setup.py) ... \u001b[?25l\u001b[?25hdone\n",
            "  Created wheel for durable-rules: filename=durable_rules-2.0.28-cp37-cp37m-linux_x86_64.whl size=176351 sha256=98e82ef696ce0c3d862b1eca4c286806a115c90f8593a5aab09727e6e7875110\n",
            "  Stored in directory: /root/.cache/pip/wheels/97/f5/6b/dabbc5d4c2571374b0e0c49d8c80c449220d3061c20b057ba4\n",
            "Successfully built durable-rules\n",
            "Installing collected packages: durable-rules\n",
            "Successfully installed durable-rules-2.0.28\n",
            "Hello <durable.lang.value object at 0x7f2d0ebbf910>\n"
          ],
          "name": "stdout"
        },
        {
          "output_type": "execute_result",
          "data": {
            "text/plain": [
              "{'$s': 1, 'id': 'sid-0', 'sid': '0'}"
            ]
          },
          "metadata": {
            "tags": []
          },
          "execution_count": 25
        }
      ]
    },
    {
      "cell_type": "code",
      "metadata": {
        "id": "AtZqVcsML6H3"
      },
      "source": [
        ""
      ],
      "execution_count": null,
      "outputs": []
    }
  ]
}
