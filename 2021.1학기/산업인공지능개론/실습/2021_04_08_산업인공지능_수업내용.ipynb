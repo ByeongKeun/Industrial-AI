{
  "nbformat": 4,
  "nbformat_minor": 0,
  "metadata": {
    "colab": {
      "name": "2021-04-08_산업인공지능_수업내용.ipynb",
      "provenance": [],
      "collapsed_sections": [],
      "toc_visible": true,
      "authorship_tag": "ABX9TyOtJ7rYB7XieC3695FMzVmq",
      "include_colab_link": true
    },
    "kernelspec": {
      "name": "python3",
      "display_name": "Python 3"
    },
    "language_info": {
      "name": "python"
    }
  },
  "cells": [
    {
      "cell_type": "markdown",
      "metadata": {
        "id": "view-in-github",
        "colab_type": "text"
      },
      "source": [
        "<a href=\"https://colab.research.google.com/github/ByeongKeun/Industrial-AI/blob/master/2021.1%ED%95%99%EA%B8%B0/%EC%82%B0%EC%97%85%EC%9D%B8%EA%B3%B5%EC%A7%80%EB%8A%A5%EA%B0%9C%EB%A1%A0/%EC%8B%A4%EC%8A%B5/2021_04_08_%EC%82%B0%EC%97%85%EC%9D%B8%EA%B3%B5%EC%A7%80%EB%8A%A5_%EC%88%98%EC%97%85%EB%82%B4%EC%9A%A9.ipynb\" target=\"_parent\"><img src=\"https://colab.research.google.com/assets/colab-badge.svg\" alt=\"Open In Colab\"/></a>"
      ]
    },
    {
      "cell_type": "code",
      "metadata": {
        "id": "fZkVSH6Q8XI_"
      },
      "source": [
        "class Counter:  #Class\n",
        "  def __init__(self, initValue=0):  #생성자\n",
        "    self.count = initValue\n",
        "  def reset(self):  #Method\n",
        "    self.count = 0\n",
        "  def increment(self):\n",
        "    self.count += 1\n",
        "  def get(self):\n",
        "    return self.count"
      ],
      "execution_count": 1,
      "outputs": []
    },
    {
      "cell_type": "code",
      "metadata": {
        "colab": {
          "base_uri": "https://localhost:8080/"
        },
        "id": "YGKY4sqwAEmW",
        "outputId": "7426dc0c-e1c0-4d83-a73c-9b93eaa17020"
      },
      "source": [
        "cnt = Counter(10)\n",
        "#cnt.reset()\n",
        "\n",
        "for i in range(1, 10):\n",
        "  cnt.increment()\n",
        "\n",
        "print(cnt.get())"
      ],
      "execution_count": 3,
      "outputs": [
        {
          "output_type": "stream",
          "text": [
            "19\n"
          ],
          "name": "stdout"
        }
      ]
    },
    {
      "cell_type": "code",
      "metadata": {
        "id": "QarN76ioBRoJ"
      },
      "source": [
        "class Television:\n",
        "  def __init__(self, channel, volume, on):\n",
        "    self.channel = channel\n",
        "    self.volume = volume\n",
        "    self.on = on\n",
        "\n",
        "  def show(self):\n",
        "    print(self.channel, self.volume, self.on)\n",
        "\n",
        "  def setChannel(self, channel):\n",
        "    self.channel = channel\n",
        "    \n",
        "  def getChannel(self):\n",
        "    return self.channe"
      ],
      "execution_count": 4,
      "outputs": []
    },
    {
      "cell_type": "code",
      "metadata": {
        "colab": {
          "base_uri": "https://localhost:8080/"
        },
        "id": "5VBiPEhmCwNU",
        "outputId": "27feb792-7c5b-4da9-87a3-93dfa998fe88"
      },
      "source": [
        "t = Television(9, 10, True)\n",
        "t.show()\n",
        "t.setChannel(11)\n",
        "t.show()"
      ],
      "execution_count": 5,
      "outputs": [
        {
          "output_type": "stream",
          "text": [
            "9 10 True\n",
            "11 10 True\n"
          ],
          "name": "stdout"
        }
      ]
    },
    {
      "cell_type": "code",
      "metadata": {
        "colab": {
          "base_uri": "https://localhost:8080/"
        },
        "id": "Pp_1HMGIDHpv",
        "outputId": "bad7194e-6cd9-4c56-f061-4ebc2f027c0e"
      },
      "source": [
        "class Student:\n",
        "  def __init__(self, name=None, age=0):\n",
        "    self.__name = name\n",
        "    self.__age = age\n",
        "\n",
        "  def setAge(self, name):\n",
        "    self.__name = name\n",
        "\n",
        "  def getAge(self):\n",
        "    return self.__name\n",
        "\n",
        "obj = Student()\n",
        "obj.setAge(10)\n",
        "print(obj.getAge())"
      ],
      "execution_count": 9,
      "outputs": [
        {
          "output_type": "stream",
          "text": [
            "10\n"
          ],
          "name": "stdout"
        }
      ]
    },
    {
      "cell_type": "code",
      "metadata": {
        "colab": {
          "base_uri": "https://localhost:8080/"
        },
        "id": "6rCyMcioDboi",
        "outputId": "ed8695e9-b643-49c0-da5f-8976b15e00cb"
      },
      "source": [
        "import math\n",
        "\n",
        "class Circle:\n",
        "  def __init__(self, radius=1.0):\n",
        "    self.__radius = radius\n",
        "\n",
        "  def setRadius(self, r):\n",
        "    self.__radius = r\n",
        "\n",
        "  def getRadius(self):  #반지름\n",
        "    return self.__radius\n",
        "\n",
        "  def calcArea(self): #넓이\n",
        "    area = math.pi * math.sqrt(self.__radius) # πr제곱\n",
        "    return area\n",
        "  \n",
        "  def calcCircum(self): #둘레\n",
        "    circumference = 2.0 * math.pi * self.__radius # 2πr\n",
        "    return circumference\n",
        "\n",
        "c1 = Circle()\n",
        "\n",
        "print(\"원의 반지름={0}\".format(c1.getRadius()))\n",
        "print(\"원의 넓이={0}\".format(c1.calcArea()))\n",
        "print(\"원의 둘레={0}\".format(c1.calcCircum()))"
      ],
      "execution_count": 12,
      "outputs": [
        {
          "output_type": "stream",
          "text": [
            "원의 반지름=1.0\n",
            "원의 넓이=3.141592653589793\n",
            "원의 둘레=6.283185307179586\n"
          ],
          "name": "stdout"
        }
      ]
    },
    {
      "cell_type": "code",
      "metadata": {
        "id": "OJ_BHgXLHTJJ"
      },
      "source": [
        "class Rectangle:\n",
        "  def __init__(self, side=0):\n",
        "    self.side = side\n",
        "\n",
        "  def getArea(self):\n",
        "    return self.side * self.side\n",
        "\n",
        "def printAreas(r, n):\n",
        "   while n >= 1:\n",
        "     print(r.side, \"\\t\", r.getArea())\n",
        "     r.side = r.side + 1\n",
        "     n = n - 1\n",
        "\n"
      ],
      "execution_count": 18,
      "outputs": []
    },
    {
      "cell_type": "code",
      "metadata": {
        "colab": {
          "base_uri": "https://localhost:8080/"
        },
        "id": "McJDdgJYH0Qp",
        "outputId": "d9d9dab5-650d-4597-ab62-986faa650ac8"
      },
      "source": [
        "myRect = Rectangle();\n",
        "count = 5\n",
        "printAreas(myRect, count)\n",
        "print(\"사각형의 변=\", myRect.side)\n",
        "print(\"반복횟수=\", count)"
      ],
      "execution_count": 19,
      "outputs": [
        {
          "output_type": "stream",
          "text": [
            "0 \t 0\n",
            "1 \t 1\n",
            "2 \t 4\n",
            "3 \t 9\n",
            "4 \t 16\n",
            "사각형의 변= 5\n",
            "반복횟수= 5\n"
          ],
          "name": "stdout"
        }
      ]
    }
  ]
}