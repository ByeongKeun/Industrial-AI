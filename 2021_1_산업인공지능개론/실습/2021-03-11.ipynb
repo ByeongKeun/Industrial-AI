{
  "nbformat": 4,
  "nbformat_minor": 0,
  "metadata": {
    "colab": {
      "name": "산업인공지능개론_2021-03-11.ipynb의 사본",
      "provenance": [],
      "authorship_tag": "ABX9TyMAeRRpgC5APWtNjOyvzWgU",
      "include_colab_link": true
    },
    "kernelspec": {
      "name": "python3",
      "display_name": "Python 3"
    }
  },
  "cells": [
    {
      "cell_type": "markdown",
      "metadata": {
        "id": "view-in-github",
        "colab_type": "text"
      },
      "source": [
        "<a href=\"https://colab.research.google.com/github/ByeongKeun/Industrial-AI/blob/master/2021.1%ED%95%99%EA%B8%B0/%EC%82%B0%EC%97%85%EC%9D%B8%EA%B3%B5%EC%A7%80%EB%8A%A5%EA%B0%9C%EB%A1%A0/%EC%8B%A4%EC%8A%B5/2021-03-11.ipynb\" target=\"_parent\"><img src=\"https://colab.research.google.com/assets/colab-badge.svg\" alt=\"Open In Colab\"/></a>"
      ]
    },
    {
      "cell_type": "markdown",
      "metadata": {
        "id": "Au5I6Gp71Xuc"
      },
      "source": [
        "# ***반복문 실습***"
      ]
    },
    {
      "cell_type": "code",
      "metadata": {
        "colab": {
          "base_uri": "https://localhost:8080/"
        },
        "id": "0OPrahHOyosU",
        "outputId": "e3be445e-b1c1-4626-acb9-422d03b0ec65"
      },
      "source": [
        "for x in range(0,5):\r\n",
        "    print(\"환영합니다\")"
      ],
      "execution_count": null,
      "outputs": [
        {
          "output_type": "stream",
          "text": [
            "환영합니다\n",
            "환영합니다\n",
            "환영합니다\n",
            "환영합니다\n",
            "환영합니다\n"
          ],
          "name": "stdout"
        }
      ]
    },
    {
      "cell_type": "code",
      "metadata": {
        "colab": {
          "base_uri": "https://localhost:8080/"
        },
        "id": "ed_MdccNyzt1",
        "outputId": "f88a6075-856b-4a04-d47c-823970914a3c"
      },
      "source": [
        "for name in [\"철수\", \"영희\", \"길동\", \"유신\"]:\r\n",
        "    print(\"안녕! \", name)"
      ],
      "execution_count": null,
      "outputs": [
        {
          "output_type": "stream",
          "text": [
            "안녕!  철수\n",
            "안녕!  영희\n",
            "안녕!  길동\n",
            "안녕!  유신\n"
          ],
          "name": "stdout"
        }
      ]
    },
    {
      "cell_type": "code",
      "metadata": {
        "colab": {
          "base_uri": "https://localhost:8080/"
        },
        "id": "w5hQ8Tm0y0sX",
        "outputId": "ffb0eda4-0e61-437d-d3a1-c2041b74ae0b"
      },
      "source": [
        "#행을 바꾸고 싶지 않을때\r\n",
        "for x in [0,1,2,3,4,5,6,7,8,9]:\r\n",
        "    print(x, end=\" \")"
      ],
      "execution_count": null,
      "outputs": [
        {
          "output_type": "stream",
          "text": [
            "0 1 2 3 4 5 6 7 8 9 "
          ],
          "name": "stdout"
        }
      ]
    },
    {
      "cell_type": "code",
      "metadata": {
        "colab": {
          "base_uri": "https://localhost:8080/"
        },
        "id": "LfL1ofwWy3fP",
        "outputId": "3a750671-d5ed-401e-8cff-8514924e24bf"
      },
      "source": [
        "for x in range(1, 15, 2):\r\n",
        "    print(\"x=\", x, end =\" \")    "
      ],
      "execution_count": null,
      "outputs": [
        {
          "output_type": "stream",
          "text": [
            "x= 1 x= 3 x= 5 x= 7 x= 9 x= 11 x= 13 "
          ],
          "name": "stdout"
        }
      ]
    },
    {
      "cell_type": "code",
      "metadata": {
        "colab": {
          "base_uri": "https://localhost:8080/"
        },
        "id": "ZASecNJSy4qZ",
        "outputId": "cd33bedb-1020-41e4-9450-091bdff2469d"
      },
      "source": [
        "sum=0\r\n",
        "for x in range(1, 100, 2):\r\n",
        "    sum += x\r\n",
        "    \r\n",
        "print(\"sum=\", sum)"
      ],
      "execution_count": null,
      "outputs": [
        {
          "output_type": "stream",
          "text": [
            "sum= 2500\n"
          ],
          "name": "stdout"
        }
      ]
    },
    {
      "cell_type": "code",
      "metadata": {
        "id": "UUZ4PE_ly9t5",
        "colab": {
          "base_uri": "https://localhost:8080/"
        },
        "outputId": "d0b2bcbc-f72e-4da5-d3aa-baba4297b971"
      },
      "source": [
        "sum=0\r\n",
        "\r\n",
        "limit = int(input(\"어디까지 계산할까요:\"))\r\n",
        "for i in range(limit):\r\n",
        "  sum += i\r\n",
        "\r\n",
        "print(\"1부터 \", limit, \"까지 정수의 합=\", sum)"
      ],
      "execution_count": null,
      "outputs": [
        {
          "output_type": "stream",
          "text": [
            "어디까지 계산할까요:55\n",
            "1부터  55 까지 정수의 합= 1485\n"
          ],
          "name": "stdout"
        }
      ]
    },
    {
      "cell_type": "code",
      "metadata": {
        "colab": {
          "base_uri": "https://localhost:8080/"
        },
        "id": "V_KT0QaK1CQX",
        "outputId": "87177068-7ffa-46c1-dd36-9906c07a84cd"
      },
      "source": [
        "cnt = int(input(\"몇번이나 인사할까요\"))\r\n",
        "i=0\r\n",
        "while i < cnt:\r\n",
        "  print(\"환영합니다\")\r\n",
        "  i += 1\r\n",
        "\r\n",
        "print(\"반복문이 종료되었습니다\")"
      ],
      "execution_count": null,
      "outputs": [
        {
          "output_type": "stream",
          "text": [
            "몇번이나 인사할까요5\n",
            "환영합니다\n",
            "환영합니다\n",
            "환영합니다\n",
            "환영합니다\n",
            "환영합니다\n",
            "반복문이 종료되었습니다\n"
          ],
          "name": "stdout"
        }
      ]
    },
    {
      "cell_type": "code",
      "metadata": {
        "colab": {
          "base_uri": "https://localhost:8080/"
        },
        "id": "EGsmU18b2TM6",
        "outputId": "af035783-95c1-4421-f6aa-4379f3ca49ca"
      },
      "source": [
        "i = 0\r\n",
        "while i < 10:\r\n",
        "  print(i, end=\" \")\r\n",
        "  i += 1  \r\n",
        "print()\r\n",
        "print(\"\\n종료\", i)"
      ],
      "execution_count": null,
      "outputs": [
        {
          "output_type": "stream",
          "text": [
            "0 1 2 3 4 5 6 7 8 9 \n",
            "\n",
            "종료 10\n"
          ],
          "name": "stdout"
        }
      ]
    },
    {
      "cell_type": "code",
      "metadata": {
        "colab": {
          "base_uri": "https://localhost:8080/"
        },
        "id": "73kIoBvb4BgY",
        "outputId": "5357af7a-c04e-45f5-8ea6-2986992ab423"
      },
      "source": [
        "i=1\r\n",
        "sum=0\r\n",
        "\r\n",
        "while i <= 10: \r\n",
        "  sum += i\r\n",
        "  i += 1\r\n",
        "  print (\"i=\", i, \" sum=\", sum)\r\n",
        "\r\n",
        "print(\"합계=\", sum)"
      ],
      "execution_count": null,
      "outputs": [
        {
          "output_type": "stream",
          "text": [
            "i= 2  sum= 1\n",
            "i= 3  sum= 3\n",
            "i= 4  sum= 6\n",
            "i= 5  sum= 10\n",
            "i= 6  sum= 15\n",
            "i= 7  sum= 21\n",
            "i= 8  sum= 28\n",
            "i= 9  sum= 36\n",
            "i= 10  sum= 45\n",
            "i= 11  sum= 55\n",
            "합계= 55\n"
          ],
          "name": "stdout"
        }
      ]
    },
    {
      "cell_type": "code",
      "metadata": {
        "colab": {
          "base_uri": "https://localhost:8080/"
        },
        "id": "1wK5X9Xj4-Kf",
        "outputId": "aa9f2d7f-b258-41e8-d306-76e95f830d9d"
      },
      "source": [
        "i=1\r\n",
        "factorial = 1\r\n",
        "\r\n",
        "while(i <= 10):\r\n",
        "  factorial = factorial * i\r\n",
        "  i += 1\r\n",
        "\r\n",
        "print(\"10!은 %d(i=%d)입니다.\"%(factorial, i))"
      ],
      "execution_count": null,
      "outputs": [
        {
          "output_type": "stream",
          "text": [
            "10!은 3628800(i=11)입니다.\n"
          ],
          "name": "stdout"
        }
      ]
    },
    {
      "cell_type": "code",
      "metadata": {
        "id": "3yrgNvN162Bn",
        "colab": {
          "base_uri": "https://localhost:8080/"
        },
        "outputId": "6e3b8811-c5da-445f-95d1-4d46e3ff1a7d"
      },
      "source": [
        "i=1\r\n",
        "while i <= 9:\r\n",
        "  print(\"3 * %d = %d \"%(i, 3*i))\r\n",
        "  i+=1"
      ],
      "execution_count": null,
      "outputs": [
        {
          "output_type": "stream",
          "text": [
            "3 * 1 = 3 \n",
            "3 * 2 = 6 \n",
            "3 * 3 = 9 \n",
            "3 * 4 = 12 \n",
            "3 * 5 = 15 \n",
            "3 * 6 = 18 \n",
            "3 * 7 = 21 \n",
            "3 * 8 = 24 \n",
            "3 * 9 = 27 \n"
          ],
          "name": "stdout"
        }
      ]
    },
    {
      "cell_type": "code",
      "metadata": {
        "id": "b19rP4q37gIp",
        "colab": {
          "base_uri": "https://localhost:8080/"
        },
        "outputId": "9e0468ea-176c-46c3-ba2d-ba2f04d34ca9"
      },
      "source": [
        "sum = 0\r\n",
        "number = 1\r\n",
        "\r\n",
        "while number <= 100:\r\n",
        "  if number %3 == 0:\r\n",
        "    sum += number\r\n",
        "  number += 1\r\n",
        "\r\n",
        "print(\"1부터 100까지의 모든 3의 배수의 합은 %d입니다\"%sum)"
      ],
      "execution_count": null,
      "outputs": [
        {
          "output_type": "stream",
          "text": [
            "1부터 100까지의 모든 3의 배수의 합은 1683입니다\n"
          ],
          "name": "stdout"
        }
      ]
    },
    {
      "cell_type": "markdown",
      "metadata": {
        "id": "cia1rtZ-8I6m"
      },
      "source": [
        "# ***함수(function)***"
      ]
    },
    {
      "cell_type": "code",
      "metadata": {
        "id": "atH9yaBj8GCX",
        "colab": {
          "base_uri": "https://localhost:8080/"
        },
        "outputId": "ab9db0a4-724f-449d-87d7-9ac6eb38c0b3"
      },
      "source": [
        "def get_sum(start, end):\r\n",
        "  sum=0\r\n",
        "  for i in range(start, end+1):\r\n",
        "    sum += i\r\n",
        "  \r\n",
        "  print(\"%d부터 %d까지의 합=%d\"%(start,end,sum))\r\n",
        "  return sum\r\n",
        "\r\n",
        "get_sum(1, 10)"
      ],
      "execution_count": null,
      "outputs": [
        {
          "output_type": "stream",
          "text": [
            "1부터 10까지의 합=55\n"
          ],
          "name": "stdout"
        },
        {
          "output_type": "execute_result",
          "data": {
            "text/plain": [
              "55"
            ]
          },
          "metadata": {
            "tags": []
          },
          "execution_count": 10
        }
      ]
    },
    {
      "cell_type": "code",
      "metadata": {
        "colab": {
          "base_uri": "https://localhost:8080/"
        },
        "id": "H4YO38hy9I1_",
        "outputId": "0596bbec-3dae-435e-f123-446affc9ff58"
      },
      "source": [
        "# 화씨 → 섭씨 변환\r\n",
        "def FtoC(temp_f):\r\n",
        "  temp_c = (5.0 * (temp_f - 32.0)) / 9.0\r\n",
        "\r\n",
        "  print(\"화씨 %d℉ 는 섭씨 %d℃ 입니다\"%(temp_f, temp_c))\r\n",
        "  return\r\n",
        "\r\n",
        "def CtoF(temp_c):\r\n",
        "  temp_f = ((temp_c*9.0)/5.0) + 32.0 \r\n",
        "\r\n",
        "  print(\"섭씨 %d℃는 화씨 %d℉ 입니다\"%(temp_c, temp_f))\r\n",
        "  return\r\n",
        "\r\n",
        "temp_f = float(input(\"섭씨 온도를 입력하세요:\"))\r\n",
        "FtoC(temp_f)\r\n",
        "\r\n",
        "temp_c = float(input(\"\\n화씨 온도를 입력하세요:\"))\r\n",
        "CtoF(temp_c)"
      ],
      "execution_count": null,
      "outputs": [
        {
          "output_type": "stream",
          "text": [
            "섭씨 온도를 입력하세요:100\n",
            "화씨 100℉ 는 섭씨 37℃ 입니다\n",
            "\n",
            "화씨 온도를 입력하세요:37\n",
            "섭씨 37℃는 화씨 98℉ 입니다\n"
          ],
          "name": "stdout"
        }
      ]
    }
  ]
}