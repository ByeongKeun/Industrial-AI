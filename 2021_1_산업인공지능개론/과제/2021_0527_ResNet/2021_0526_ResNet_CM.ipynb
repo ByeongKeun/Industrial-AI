{
  "nbformat": 4,
  "nbformat_minor": 0,
  "metadata": {
    "colab": {
      "name": "2021_0527_PyTorch_ResNet_CM.ipynb",
      "provenance": [],
      "collapsed_sections": [],
      "authorship_tag": "ABX9TyMieK0EjCBZpNKMKM4ZjLph",
      "include_colab_link": true
    },
    "kernelspec": {
      "name": "python3",
      "display_name": "Python 3"
    },
    "language_info": {
      "name": "python"
    }
  },
  "cells": [
    {
      "cell_type": "markdown",
      "metadata": {
        "id": "view-in-github",
        "colab_type": "text"
      },
      "source": [
        "<a href=\"https://colab.research.google.com/github/ByeongKeun/Industrial-AI/blob/master/2021_1_%EC%82%B0%EC%97%85%EC%9D%B8%EA%B3%B5%EC%A7%80%EB%8A%A5%EA%B0%9C%EB%A1%A0/%EA%B3%BC%EC%A0%9C/2021_0527_ResNet/2021_0527_PyTorch_ResNet_CM.ipynb\" target=\"_parent\"><img src=\"https://colab.research.google.com/assets/colab-badge.svg\" alt=\"Open In Colab\"/></a>"
      ]
    },
    {
      "cell_type": "code",
      "metadata": {
        "colab": {
          "base_uri": "https://localhost:8080/"
        },
        "id": "puQ8hWJ1k-ou",
        "outputId": "c1734f0b-1acc-409f-caa9-ea7dee02e496"
      },
      "source": [
        "from __future__ import print_function, division\n",
        "\n",
        "import torch\n",
        "import torch.nn as nn\n",
        "import torch.optim as optim\n",
        "from torch.optim import lr_scheduler\n",
        "import numpy as np\n",
        "import torchvision\n",
        "from torchvision import datasets, models, transforms\n",
        "import matplotlib.pyplot as plt\n",
        "import time\n",
        "import os\n",
        "import copy\n",
        "\n",
        "plt.ion() # interactive mode\n",
        "\n",
        "from google.colab import drive\n",
        "drive.mount('/content/drive')"
      ],
      "execution_count": 1,
      "outputs": [
        {
          "output_type": "stream",
          "text": [
            "Mounted at /content/drive\n"
          ],
          "name": "stdout"
        }
      ]
    },
    {
      "cell_type": "code",
      "metadata": {
        "id": "yFcngypwlyhW"
      },
      "source": [
        "data_transforms = {\n",
        "    'train': transforms.Compose([\n",
        "                                 transforms.RandomResizedCrop(224),\n",
        "                                 transforms.RandomHorizontalFlip( ),\n",
        "                                 transforms.ToTensor(),\n",
        "                                 transforms.Normalize([0.485, 0.456, 0.406], [0.229, 0.224, 0.225])\n",
        "    ]),\n",
        "    'test': transforms.Compose([\n",
        "                                 transforms.Resize(256),\n",
        "                                 transforms.CenterCrop(224),\n",
        "                                 transforms.ToTensor(),\n",
        "                                 transforms.Normalize([0.485, 0.456, 0.406], [0.229, 0.224, 0.225])\n",
        "    ]),\n",
        "}\n",
        "\n",
        "data_dir = '/content/drive/My Drive/camera_module_picture'"
      ],
      "execution_count": 2,
      "outputs": []
    },
    {
      "cell_type": "code",
      "metadata": {
        "colab": {
          "base_uri": "https://localhost:8080/"
        },
        "id": "zhUlaIzbpWVs",
        "outputId": "9cd02b2a-9c2e-4fdf-e598-6593a03ea6b7"
      },
      "source": [
        "image_datasets = {x: datasets.ImageFolder(os.path.join(data_dir, x), data_transforms[x]) for x in ['train', 'test']}\n",
        "dataloaders = {x: torch.utils.data.DataLoader(image_datasets[x], batch_size=4, shuffle=True, num_workers=4) for x in ['train', 'test']}\n",
        "dataset_size = {x: len(image_datasets[x]) for x in ['train', 'test']}\n",
        "class_names = image_datasets['train'].classes\n",
        "device = torch.device(\"cuda:0\" if torch.cuda.is_available() else \"cpu\")"
      ],
      "execution_count": 3,
      "outputs": [
        {
          "output_type": "stream",
          "text": [
            "/usr/local/lib/python3.7/dist-packages/torch/utils/data/dataloader.py:477: UserWarning: This DataLoader will create 4 worker processes in total. Our suggested max number of worker in current system is 2, which is smaller than what this DataLoader is going to create. Please be aware that excessive worker creation might get DataLoader running slow or even freeze, lower the worker number to avoid potential slowness/freeze if necessary.\n",
            "  cpuset_checked))\n"
          ],
          "name": "stderr"
        }
      ]
    },
    {
      "cell_type": "code",
      "metadata": {
        "colab": {
          "base_uri": "https://localhost:8080/",
          "height": 203
        },
        "id": "dFOQTTygpgbE",
        "outputId": "332b3946-18b8-4e39-931f-8475e789731a"
      },
      "source": [
        "def imshow(inp, title=None):\n",
        "  inp = inp.numpy().transpose((1,2,0))\n",
        "  mean = np.array([0.485, 0.456, 0.406])\n",
        "  std = np.array([0.229, 0.224, 0.225])\n",
        "  inp = std * inp + mean\n",
        "  inp = np.clip(inp, 0, 1)\n",
        "  plt.imshow(inp)\n",
        "  if title is not None:\n",
        "    plt.title(title)\n",
        "  plt.pause(0.001)\n",
        "\n",
        "inputs, classes = next(iter(dataloaders['train']))\n",
        "out = torchvision.utils.make_grid(inputs)\n",
        "\n",
        "imshow(out, title = [class_names[x] for x in classes])"
      ],
      "execution_count": 4,
      "outputs": [
        {
          "output_type": "stream",
          "text": [
            "/usr/local/lib/python3.7/dist-packages/torch/utils/data/dataloader.py:477: UserWarning: This DataLoader will create 4 worker processes in total. Our suggested max number of worker in current system is 2, which is smaller than what this DataLoader is going to create. Please be aware that excessive worker creation might get DataLoader running slow or even freeze, lower the worker number to avoid potential slowness/freeze if necessary.\n",
            "  cpuset_checked))\n"
          ],
          "name": "stderr"
        },
        {
          "output_type": "display_data",
          "data": {
            "image/png": "[encoded data removed]",
            "text/plain": [
              "<Figure size 432x288 with 1 Axes>"
            ]
          },
          "metadata": {
            "tags": [],
            "needs_background": "light"
          }
        }
      ]
    },
    {
      "cell_type": "code",
      "metadata": {
        "id": "6J2anEHwq743"
      },
      "source": [
        "def train_model(model, criterion, optimizer, scheduler, num_epochs=25):\n",
        "  since = time.time()\n",
        "  best_model_wts = copy.deepcopy(model.state_dict( ))\n",
        "  best_acc = 0.0\n",
        "\n",
        "  for epoch in range(num_epochs):\n",
        "    print('Epoch {}/{}'.format(epoch, num_epochs - 1))\n",
        "    print('-'*10)\n",
        "    for phase in ['train', 'test']:\n",
        "      if phase == 'train':\n",
        "        scheduler.step()\n",
        "        model.train( )\n",
        "      else:\n",
        "        model.eval( )\n",
        "\n",
        "      running_loss = 0.0\n",
        "      running_correts = 0\n",
        "\n",
        "      for inputs, labels in dataloaders[phase]:\n",
        "        inputs = inputs.to(device)\n",
        "        labels = labels.to(device)\n",
        "        optimizer.zero_grad( )\n",
        "        with torch.set_grad_enabled(phase == 'train'):\n",
        "          outputs = model(inputs)\n",
        "          _, preds = torch.max(outputs, 1)\n",
        "          loss = criterion(outputs, labels)\n",
        "          if phase == 'train':\n",
        "            loss.backward()\n",
        "            optimizer.step()\n",
        "        running_loss += loss.item() * inputs.size(0)\n",
        "        running_correts += torch.sum(preds == labels.data)\n",
        "      epoch_loss = running_loss / dataset_size[phase]\n",
        "      epoch_acc = running_correts.double() / dataset_size[phase]\n",
        "      print('{} Loss: {:.4f} Acc: {:.4f}'.format(phase, epoch_loss, epoch_acc))\n",
        "      if phase == 'test' and epoch_acc > best_acc:\n",
        "        best_acc = epoch_acc\n",
        "        best_model_wts = copy.deepcopy(model.state_dict())\n",
        "    print()\n",
        "    \n",
        "  time_elapsed = time.time() - since\n",
        "  print('학습 완료 걸린시간: {:.0f}분 {:.0f}초'.format(time_elapsed // 60, time_elapsed % 60))\n",
        "  print('Best test Acc: {:.4f}'.format(best_acc))\n",
        "  model.load_state_dict(best_model_wts)\n",
        "\n",
        "  return model"
      ],
      "execution_count": 16,
      "outputs": []
    },
    {
      "cell_type": "code",
      "metadata": {
        "id": "VawKYHiwuk1N"
      },
      "source": [
        "def visualize_model(model, num_images=6):\n",
        "  was_training = model.training\n",
        "  model.eval()\n",
        "  images_so_far = 0\n",
        "  fig = plt.figure()\n",
        "\n",
        "  with torch.no_grad():\n",
        "    for i, (inputs, labels) in enumerate(dataloaders['test']):\n",
        "      inputs = inputs.to(device)\n",
        "      labels = labels.to(device)\n",
        "\n",
        "      outputs = model(inputs)\n",
        "      _, preds = torch.max(outputs, 1)\n",
        "\n",
        "      for j in range(inputs.size()[0]):\n",
        "        images_so_far += 1\n",
        "        ax = plt.subplot(num_images // 2, 2, images_so_far)\n",
        "        ax.axis('off')\n",
        "        ax.set_title('predicted: {}'.format(class_names[preds[j]]))\n",
        "        imshow(inputs.cpu().data[j])\n",
        "\n",
        "        if images_so_far ==num_images:\n",
        "          model.train(mode = was_training)\n",
        "          return\n",
        "      model.train(mode=was_training)"
      ],
      "execution_count": 17,
      "outputs": []
    },
    {
      "cell_type": "code",
      "metadata": {
        "colab": {
          "base_uri": "https://localhost:8080/"
        },
        "id": "DH4oY2Dtv3do",
        "outputId": "5c75189b-81d8-4081-d642-fdd2cd12da40"
      },
      "source": [
        "model_ft = models.resnet18(pretrained=True) #사전 학습된 ResNet18 가져오기\n",
        "num_ftrs = model_ft.fc.in_features #모델에서 feature extraction 후, FC층에 입력되는 특징 수\n",
        "model_ft.fc = nn.Linear(num_ftrs, 2)\n",
        "\n",
        "model_ft = model_ft.to(device) #cpu나 GPU에 model_ft를 할당\n",
        "criterion = nn.CrossEntropyLoss()\n",
        "\n",
        "#모든 파라미터를 학습\n",
        "optimizer_ft = optim.SGD(model_ft.parameters(), lr=0.001, momentum=0.9)\n",
        "\n",
        "#매 7 에포크 마다 학습률 0.1배 감소\n",
        "exp_lr_scheduler = lr_scheduler.StepLR(optimizer_ft, step_size=7, gamma=0.1)\n",
        "model_ft = train_model(model_ft, criterion, optimizer_ft, exp_lr_scheduler, num_epochs=25)"
      ],
      "execution_count": 18,
      "outputs": [
        {
          "output_type": "stream",
          "text": [
            "Epoch 0/24\n",
            "----------\n"
          ],
          "name": "stdout"
        },
        {
          "output_type": "stream",
          "text": [
            "/usr/local/lib/python3.7/dist-packages/torch/optim/lr_scheduler.py:134: UserWarning: Detected call of `lr_scheduler.step()` before `optimizer.step()`. In PyTorch 1.1.0 and later, you should call them in the opposite order: `optimizer.step()` before `lr_scheduler.step()`.  Failure to do this will result in PyTorch skipping the first value of the learning rate schedule. See more details at https://pytorch.org/docs/stable/optim.html#how-to-adjust-learning-rate\n",
            "  \"https://pytorch.org/docs/stable/optim.html#how-to-adjust-learning-rate\", UserWarning)\n",
            "/usr/local/lib/python3.7/dist-packages/torch/utils/data/dataloader.py:477: UserWarning: This DataLoader will create 4 worker processes in total. Our suggested max number of worker in current system is 2, which is smaller than what this DataLoader is going to create. Please be aware that excessive worker creation might get DataLoader running slow or even freeze, lower the worker number to avoid potential slowness/freeze if necessary.\n",
            "  cpuset_checked))\n"
          ],
          "name": "stderr"
        },
        {
          "output_type": "stream",
          "text": [
            "train Loss: 0.3786 Acc: 0.8889\n",
            "test Loss: 0.7281 Acc: 0.8333\n",
            "\n",
            "Epoch 1/24\n",
            "----------\n",
            "train Loss: 0.4205 Acc: 0.8833\n",
            "test Loss: 0.4903 Acc: 0.7708\n",
            "\n",
            "Epoch 2/24\n",
            "----------\n",
            "train Loss: 0.4266 Acc: 0.8833\n",
            "test Loss: 0.5855 Acc: 0.8333\n",
            "\n",
            "Epoch 3/24\n",
            "----------\n",
            "train Loss: 0.3924 Acc: 0.8722\n",
            "test Loss: 0.5097 Acc: 0.8333\n",
            "\n",
            "Epoch 4/24\n",
            "----------\n",
            "train Loss: 0.3987 Acc: 0.8889\n",
            "test Loss: 0.6025 Acc: 0.8750\n",
            "\n",
            "Epoch 5/24\n",
            "----------\n",
            "train Loss: 0.4386 Acc: 0.8500\n",
            "test Loss: 1.2263 Acc: 0.8333\n",
            "\n",
            "Epoch 6/24\n",
            "----------\n",
            "train Loss: 0.5250 Acc: 0.8889\n",
            "test Loss: 0.6160 Acc: 0.8333\n",
            "\n",
            "Epoch 7/24\n",
            "----------\n",
            "train Loss: 0.3589 Acc: 0.8889\n",
            "test Loss: 0.4392 Acc: 0.8333\n",
            "\n",
            "Epoch 8/24\n",
            "----------\n",
            "train Loss: 0.3667 Acc: 0.8889\n",
            "test Loss: 0.4815 Acc: 0.8333\n",
            "\n",
            "Epoch 9/24\n",
            "----------\n",
            "train Loss: 0.3560 Acc: 0.8889\n",
            "test Loss: 0.4747 Acc: 0.8333\n",
            "\n",
            "Epoch 10/24\n",
            "----------\n",
            "train Loss: 0.3646 Acc: 0.8889\n",
            "test Loss: 0.4793 Acc: 0.8333\n",
            "\n",
            "Epoch 11/24\n",
            "----------\n",
            "train Loss: 0.3377 Acc: 0.8889\n",
            "test Loss: 0.4823 Acc: 0.8333\n",
            "\n",
            "Epoch 12/24\n",
            "----------\n",
            "train Loss: 0.3517 Acc: 0.8889\n",
            "test Loss: 0.4676 Acc: 0.8333\n",
            "\n",
            "Epoch 13/24\n",
            "----------\n",
            "train Loss: 0.3226 Acc: 0.8889\n",
            "test Loss: 0.4593 Acc: 0.8333\n",
            "\n",
            "Epoch 14/24\n",
            "----------\n",
            "train Loss: 0.3408 Acc: 0.8889\n",
            "test Loss: 0.4617 Acc: 0.8333\n",
            "\n",
            "Epoch 15/24\n",
            "----------\n",
            "train Loss: 0.3337 Acc: 0.8889\n",
            "test Loss: 0.4787 Acc: 0.8333\n",
            "\n",
            "Epoch 16/24\n",
            "----------\n",
            "train Loss: 0.3146 Acc: 0.8889\n",
            "test Loss: 0.5031 Acc: 0.8333\n",
            "\n",
            "Epoch 17/24\n",
            "----------\n",
            "train Loss: 0.3451 Acc: 0.8889\n",
            "test Loss: 0.4877 Acc: 0.8333\n",
            "\n",
            "Epoch 18/24\n",
            "----------\n",
            "train Loss: 0.3628 Acc: 0.8889\n",
            "test Loss: 0.4712 Acc: 0.8333\n",
            "\n",
            "Epoch 19/24\n",
            "----------\n",
            "train Loss: 0.3416 Acc: 0.8889\n",
            "test Loss: 0.4848 Acc: 0.8333\n",
            "\n",
            "Epoch 20/24\n",
            "----------\n",
            "train Loss: 0.3330 Acc: 0.8889\n",
            "test Loss: 0.4790 Acc: 0.8333\n",
            "\n",
            "Epoch 21/24\n",
            "----------\n",
            "train Loss: 0.3496 Acc: 0.8889\n",
            "test Loss: 0.4865 Acc: 0.8333\n",
            "\n",
            "Epoch 22/24\n",
            "----------\n",
            "train Loss: 0.3325 Acc: 0.8889\n",
            "test Loss: 0.4786 Acc: 0.8333\n",
            "\n",
            "Epoch 23/24\n",
            "----------\n",
            "train Loss: 0.3331 Acc: 0.8889\n",
            "test Loss: 0.4714 Acc: 0.8333\n",
            "\n",
            "Epoch 24/24\n",
            "----------\n",
            "train Loss: 0.3309 Acc: 0.8889\n",
            "test Loss: 0.4721 Acc: 0.8333\n",
            "\n",
            "학습 완료 걸린시간: 23분 25초\n",
            "Best test Acc: 0.8750\n"
          ],
          "name": "stdout"
        }
      ]
    },
    {
      "cell_type": "code",
      "metadata": {
        "id": "AwvdmHkYw-fV",
        "colab": {
          "base_uri": "https://localhost:8080/",
          "height": 636
        },
        "outputId": "2ec1e7c2-6139-441f-89b3-31d41a103cd2"
      },
      "source": [
        "visualize_model(model_ft)"
      ],
      "execution_count": 19,
      "outputs": [
        {
          "output_type": "stream",
          "text": [
            "/usr/local/lib/python3.7/dist-packages/torch/utils/data/dataloader.py:477: UserWarning: This DataLoader will create 4 worker processes in total. Our suggested max number of worker in current system is 2, which is smaller than what this DataLoader is going to create. Please be aware that excessive worker creation might get DataLoader running slow or even freeze, lower the worker number to avoid potential slowness/freeze if necessary.\n",
            "  cpuset_checked))\n"
          ],
          "name": "stderr"
        },
        {
          "output_type": "display_data",
          "data": {
            "image/png": "[encoded data removed]",
            "text/plain": [
              "<Figure size 432x288 with 1 Axes>"
            ]
          },
          "metadata": {
            "tags": [],
            "needs_background": "light"
          }
        },
        {
          "output_type": "display_data",
          "data": {
            "image/png": "[encoded data removed]",
            "text/plain": [
              "<Figure size 432x288 with 1 Axes>"
            ]
          },
          "metadata": {
            "tags": [],
            "needs_background": "light"
          }
        },
        {
          "output_type": "display_data",
          "data": {
            "image/png": "[encoded data removed]",
            "text/plain": [
              "<Figure size 432x288 with 1 Axes>"
            ]
          },
          "metadata": {
            "tags": [],
            "needs_background": "light"
          }
        },
        {
          "output_type": "display_data",
          "data": {
            "image/png": "[encoded data removed]",
            "text/plain": [
              "<Figure size 432x288 with 1 Axes>"
            ]
          },
          "metadata": {
            "tags": [],
            "needs_background": "light"
          }
        },
        {
          "output_type": "display_data",
          "data": {
            "image/png": "[encoded data removed]",
            "text/plain": [
              "<Figure size 432x288 with 1 Axes>"
            ]
          },
          "metadata": {
            "tags": [],
            "needs_background": "light"
          }
        },
        {
          "output_type": "display_data",
          "data": {
            "image/png": "[encoded data removed]",
            "text/plain": [
              "<Figure size 432x288 with 1 Axes>"
            ]
          },
          "metadata": {
            "tags": [],
            "needs_background": "light"
          }
        }
      ]
    },
    {
      "cell_type": "code",
      "metadata": {
        "id": "RWWLjdWCxFwz",
        "colab": {
          "base_uri": "https://localhost:8080/"
        },
        "outputId": "8679f7ff-c12f-4585-bbd4-299ef4d5f4d5"
      },
      "source": [
        "model_conv = torchvision.models.resnet18(pretrained=True)\n",
        "for param in model_conv.parameters():\n",
        "  param.requires_grad = False #사전 학습된 모델의 가중치를 상수로  고정. 학습시키지 않음\n",
        "\n",
        "#새로 생성된 모듈의 파라미터는 기본적으로 requires_grad = True\n",
        "num_ftrs = model_conv.fc.in_features\n",
        "model_conv.fc = nn.Linear(num_ftrs, 2)\n",
        "\n",
        "model_conv = model_conv.to(device)\n",
        "criterion = nn.CrossEntropyLoss()\n",
        "\n",
        "#마지막 층의 파라미터만 학습\n",
        "optimizer_conv = optim.SGD(model_conv.fc.parameters(), lr=0.001, momentum=0.9)\n",
        "\n",
        "exp_lr_scheduler = lr_scheduler.StepLR(optimizer_ft, step_size=7, gamma=0.1)\n",
        "model_conv = train_model(model_conv, criterion, optimizer_conv, exp_lr_scheduler, num_epochs=25)"
      ],
      "execution_count": 20,
      "outputs": [
        {
          "output_type": "stream",
          "text": [
            "Epoch 0/24\n",
            "----------\n"
          ],
          "name": "stdout"
        },
        {
          "output_type": "stream",
          "text": [
            "/usr/local/lib/python3.7/dist-packages/torch/optim/lr_scheduler.py:134: UserWarning: Detected call of `lr_scheduler.step()` before `optimizer.step()`. In PyTorch 1.1.0 and later, you should call them in the opposite order: `optimizer.step()` before `lr_scheduler.step()`.  Failure to do this will result in PyTorch skipping the first value of the learning rate schedule. See more details at https://pytorch.org/docs/stable/optim.html#how-to-adjust-learning-rate\n",
            "  \"https://pytorch.org/docs/stable/optim.html#how-to-adjust-learning-rate\", UserWarning)\n",
            "/usr/local/lib/python3.7/dist-packages/torch/utils/data/dataloader.py:477: UserWarning: This DataLoader will create 4 worker processes in total. Our suggested max number of worker in current system is 2, which is smaller than what this DataLoader is going to create. Please be aware that excessive worker creation might get DataLoader running slow or even freeze, lower the worker number to avoid potential slowness/freeze if necessary.\n",
            "  cpuset_checked))\n"
          ],
          "name": "stderr"
        },
        {
          "output_type": "stream",
          "text": [
            "train Loss: 0.5238 Acc: 0.8278\n",
            "test Loss: 0.5578 Acc: 0.8333\n",
            "\n",
            "Epoch 1/24\n",
            "----------\n",
            "train Loss: 0.3987 Acc: 0.8778\n",
            "test Loss: 0.6253 Acc: 0.8333\n",
            "\n",
            "Epoch 2/24\n",
            "----------\n",
            "train Loss: 0.4077 Acc: 0.8722\n",
            "test Loss: 0.4033 Acc: 0.8333\n",
            "\n",
            "Epoch 3/24\n",
            "----------\n",
            "train Loss: 0.3759 Acc: 0.8889\n",
            "test Loss: 0.3859 Acc: 0.8333\n",
            "\n",
            "Epoch 4/24\n",
            "----------\n",
            "train Loss: 0.3828 Acc: 0.8889\n",
            "test Loss: 0.4065 Acc: 0.8333\n",
            "\n",
            "Epoch 5/24\n",
            "----------\n",
            "train Loss: 0.4350 Acc: 0.8722\n",
            "test Loss: 0.7249 Acc: 0.8333\n",
            "\n",
            "Epoch 6/24\n",
            "----------\n",
            "train Loss: 0.3797 Acc: 0.8889\n",
            "test Loss: 0.3940 Acc: 0.8333\n",
            "\n",
            "Epoch 7/24\n",
            "----------\n",
            "train Loss: 0.3948 Acc: 0.8778\n",
            "test Loss: 0.4597 Acc: 0.8333\n",
            "\n",
            "Epoch 8/24\n",
            "----------\n",
            "train Loss: 0.3328 Acc: 0.8889\n",
            "test Loss: 0.4140 Acc: 0.8750\n",
            "\n",
            "Epoch 9/24\n",
            "----------\n",
            "train Loss: 0.3370 Acc: 0.8889\n",
            "test Loss: 0.7013 Acc: 0.8333\n",
            "\n",
            "Epoch 10/24\n",
            "----------\n",
            "train Loss: 0.4218 Acc: 0.8667\n",
            "test Loss: 0.3371 Acc: 0.8750\n",
            "\n",
            "Epoch 11/24\n",
            "----------\n",
            "train Loss: 0.3747 Acc: 0.8889\n",
            "test Loss: 0.6177 Acc: 0.8333\n",
            "\n",
            "Epoch 12/24\n",
            "----------\n",
            "train Loss: 0.3723 Acc: 0.8778\n",
            "test Loss: 0.7416 Acc: 0.8333\n",
            "\n",
            "Epoch 13/24\n",
            "----------\n",
            "train Loss: 0.4069 Acc: 0.8889\n",
            "test Loss: 0.3596 Acc: 0.8333\n",
            "\n",
            "Epoch 14/24\n",
            "----------\n",
            "train Loss: 0.3818 Acc: 0.8889\n",
            "test Loss: 0.4912 Acc: 0.8333\n",
            "\n",
            "Epoch 15/24\n",
            "----------\n",
            "train Loss: 0.3254 Acc: 0.8833\n",
            "test Loss: 0.3997 Acc: 0.8333\n",
            "\n",
            "Epoch 16/24\n",
            "----------\n",
            "train Loss: 0.4056 Acc: 0.8778\n",
            "test Loss: 0.3815 Acc: 0.8333\n",
            "\n",
            "Epoch 17/24\n",
            "----------\n",
            "train Loss: 0.3800 Acc: 0.8667\n",
            "test Loss: 0.3911 Acc: 0.8333\n",
            "\n",
            "Epoch 18/24\n",
            "----------\n",
            "train Loss: 0.3586 Acc: 0.8778\n",
            "test Loss: 0.3537 Acc: 0.8333\n",
            "\n",
            "Epoch 19/24\n",
            "----------\n",
            "train Loss: 0.3637 Acc: 0.8778\n",
            "test Loss: 0.3012 Acc: 0.9375\n",
            "\n",
            "Epoch 20/24\n",
            "----------\n",
            "train Loss: 0.3517 Acc: 0.8833\n",
            "test Loss: 0.5160 Acc: 0.8333\n",
            "\n",
            "Epoch 21/24\n",
            "----------\n",
            "train Loss: 0.3516 Acc: 0.8778\n",
            "test Loss: 0.3566 Acc: 0.8333\n",
            "\n",
            "Epoch 22/24\n",
            "----------\n",
            "train Loss: 0.2970 Acc: 0.8778\n",
            "test Loss: 0.3319 Acc: 0.9375\n",
            "\n",
            "Epoch 23/24\n",
            "----------\n",
            "train Loss: 0.3915 Acc: 0.8667\n",
            "test Loss: 0.3950 Acc: 0.8333\n",
            "\n",
            "Epoch 24/24\n",
            "----------\n",
            "train Loss: 0.3819 Acc: 0.8833\n",
            "test Loss: 0.3268 Acc: 0.8750\n",
            "\n",
            "학습 완료 걸린시간: 9분 22초\n",
            "Best test Acc: 0.9375\n"
          ],
          "name": "stdout"
        }
      ]
    },
    {
      "cell_type": "code",
      "metadata": {
        "id": "742TnwmNyLo5",
        "colab": {
          "base_uri": "https://localhost:8080/",
          "height": 636
        },
        "outputId": "66d7d506-8272-4add-94aa-c32a02547d96"
      },
      "source": [
        "visualize_model(model_conv)\n",
        "\n",
        "plt.ioff()\n",
        "plt.show()"
      ],
      "execution_count": 21,
      "outputs": [
        {
          "output_type": "stream",
          "text": [
            "/usr/local/lib/python3.7/dist-packages/torch/utils/data/dataloader.py:477: UserWarning: This DataLoader will create 4 worker processes in total. Our suggested max number of worker in current system is 2, which is smaller than what this DataLoader is going to create. Please be aware that excessive worker creation might get DataLoader running slow or even freeze, lower the worker number to avoid potential slowness/freeze if necessary.\n",
            "  cpuset_checked))\n"
          ],
          "name": "stderr"
        },
        {
          "output_type": "display_data",
          "data": {
            "image/png": "[encoded data removed]",
            "text/plain": [
              "<Figure size 432x288 with 1 Axes>"
            ]
          },
          "metadata": {
            "tags": [],
            "needs_background": "light"
          }
        },
        {
          "output_type": "display_data",
          "data": {
            "image/png": "[encoded data removed]",
            "text/plain": [
              "<Figure size 432x288 with 1 Axes>"
            ]
          },
          "metadata": {
            "tags": [],
            "needs_background": "light"
          }
        },
        {
          "output_type": "display_data",
          "data": {
            "image/png": "[encoded data removed]",
            "text/plain": [
              "<Figure size 432x288 with 1 Axes>"
            ]
          },
          "metadata": {
            "tags": [],
            "needs_background": "light"
          }
        },
        {
          "output_type": "display_data",
          "data": {
            "image/png": "[encoded data removed]",
            "text/plain": [
              "<Figure size 432x288 with 1 Axes>"
            ]
          },
          "metadata": {
            "tags": [],
            "needs_background": "light"
          }
        },
        {
          "output_type": "display_data",
          "data": {
            "image/png": "[encoded data removed]",
            "text/plain": [
              "<Figure size 432x288 with 1 Axes>"
            ]
          },
          "metadata": {
            "tags": [],
            "needs_background": "light"
          }
        },
        {
          "output_type": "display_data",
          "data": {
            "image/png": "[encoded data removed]",
            "text/plain": [
              "<Figure size 432x288 with 1 Axes>"
            ]
          },
          "metadata": {
            "tags": [],
            "needs_background": "light"
          }
        }
      ]
    }
  ]
}
