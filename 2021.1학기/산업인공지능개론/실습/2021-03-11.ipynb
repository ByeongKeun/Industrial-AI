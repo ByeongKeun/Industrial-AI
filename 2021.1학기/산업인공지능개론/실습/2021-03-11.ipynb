{
  "nbformat": 4,
  "nbformat_minor": 0,
  "metadata": {
    "colab": {
      "name": "Untitled3.ipynb",
      "provenance": [],
      "authorship_tag": "ABX9TyOed3GaZuJ2TJXDiPiKUwry",
      "include_colab_link": true
    },
    "kernelspec": {
      "name": "python3",
      "display_name": "Python 3"
    }
  },
  "cells": [
    {
      "cell_type": "markdown",
      "metadata": {
        "id": "view-in-github",
        "colab_type": "text"
      },
      "source": [
        "<a href=\"https://colab.research.google.com/github/ByeongKeun/Industrial-AI/blob/master/2021.1%ED%95%99%EA%B8%B0/%EC%82%B0%EC%97%85%EC%9D%B8%EA%B3%B5%EC%A7%80%EB%8A%A5%EA%B0%9C%EB%A1%A0/%EC%8B%A4%EC%8A%B5/2021-03-11.ipynb\" target=\"_parent\"><img src=\"https://colab.research.google.com/assets/colab-badge.svg\" alt=\"Open In Colab\"/></a>"
      ]
    },
    {
      "cell_type": "code",
      "metadata": {
        "colab": {
          "base_uri": "https://localhost:8080/"
        },
        "id": "0OPrahHOyosU",
        "outputId": "e3be445e-b1c1-4626-acb9-422d03b0ec65"
      },
      "source": [
        "for x in range(0,5):\r\n",
        "    print(\"환영합니다\")"
      ],
      "execution_count": 1,
      "outputs": [
        {
          "output_type": "stream",
          "text": [
            "환영합니다\n",
            "환영합니다\n",
            "환영합니다\n",
            "환영합니다\n",
            "환영합니다\n"
          ],
          "name": "stdout"
        }
      ]
    },
    {
      "cell_type": "code",
      "metadata": {
        "colab": {
          "base_uri": "https://localhost:8080/"
        },
        "id": "ed_MdccNyzt1",
        "outputId": "f88a6075-856b-4a04-d47c-823970914a3c"
      },
      "source": [
        "for name in [\"철수\", \"영희\", \"길동\", \"유신\"]:\r\n",
        "    print(\"안녕! \", name)"
      ],
      "execution_count": 2,
      "outputs": [
        {
          "output_type": "stream",
          "text": [
            "안녕!  철수\n",
            "안녕!  영희\n",
            "안녕!  길동\n",
            "안녕!  유신\n"
          ],
          "name": "stdout"
        }
      ]
    },
    {
      "cell_type": "code",
      "metadata": {
        "colab": {
          "base_uri": "https://localhost:8080/"
        },
        "id": "w5hQ8Tm0y0sX",
        "outputId": "ffb0eda4-0e61-437d-d3a1-c2041b74ae0b"
      },
      "source": [
        "#행을 바꾸고 싶지 않을때\r\n",
        "for x in [0,1,2,3,4,5,6,7,8,9]:\r\n",
        "    print(x, end=\" \")"
      ],
      "execution_count": 3,
      "outputs": [
        {
          "output_type": "stream",
          "text": [
            "0 1 2 3 4 5 6 7 8 9 "
          ],
          "name": "stdout"
        }
      ]
    },
    {
      "cell_type": "code",
      "metadata": {
        "colab": {
          "base_uri": "https://localhost:8080/"
        },
        "id": "LfL1ofwWy3fP",
        "outputId": "3a750671-d5ed-401e-8cff-8514924e24bf"
      },
      "source": [
        "for x in range(1, 15, 2):\r\n",
        "    print(\"x=\", x, end =\" \")    "
      ],
      "execution_count": 4,
      "outputs": [
        {
          "output_type": "stream",
          "text": [
            "x= 1 x= 3 x= 5 x= 7 x= 9 x= 11 x= 13 "
          ],
          "name": "stdout"
        }
      ]
    },
    {
      "cell_type": "code",
      "metadata": {
        "colab": {
          "base_uri": "https://localhost:8080/"
        },
        "id": "ZASecNJSy4qZ",
        "outputId": "cd33bedb-1020-41e4-9450-091bdff2469d"
      },
      "source": [
        "sum=0\r\n",
        "for x in range(1, 100, 2):\r\n",
        "    sum += x\r\n",
        "    \r\n",
        "print(\"sum=\", sum)"
      ],
      "execution_count": 5,
      "outputs": [
        {
          "output_type": "stream",
          "text": [
            "sum= 2500\n"
          ],
          "name": "stdout"
        }
      ]
    },
    {
      "cell_type": "code",
      "metadata": {
        "id": "UUZ4PE_ly9t5"
      },
      "source": [
        ""
      ],
      "execution_count": null,
      "outputs": []
    }
  ]
}